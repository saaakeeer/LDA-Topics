{
  "nbformat": 4,
  "nbformat_minor": 0,
  "metadata": {
    "colab": {
      "name": "the second solution",
      "provenance": [],
      "collapsed_sections": [
        "MrMqecyBMeKf"
      ]
    },
    "kernelspec": {
      "name": "python3",
      "display_name": "Python 3"
    },
    "language_info": {
      "name": "python"
    },
    "accelerator": "GPU"
  },
  "cells": [
    {
      "cell_type": "markdown",
      "source": [
        " **the second solution**"
      ],
      "metadata": {
        "id": "EbHbXiLRBwha"
      }
    },
    {
      "cell_type": "code",
      "execution_count": null,
      "metadata": {
        "colab": {
          "base_uri": "https://localhost:8080/"
        },
        "id": "377EGFtqNnl_",
        "outputId": "05b10ece-57a8-4f8a-8e78-fe11e256a285"
      },
      "outputs": [
        {
          "output_type": "stream",
          "name": "stdout",
          "text": [
            "Mounted at /content/drive\n"
          ]
        }
      ],
      "source": [
        "from google.colab import drive\n",
        "drive.mount('/content/drive')"
      ]
    },
    {
      "cell_type": "markdown",
      "source": [
        "# Read Data"
      ],
      "metadata": {
        "id": "DTM6k_LgRiXB"
      }
    },
    {
      "cell_type": "code",
      "source": [
        "import pandas as pd "
      ],
      "metadata": {
        "id": "7Qy-Sx8qNrLg"
      },
      "execution_count": null,
      "outputs": []
    },
    {
      "cell_type": "code",
      "source": [
        "npr=pd.read_excel(\"/content/drive/MyDrive/Colab Notebooks/Pubmed5k.xlsx\")"
      ],
      "metadata": {
        "id": "MoOy5n8RN2D1"
      },
      "execution_count": null,
      "outputs": []
    },
    {
      "cell_type": "code",
      "source": [
        "npr.head(10)"
      ],
      "metadata": {
        "colab": {
          "base_uri": "https://localhost:8080/",
          "height": 363
        },
        "id": "n6puYFUaN5WZ",
        "outputId": "c407955e-b573-441f-b8c4-9b9eb0a84845"
      },
      "execution_count": null,
      "outputs": [
        {
          "output_type": "execute_result",
          "data": {
            "text/plain": [
              "   ArticleID                                              Title  \\\n",
              "0   34153941  Stable Coordination Variability in Overground ...   \n",
              "1   34153942  Weak Hip Strength Increases Dynamic Knee Valgu...   \n",
              "2   34153964  Current and Future Projections of Amyotrophic ...   \n",
              "3   34153968  Disparities between Asian and Non-Asian Thromb...   \n",
              "4   34153978  Maternal Factors Predicting Loss to Follow-Up ...   \n",
              "5   34153979  Testing the feasibility and acceptability of a...   \n",
              "6   34153980  Lupus nephritis and ANCA-associated vasculitis...   \n",
              "7   34153982  Precision medicine in diabetic nephropathy and...   \n",
              "8   34153983  Precision medicine in immunoglobulin A nephrop...   \n",
              "9   34153984  Precision medicine in transplantation and hemo...   \n",
              "\n",
              "                                            Abstract  \n",
              "0  Coordination variability (CV) is commonly anal...  \n",
              "1  Clinical Scenario: Dynamic knee valgus (DKV) i...  \n",
              "2  Various methodologies have been reported to as...  \n",
              "3  As outcomes for acute ischemic stroke (AIS) va...  \n",
              "4  Because hearing loss in children can result in...  \n",
              "5  Despite growing numbers in the USA, immigrant ...  \n",
              "6  Historically the treatment of lupus nephritis ...  \n",
              "7  Progressive chronic kidney disease (CKD) in in...  \n",
              "8  Immunoglobulin A nephropathy (IgAN) is the mos...  \n",
              "9  In kidney transplantation, precision medicine ...  "
            ],
            "text/html": [
              "\n",
              "  <div id=\"df-43d9c816-64b6-4267-a796-d0072eff1ad4\">\n",
              "    <div class=\"colab-df-container\">\n",
              "      <div>\n",
              "<style scoped>\n",
              "    .dataframe tbody tr th:only-of-type {\n",
              "        vertical-align: middle;\n",
              "    }\n",
              "\n",
              "    .dataframe tbody tr th {\n",
              "        vertical-align: top;\n",
              "    }\n",
              "\n",
              "    .dataframe thead th {\n",
              "        text-align: right;\n",
              "    }\n",
              "</style>\n",
              "<table border=\"1\" class=\"dataframe\">\n",
              "  <thead>\n",
              "    <tr style=\"text-align: right;\">\n",
              "      <th></th>\n",
              "      <th>ArticleID</th>\n",
              "      <th>Title</th>\n",
              "      <th>Abstract</th>\n",
              "    </tr>\n",
              "  </thead>\n",
              "  <tbody>\n",
              "    <tr>\n",
              "      <th>0</th>\n",
              "      <td>34153941</td>\n",
              "      <td>Stable Coordination Variability in Overground ...</td>\n",
              "      <td>Coordination variability (CV) is commonly anal...</td>\n",
              "    </tr>\n",
              "    <tr>\n",
              "      <th>1</th>\n",
              "      <td>34153942</td>\n",
              "      <td>Weak Hip Strength Increases Dynamic Knee Valgu...</td>\n",
              "      <td>Clinical Scenario: Dynamic knee valgus (DKV) i...</td>\n",
              "    </tr>\n",
              "    <tr>\n",
              "      <th>2</th>\n",
              "      <td>34153964</td>\n",
              "      <td>Current and Future Projections of Amyotrophic ...</td>\n",
              "      <td>Various methodologies have been reported to as...</td>\n",
              "    </tr>\n",
              "    <tr>\n",
              "      <th>3</th>\n",
              "      <td>34153968</td>\n",
              "      <td>Disparities between Asian and Non-Asian Thromb...</td>\n",
              "      <td>As outcomes for acute ischemic stroke (AIS) va...</td>\n",
              "    </tr>\n",
              "    <tr>\n",
              "      <th>4</th>\n",
              "      <td>34153978</td>\n",
              "      <td>Maternal Factors Predicting Loss to Follow-Up ...</td>\n",
              "      <td>Because hearing loss in children can result in...</td>\n",
              "    </tr>\n",
              "    <tr>\n",
              "      <th>5</th>\n",
              "      <td>34153979</td>\n",
              "      <td>Testing the feasibility and acceptability of a...</td>\n",
              "      <td>Despite growing numbers in the USA, immigrant ...</td>\n",
              "    </tr>\n",
              "    <tr>\n",
              "      <th>6</th>\n",
              "      <td>34153980</td>\n",
              "      <td>Lupus nephritis and ANCA-associated vasculitis...</td>\n",
              "      <td>Historically the treatment of lupus nephritis ...</td>\n",
              "    </tr>\n",
              "    <tr>\n",
              "      <th>7</th>\n",
              "      <td>34153982</td>\n",
              "      <td>Precision medicine in diabetic nephropathy and...</td>\n",
              "      <td>Progressive chronic kidney disease (CKD) in in...</td>\n",
              "    </tr>\n",
              "    <tr>\n",
              "      <th>8</th>\n",
              "      <td>34153983</td>\n",
              "      <td>Precision medicine in immunoglobulin A nephrop...</td>\n",
              "      <td>Immunoglobulin A nephropathy (IgAN) is the mos...</td>\n",
              "    </tr>\n",
              "    <tr>\n",
              "      <th>9</th>\n",
              "      <td>34153984</td>\n",
              "      <td>Precision medicine in transplantation and hemo...</td>\n",
              "      <td>In kidney transplantation, precision medicine ...</td>\n",
              "    </tr>\n",
              "  </tbody>\n",
              "</table>\n",
              "</div>\n",
              "      <button class=\"colab-df-convert\" onclick=\"convertToInteractive('df-43d9c816-64b6-4267-a796-d0072eff1ad4')\"\n",
              "              title=\"Convert this dataframe to an interactive table.\"\n",
              "              style=\"display:none;\">\n",
              "        \n",
              "  <svg xmlns=\"http://www.w3.org/2000/svg\" height=\"24px\"viewBox=\"0 0 24 24\"\n",
              "       width=\"24px\">\n",
              "    <path d=\"M0 0h24v24H0V0z\" fill=\"none\"/>\n",
              "    <path d=\"M18.56 5.44l.94 2.06.94-2.06 2.06-.94-2.06-.94-.94-2.06-.94 2.06-2.06.94zm-11 1L8.5 8.5l.94-2.06 2.06-.94-2.06-.94L8.5 2.5l-.94 2.06-2.06.94zm10 10l.94 2.06.94-2.06 2.06-.94-2.06-.94-.94-2.06-.94 2.06-2.06.94z\"/><path d=\"M17.41 7.96l-1.37-1.37c-.4-.4-.92-.59-1.43-.59-.52 0-1.04.2-1.43.59L10.3 9.45l-7.72 7.72c-.78.78-.78 2.05 0 2.83L4 21.41c.39.39.9.59 1.41.59.51 0 1.02-.2 1.41-.59l7.78-7.78 2.81-2.81c.8-.78.8-2.07 0-2.86zM5.41 20L4 18.59l7.72-7.72 1.47 1.35L5.41 20z\"/>\n",
              "  </svg>\n",
              "      </button>\n",
              "      \n",
              "  <style>\n",
              "    .colab-df-container {\n",
              "      display:flex;\n",
              "      flex-wrap:wrap;\n",
              "      gap: 12px;\n",
              "    }\n",
              "\n",
              "    .colab-df-convert {\n",
              "      background-color: #E8F0FE;\n",
              "      border: none;\n",
              "      border-radius: 50%;\n",
              "      cursor: pointer;\n",
              "      display: none;\n",
              "      fill: #1967D2;\n",
              "      height: 32px;\n",
              "      padding: 0 0 0 0;\n",
              "      width: 32px;\n",
              "    }\n",
              "\n",
              "    .colab-df-convert:hover {\n",
              "      background-color: #E2EBFA;\n",
              "      box-shadow: 0px 1px 2px rgba(60, 64, 67, 0.3), 0px 1px 3px 1px rgba(60, 64, 67, 0.15);\n",
              "      fill: #174EA6;\n",
              "    }\n",
              "\n",
              "    [theme=dark] .colab-df-convert {\n",
              "      background-color: #3B4455;\n",
              "      fill: #D2E3FC;\n",
              "    }\n",
              "\n",
              "    [theme=dark] .colab-df-convert:hover {\n",
              "      background-color: #434B5C;\n",
              "      box-shadow: 0px 1px 3px 1px rgba(0, 0, 0, 0.15);\n",
              "      filter: drop-shadow(0px 1px 2px rgba(0, 0, 0, 0.3));\n",
              "      fill: #FFFFFF;\n",
              "    }\n",
              "  </style>\n",
              "\n",
              "      <script>\n",
              "        const buttonEl =\n",
              "          document.querySelector('#df-43d9c816-64b6-4267-a796-d0072eff1ad4 button.colab-df-convert');\n",
              "        buttonEl.style.display =\n",
              "          google.colab.kernel.accessAllowed ? 'block' : 'none';\n",
              "\n",
              "        async function convertToInteractive(key) {\n",
              "          const element = document.querySelector('#df-43d9c816-64b6-4267-a796-d0072eff1ad4');\n",
              "          const dataTable =\n",
              "            await google.colab.kernel.invokeFunction('convertToInteractive',\n",
              "                                                     [key], {});\n",
              "          if (!dataTable) return;\n",
              "\n",
              "          const docLinkHtml = 'Like what you see? Visit the ' +\n",
              "            '<a target=\"_blank\" href=https://colab.research.google.com/notebooks/data_table.ipynb>data table notebook</a>'\n",
              "            + ' to learn more about interactive tables.';\n",
              "          element.innerHTML = '';\n",
              "          dataTable['output_type'] = 'display_data';\n",
              "          await google.colab.output.renderOutput(dataTable, element);\n",
              "          const docLink = document.createElement('div');\n",
              "          docLink.innerHTML = docLinkHtml;\n",
              "          element.appendChild(docLink);\n",
              "        }\n",
              "      </script>\n",
              "    </div>\n",
              "  </div>\n",
              "  "
            ]
          },
          "metadata": {},
          "execution_count": 4
        }
      ]
    },
    {
      "cell_type": "code",
      "source": [
        "# Remove the columns\n",
        "papers = npr.drop(columns=['ArticleID', 'Title'], axis=1)\n",
        "\n",
        "# Print out the first rows of papers\n",
        "papers.head()"
      ],
      "metadata": {
        "colab": {
          "base_uri": "https://localhost:8080/",
          "height": 206
        },
        "id": "CIQ3dOW3N5_a",
        "outputId": "ce96aaa8-0fdb-4a8a-e5fd-20a6e78061fa"
      },
      "execution_count": null,
      "outputs": [
        {
          "output_type": "execute_result",
          "data": {
            "text/plain": [
              "                                            Abstract\n",
              "0  Coordination variability (CV) is commonly anal...\n",
              "1  Clinical Scenario: Dynamic knee valgus (DKV) i...\n",
              "2  Various methodologies have been reported to as...\n",
              "3  As outcomes for acute ischemic stroke (AIS) va...\n",
              "4  Because hearing loss in children can result in..."
            ],
            "text/html": [
              "\n",
              "  <div id=\"df-52724f40-7480-45e7-ad21-f7288d500707\">\n",
              "    <div class=\"colab-df-container\">\n",
              "      <div>\n",
              "<style scoped>\n",
              "    .dataframe tbody tr th:only-of-type {\n",
              "        vertical-align: middle;\n",
              "    }\n",
              "\n",
              "    .dataframe tbody tr th {\n",
              "        vertical-align: top;\n",
              "    }\n",
              "\n",
              "    .dataframe thead th {\n",
              "        text-align: right;\n",
              "    }\n",
              "</style>\n",
              "<table border=\"1\" class=\"dataframe\">\n",
              "  <thead>\n",
              "    <tr style=\"text-align: right;\">\n",
              "      <th></th>\n",
              "      <th>Abstract</th>\n",
              "    </tr>\n",
              "  </thead>\n",
              "  <tbody>\n",
              "    <tr>\n",
              "      <th>0</th>\n",
              "      <td>Coordination variability (CV) is commonly anal...</td>\n",
              "    </tr>\n",
              "    <tr>\n",
              "      <th>1</th>\n",
              "      <td>Clinical Scenario: Dynamic knee valgus (DKV) i...</td>\n",
              "    </tr>\n",
              "    <tr>\n",
              "      <th>2</th>\n",
              "      <td>Various methodologies have been reported to as...</td>\n",
              "    </tr>\n",
              "    <tr>\n",
              "      <th>3</th>\n",
              "      <td>As outcomes for acute ischemic stroke (AIS) va...</td>\n",
              "    </tr>\n",
              "    <tr>\n",
              "      <th>4</th>\n",
              "      <td>Because hearing loss in children can result in...</td>\n",
              "    </tr>\n",
              "  </tbody>\n",
              "</table>\n",
              "</div>\n",
              "      <button class=\"colab-df-convert\" onclick=\"convertToInteractive('df-52724f40-7480-45e7-ad21-f7288d500707')\"\n",
              "              title=\"Convert this dataframe to an interactive table.\"\n",
              "              style=\"display:none;\">\n",
              "        \n",
              "  <svg xmlns=\"http://www.w3.org/2000/svg\" height=\"24px\"viewBox=\"0 0 24 24\"\n",
              "       width=\"24px\">\n",
              "    <path d=\"M0 0h24v24H0V0z\" fill=\"none\"/>\n",
              "    <path d=\"M18.56 5.44l.94 2.06.94-2.06 2.06-.94-2.06-.94-.94-2.06-.94 2.06-2.06.94zm-11 1L8.5 8.5l.94-2.06 2.06-.94-2.06-.94L8.5 2.5l-.94 2.06-2.06.94zm10 10l.94 2.06.94-2.06 2.06-.94-2.06-.94-.94-2.06-.94 2.06-2.06.94z\"/><path d=\"M17.41 7.96l-1.37-1.37c-.4-.4-.92-.59-1.43-.59-.52 0-1.04.2-1.43.59L10.3 9.45l-7.72 7.72c-.78.78-.78 2.05 0 2.83L4 21.41c.39.39.9.59 1.41.59.51 0 1.02-.2 1.41-.59l7.78-7.78 2.81-2.81c.8-.78.8-2.07 0-2.86zM5.41 20L4 18.59l7.72-7.72 1.47 1.35L5.41 20z\"/>\n",
              "  </svg>\n",
              "      </button>\n",
              "      \n",
              "  <style>\n",
              "    .colab-df-container {\n",
              "      display:flex;\n",
              "      flex-wrap:wrap;\n",
              "      gap: 12px;\n",
              "    }\n",
              "\n",
              "    .colab-df-convert {\n",
              "      background-color: #E8F0FE;\n",
              "      border: none;\n",
              "      border-radius: 50%;\n",
              "      cursor: pointer;\n",
              "      display: none;\n",
              "      fill: #1967D2;\n",
              "      height: 32px;\n",
              "      padding: 0 0 0 0;\n",
              "      width: 32px;\n",
              "    }\n",
              "\n",
              "    .colab-df-convert:hover {\n",
              "      background-color: #E2EBFA;\n",
              "      box-shadow: 0px 1px 2px rgba(60, 64, 67, 0.3), 0px 1px 3px 1px rgba(60, 64, 67, 0.15);\n",
              "      fill: #174EA6;\n",
              "    }\n",
              "\n",
              "    [theme=dark] .colab-df-convert {\n",
              "      background-color: #3B4455;\n",
              "      fill: #D2E3FC;\n",
              "    }\n",
              "\n",
              "    [theme=dark] .colab-df-convert:hover {\n",
              "      background-color: #434B5C;\n",
              "      box-shadow: 0px 1px 3px 1px rgba(0, 0, 0, 0.15);\n",
              "      filter: drop-shadow(0px 1px 2px rgba(0, 0, 0, 0.3));\n",
              "      fill: #FFFFFF;\n",
              "    }\n",
              "  </style>\n",
              "\n",
              "      <script>\n",
              "        const buttonEl =\n",
              "          document.querySelector('#df-52724f40-7480-45e7-ad21-f7288d500707 button.colab-df-convert');\n",
              "        buttonEl.style.display =\n",
              "          google.colab.kernel.accessAllowed ? 'block' : 'none';\n",
              "\n",
              "        async function convertToInteractive(key) {\n",
              "          const element = document.querySelector('#df-52724f40-7480-45e7-ad21-f7288d500707');\n",
              "          const dataTable =\n",
              "            await google.colab.kernel.invokeFunction('convertToInteractive',\n",
              "                                                     [key], {});\n",
              "          if (!dataTable) return;\n",
              "\n",
              "          const docLinkHtml = 'Like what you see? Visit the ' +\n",
              "            '<a target=\"_blank\" href=https://colab.research.google.com/notebooks/data_table.ipynb>data table notebook</a>'\n",
              "            + ' to learn more about interactive tables.';\n",
              "          element.innerHTML = '';\n",
              "          dataTable['output_type'] = 'display_data';\n",
              "          await google.colab.output.renderOutput(dataTable, element);\n",
              "          const docLink = document.createElement('div');\n",
              "          docLink.innerHTML = docLinkHtml;\n",
              "          element.appendChild(docLink);\n",
              "        }\n",
              "      </script>\n",
              "    </div>\n",
              "  </div>\n",
              "  "
            ]
          },
          "metadata": {},
          "execution_count": 5
        }
      ]
    },
    {
      "cell_type": "markdown",
      "source": [
        "# Data Cleaning"
      ],
      "metadata": {
        "id": "seyrDMCQu1hb"
      }
    },
    {
      "cell_type": "code",
      "source": [
        "# Load the regular expression library\n",
        "import re\n",
        "\n",
        "# Remove punctuation\n",
        "papers['Abstract_processed'] = papers['Abstract'].map(lambda x: re.sub('[,\\.!?]', '', x))\n",
        "\n",
        "# Convert the titles to lowercase\n",
        "papers['Abstract_processed'] = papers['Abstract_processed'].map(lambda x: x.lower())\n",
        "\n",
        "# Print out the first rows of papers\n",
        "papers['Abstract_processed'].head()\n"
      ],
      "metadata": {
        "id": "8istk0VUOfm3",
        "colab": {
          "base_uri": "https://localhost:8080/"
        },
        "outputId": "749c886f-9b04-4afa-94d5-ca0be301ba0d"
      },
      "execution_count": null,
      "outputs": [
        {
          "output_type": "execute_result",
          "data": {
            "text/plain": [
              "0    coordination variability (cv) is commonly anal...\n",
              "1    clinical scenario: dynamic knee valgus (dkv) i...\n",
              "2    various methodologies have been reported to as...\n",
              "3    as outcomes for acute ischemic stroke (ais) va...\n",
              "4    because hearing loss in children can result in...\n",
              "Name: Abstract_processed, dtype: object"
            ]
          },
          "metadata": {},
          "execution_count": 41
        }
      ]
    },
    {
      "cell_type": "markdown",
      "source": [
        "# **Tokenize words and Clean-up text**\n",
        "tokenize each sentence into a list of words, removing punctuations and unnecessary characters altogether."
      ],
      "metadata": {
        "id": "n_XsnAZbHq3a"
      }
    },
    {
      "cell_type": "code",
      "source": [
        "import gensim\n",
        "from gensim.utils import simple_preprocess\n",
        "\n",
        "def sent_to_words(sentences):\n",
        "    for sentence in sentences:\n",
        "        yield(gensim.utils.simple_preprocess(str(sentence), deacc=True))  # deacc=True removes punctuations\n",
        "\n",
        "data = papers.Abstract_processed.values.tolist()\n",
        "data_words = list(sent_to_words(data))\n",
        "\n",
        "print(data_words[:1][0][:30])"
      ],
      "metadata": {
        "colab": {
          "base_uri": "https://localhost:8080/"
        },
        "id": "h1nYTdPRRYgm",
        "outputId": "f69f46a6-b633-49b2-c2f4-b6d154f4ab65"
      },
      "execution_count": null,
      "outputs": [
        {
          "output_type": "stream",
          "name": "stdout",
          "text": [
            "['coordination', 'variability', 'cv', 'is', 'commonly', 'analyzed', 'to', 'understand', 'dynamical', 'qualities', 'of', 'human', 'locomotion', 'the', 'purpose', 'of', 'this', 'study', 'was', 'to', 'develop', 'guidelines', 'for', 'the', 'number', 'of', 'trials', 'required', 'to', 'inform']\n"
          ]
        }
      ]
    },
    {
      "cell_type": "markdown",
      "source": [
        "# Creating Bigram and Trigram Models\n",
        "Bigrams are two words frequently occurring together in the document. Trigrams are 3 words frequently occurring."
      ],
      "metadata": {
        "id": "VfLtcOdsIdNo"
      }
    },
    {
      "cell_type": "code",
      "source": [
        "# Build the bigram and trigram models\n",
        "bigram = gensim.models.Phrases(data_words, min_count=5, threshold=100) # higher threshold fewer phrases.\n",
        "trigram = gensim.models.Phrases(bigram[data_words], threshold=100)  \n",
        "\n",
        "# Faster way to get a sentence clubbed as a trigram/bigram\n",
        "bigram_mod = gensim.models.phrases.Phraser(bigram)\n",
        "trigram_mod = gensim.models.phrases.Phraser(trigram)"
      ],
      "metadata": {
        "colab": {
          "base_uri": "https://localhost:8080/"
        },
        "id": "0CbBFxAPUWhs",
        "outputId": "a5ddc142-f7d6-424b-a2e9-f6bcd75869a3"
      },
      "execution_count": null,
      "outputs": [
        {
          "output_type": "stream",
          "name": "stderr",
          "text": [
            "/usr/local/lib/python3.7/dist-packages/gensim/models/phrases.py:598: UserWarning: For a faster implementation, use the gensim.models.phrases.Phraser class\n",
            "  warnings.warn(\"For a faster implementation, use the gensim.models.phrases.Phraser class\")\n"
          ]
        }
      ]
    },
    {
      "cell_type": "code",
      "source": [
        "# NLTK Stop words\n",
        "import nltk\n",
        "nltk.download('stopwords')\n",
        "from nltk.corpus import stopwords\n",
        "\n",
        "stop_words = stopwords.words('english')\n",
        "stop_words.extend(['from', 'subject', 're', 'edu', 'use'])"
      ],
      "metadata": {
        "colab": {
          "base_uri": "https://localhost:8080/"
        },
        "id": "ydfpkQjJVK26",
        "outputId": "7dcdac2e-083b-465e-95c0-e50e9b3249f1"
      },
      "execution_count": null,
      "outputs": [
        {
          "output_type": "stream",
          "name": "stdout",
          "text": [
            "[nltk_data] Downloading package stopwords to /root/nltk_data...\n",
            "[nltk_data]   Unzipping corpora/stopwords.zip.\n"
          ]
        }
      ]
    },
    {
      "cell_type": "markdown",
      "source": [
        "## **Remove Stopwords, Make Bigrams and Lemmatize**\n",
        "The bigrams model is ready. Let’s define the functions to remove the stopwords, make bigrams and lemmatization and call them sequentially"
      ],
      "metadata": {
        "id": "H2Maboq8JRZh"
      }
    },
    {
      "cell_type": "code",
      "source": [
        "# Define functions for stopwords, bigrams, trigrams and lemmatization\n",
        "def remove_stopwords(texts):\n",
        "    return [[word for word in simple_preprocess(str(doc)) if word not in stop_words] for doc in texts]\n",
        "\n",
        "def make_bigrams(texts):\n",
        "    return [bigram_mod[doc] for doc in texts]\n",
        "\n",
        "def make_trigrams(texts):\n",
        "    return [trigram_mod[bigram_mod[doc]] for doc in texts]\n",
        "\n",
        "def lemmatization(texts, allowed_postags=['NOUN', 'ADJ', 'VERB', 'ADV']):\n",
        "    \"\"\"https://spacy.io/api/annotation\"\"\"\n",
        "    texts_out = []\n",
        "    for sent in texts:\n",
        "        doc = nlp(\" \".join(sent)) \n",
        "        texts_out.append([token.lemma_ for token in doc if token.pos_ in allowed_postags])\n",
        "    return texts_out"
      ],
      "metadata": {
        "id": "5bu0VszEVRnA"
      },
      "execution_count": null,
      "outputs": []
    },
    {
      "cell_type": "code",
      "source": [
        "!python -m spacy download en_core_web_sm\n"
      ],
      "metadata": {
        "colab": {
          "base_uri": "https://localhost:8080/"
        },
        "id": "ohmSUqT0VZHr",
        "outputId": "873a21d0-1387-44af-bdf9-eadd02b0c739"
      },
      "execution_count": null,
      "outputs": [
        {
          "output_type": "stream",
          "name": "stdout",
          "text": [
            "Collecting en_core_web_sm==2.2.5\n",
            "  Downloading https://github.com/explosion/spacy-models/releases/download/en_core_web_sm-2.2.5/en_core_web_sm-2.2.5.tar.gz (12.0 MB)\n",
            "\u001b[K     |████████████████████████████████| 12.0 MB 7.6 MB/s \n",
            "\u001b[?25hRequirement already satisfied: spacy>=2.2.2 in /usr/local/lib/python3.7/dist-packages (from en_core_web_sm==2.2.5) (2.2.4)\n",
            "Requirement already satisfied: wasabi<1.1.0,>=0.4.0 in /usr/local/lib/python3.7/dist-packages (from spacy>=2.2.2->en_core_web_sm==2.2.5) (0.9.0)\n",
            "Requirement already satisfied: setuptools in /usr/local/lib/python3.7/dist-packages (from spacy>=2.2.2->en_core_web_sm==2.2.5) (57.4.0)\n",
            "Requirement already satisfied: numpy>=1.15.0 in /usr/local/lib/python3.7/dist-packages (from spacy>=2.2.2->en_core_web_sm==2.2.5) (1.21.5)\n",
            "Requirement already satisfied: preshed<3.1.0,>=3.0.2 in /usr/local/lib/python3.7/dist-packages (from spacy>=2.2.2->en_core_web_sm==2.2.5) (3.0.6)\n",
            "Requirement already satisfied: catalogue<1.1.0,>=0.0.7 in /usr/local/lib/python3.7/dist-packages (from spacy>=2.2.2->en_core_web_sm==2.2.5) (1.0.0)\n",
            "Requirement already satisfied: requests<3.0.0,>=2.13.0 in /usr/local/lib/python3.7/dist-packages (from spacy>=2.2.2->en_core_web_sm==2.2.5) (2.23.0)\n",
            "Requirement already satisfied: blis<0.5.0,>=0.4.0 in /usr/local/lib/python3.7/dist-packages (from spacy>=2.2.2->en_core_web_sm==2.2.5) (0.4.1)\n",
            "Requirement already satisfied: srsly<1.1.0,>=1.0.2 in /usr/local/lib/python3.7/dist-packages (from spacy>=2.2.2->en_core_web_sm==2.2.5) (1.0.5)\n",
            "Requirement already satisfied: thinc==7.4.0 in /usr/local/lib/python3.7/dist-packages (from spacy>=2.2.2->en_core_web_sm==2.2.5) (7.4.0)\n",
            "Requirement already satisfied: murmurhash<1.1.0,>=0.28.0 in /usr/local/lib/python3.7/dist-packages (from spacy>=2.2.2->en_core_web_sm==2.2.5) (1.0.6)\n",
            "Requirement already satisfied: plac<1.2.0,>=0.9.6 in /usr/local/lib/python3.7/dist-packages (from spacy>=2.2.2->en_core_web_sm==2.2.5) (1.1.3)\n",
            "Requirement already satisfied: tqdm<5.0.0,>=4.38.0 in /usr/local/lib/python3.7/dist-packages (from spacy>=2.2.2->en_core_web_sm==2.2.5) (4.63.0)\n",
            "Requirement already satisfied: cymem<2.1.0,>=2.0.2 in /usr/local/lib/python3.7/dist-packages (from spacy>=2.2.2->en_core_web_sm==2.2.5) (2.0.6)\n",
            "Requirement already satisfied: importlib-metadata>=0.20 in /usr/local/lib/python3.7/dist-packages (from catalogue<1.1.0,>=0.0.7->spacy>=2.2.2->en_core_web_sm==2.2.5) (4.11.3)\n",
            "Requirement already satisfied: typing-extensions>=3.6.4 in /usr/local/lib/python3.7/dist-packages (from importlib-metadata>=0.20->catalogue<1.1.0,>=0.0.7->spacy>=2.2.2->en_core_web_sm==2.2.5) (3.10.0.2)\n",
            "Requirement already satisfied: zipp>=0.5 in /usr/local/lib/python3.7/dist-packages (from importlib-metadata>=0.20->catalogue<1.1.0,>=0.0.7->spacy>=2.2.2->en_core_web_sm==2.2.5) (3.7.0)\n",
            "Requirement already satisfied: urllib3!=1.25.0,!=1.25.1,<1.26,>=1.21.1 in /usr/local/lib/python3.7/dist-packages (from requests<3.0.0,>=2.13.0->spacy>=2.2.2->en_core_web_sm==2.2.5) (1.24.3)\n",
            "Requirement already satisfied: certifi>=2017.4.17 in /usr/local/lib/python3.7/dist-packages (from requests<3.0.0,>=2.13.0->spacy>=2.2.2->en_core_web_sm==2.2.5) (2021.10.8)\n",
            "Requirement already satisfied: chardet<4,>=3.0.2 in /usr/local/lib/python3.7/dist-packages (from requests<3.0.0,>=2.13.0->spacy>=2.2.2->en_core_web_sm==2.2.5) (3.0.4)\n",
            "Requirement already satisfied: idna<3,>=2.5 in /usr/local/lib/python3.7/dist-packages (from requests<3.0.0,>=2.13.0->spacy>=2.2.2->en_core_web_sm==2.2.5) (2.10)\n",
            "\u001b[38;5;2m✔ Download and installation successful\u001b[0m\n",
            "You can now load the model via spacy.load('en_core_web_sm')\n"
          ]
        }
      ]
    },
    {
      "cell_type": "code",
      "source": [
        "import spacy\n",
        "\n",
        "# Remove Stop Words\n",
        "data_words_nostops = remove_stopwords(data_words)\n",
        "\n",
        "# Form Bigrams\n",
        "data_words_bigrams = make_bigrams(data_words_nostops)\n",
        "\n",
        "# Initialize spacy 'en' model, keeping only tagger component (for efficiency)\n",
        "nlp = spacy.load(\"en_core_web_sm\", disable=['parser', 'ner'])\n",
        "\n",
        "# Do lemmatization keeping only noun, adj, vb, adv\n",
        "data_lemmatized = lemmatization(data_words_bigrams, allowed_postags=['NOUN', 'ADJ', 'VERB', 'ADV'])\n",
        "\n",
        "print(data_lemmatized[:1][0][:30])"
      ],
      "metadata": {
        "colab": {
          "base_uri": "https://localhost:8080/"
        },
        "id": "6dKeVnI_Vdkg",
        "outputId": "6181ecae-43e9-4580-ecef-1221b6a4aaee"
      },
      "execution_count": null,
      "outputs": [
        {
          "output_type": "stream",
          "name": "stdout",
          "text": [
            "['coordination', 'variability', 'commonly', 'analyze', 'understand', 'dynamical', 'quality', 'locomotion', 'purpose', 'study', 'develop', 'guideline', 'number', 'trial', 'require', 'inform', 'calculation', 'stable', 'overground', 'locomotion', 'kinematic', 'capture', 'recreational', 'runner', 'perform', 'trial', 'prefer', 'fix', 'speed', 'walk']\n"
          ]
        }
      ]
    },
    {
      "cell_type": "markdown",
      "source": [
        "# Create the Dictionary and Corpus needed for Topic Modeling\n",
        "The two main inputs to the LDA topic model are the dictionary(id2word) and the corpus."
      ],
      "metadata": {
        "id": "n0cOXgs2JtuN"
      }
    },
    {
      "cell_type": "code",
      "source": [
        "import gensim.corpora as corpora\n",
        "\n",
        "# Create Dictionary\n",
        "id2word = corpora.Dictionary(data_lemmatized)\n",
        "\n",
        "# Create Corpus\n",
        "texts = data_lemmatized\n",
        "\n",
        "# Term Document Frequency\n",
        "corpus = [id2word.doc2bow(text) for text in texts]\n",
        "\n",
        "# View\n",
        "print(corpus[:1])"
      ],
      "metadata": {
        "colab": {
          "base_uri": "https://localhost:8080/"
        },
        "id": "pmtFrK9DVlxV",
        "outputId": "70f9d029-e347-4bd8-934d-7b5d1a55cd7b"
      },
      "execution_count": null,
      "outputs": [
        {
          "output_type": "stream",
          "name": "stdout",
          "text": [
            "[[(0, 1), (1, 1), (2, 1), (3, 1), (4, 1), (5, 1), (6, 1), (7, 1), (8, 2), (9, 1), (10, 1), (11, 1), (12, 1), (13, 1), (14, 1), (15, 3), (16, 1), (17, 1), (18, 1), (19, 1), (20, 1), (21, 1), (22, 1), (23, 2), (24, 1), (25, 1), (26, 1), (27, 1), (28, 2), (29, 1), (30, 1), (31, 1), (32, 1), (33, 3), (34, 2), (35, 2), (36, 2), (37, 1), (38, 1), (39, 4), (40, 1), (41, 1), (42, 1), (43, 1), (44, 1), (45, 2), (46, 1), (47, 2), (48, 1), (49, 1), (50, 1), (51, 3), (52, 1), (53, 1), (54, 2), (55, 1), (56, 1), (57, 1), (58, 3), (59, 2), (60, 2), (61, 1), (62, 1), (63, 1), (64, 2), (65, 1), (66, 8), (67, 1), (68, 1), (69, 2), (70, 1), (71, 2), (72, 2)]]\n"
          ]
        }
      ]
    },
    {
      "cell_type": "code",
      "source": [
        "id2word[0]"
      ],
      "metadata": {
        "colab": {
          "base_uri": "https://localhost:8080/",
          "height": 35
        },
        "id": "cMzaxGOTK6QP",
        "outputId": "799fb186-138d-49bf-d830-a7e10356641c"
      },
      "execution_count": null,
      "outputs": [
        {
          "output_type": "execute_result",
          "data": {
            "text/plain": [
              "'achieve'"
            ],
            "application/vnd.google.colaboratory.intrinsic+json": {
              "type": "string"
            }
          },
          "metadata": {},
          "execution_count": 24
        }
      ]
    },
    {
      "cell_type": "code",
      "source": [
        "# Human readable format of corpus (term-frequency)\n",
        "[[(id2word[id], freq) for id, freq in cp] for cp in corpus[:1]]"
      ],
      "metadata": {
        "colab": {
          "base_uri": "https://localhost:8080/"
        },
        "id": "xX-EKuptpqKf",
        "outputId": "49e03bac-d563-40c5-c60b-b473e5fd755d"
      },
      "execution_count": null,
      "outputs": [
        {
          "output_type": "execute_result",
          "data": {
            "text/plain": [
              "[[('achieve', 1),\n",
              "  ('analyze', 1),\n",
              "  ('approach', 1),\n",
              "  ('average', 1),\n",
              "  ('aware', 1),\n",
              "  ('calculated', 1),\n",
              "  ('calculation', 1),\n",
              "  ('capture', 1),\n",
              "  ('coding', 2),\n",
              "  ('commonly', 1),\n",
              "  ('compare', 1),\n",
              "  ('consequence', 1),\n",
              "  ('coordination', 1),\n",
              "  ('couple', 1),\n",
              "  ('coupling', 1),\n",
              "  ('cv', 3),\n",
              "  ('determine', 1),\n",
              "  ('develop', 1),\n",
              "  ('differ', 1),\n",
              "  ('difference', 1),\n",
              "  ('dynamical', 1),\n",
              "  ('few', 1),\n",
              "  ('finding', 1),\n",
              "  ('fix', 2),\n",
              "  ('future', 1),\n",
              "  ('guideline', 1),\n",
              "  ('healthy', 1),\n",
              "  ('individual', 1),\n",
              "  ('inform', 2),\n",
              "  ('insufficient', 1),\n",
              "  ('joint', 1),\n",
              "  ('kinematic', 1),\n",
              "  ('lead', 1),\n",
              "  ('locomotion', 3),\n",
              "  ('mean', 2),\n",
              "  ('minimum', 2),\n",
              "  ('mode', 2),\n",
              "  ('modify', 1),\n",
              "  ('notable', 1),\n",
              "  ('number', 4),\n",
              "  ('output', 1),\n",
              "  ('overall', 1),\n",
              "  ('overground', 1),\n",
              "  ('oversight', 1),\n",
              "  ('perform', 1),\n",
              "  ('phase', 2),\n",
              "  ('population', 1),\n",
              "  ('prefer', 2),\n",
              "  ('purpose', 1),\n",
              "  ('quality', 1),\n",
              "  ('recreational', 1),\n",
              "  ('require', 3),\n",
              "  ('research', 1),\n",
              "  ('researcher', 1),\n",
              "  ('run', 2),\n",
              "  ('runner', 1),\n",
              "  ('segment', 1),\n",
              "  ('significant', 1),\n",
              "  ('speed', 3),\n",
              "  ('stable', 2),\n",
              "  ('stance', 2),\n",
              "  ('standard', 1),\n",
              "  ('statistical', 1),\n",
              "  ('stride', 1),\n",
              "  ('study', 2),\n",
              "  ('technique', 1),\n",
              "  ('trial', 8),\n",
              "  ('underestimate', 1),\n",
              "  ('understand', 1),\n",
              "  ('use', 2),\n",
              "  ('variability', 1),\n",
              "  ('vector', 2),\n",
              "  ('walk', 2)]]"
            ]
          },
          "metadata": {},
          "execution_count": 26
        }
      ]
    },
    {
      "cell_type": "markdown",
      "source": [
        "# Building the Topic Model\n",
        "We have everything required to train the LDA model. In addition to the corpus and dictionary, you need to provide the number of topics as well."
      ],
      "metadata": {
        "id": "YaFnFbcKKOO6"
      }
    },
    {
      "cell_type": "code",
      "source": [
        "# Build LDA model\n",
        "lda_model = gensim.models.ldamodel.LdaModel(corpus=corpus,\n",
        "                                           id2word=id2word,\n",
        "                                           num_topics=10, \n",
        "                                           random_state=100,\n",
        "                                           update_every=1,\n",
        "                                           chunksize=100,\n",
        "                                           passes=10,\n",
        "                                           alpha='auto',\n",
        "                                           per_word_topics=True)"
      ],
      "metadata": {
        "id": "RvUI1I_lVtLl"
      },
      "execution_count": null,
      "outputs": []
    },
    {
      "cell_type": "markdown",
      "source": [
        "# View the topics in LDA model"
      ],
      "metadata": {
        "id": "KYkaeS8nKisj"
      }
    },
    {
      "cell_type": "code",
      "source": [
        "from pprint import pprint\n",
        "\n",
        "# Print the Keyword in the 10 topics\n",
        "pprint(lda_model.print_topics())\n",
        "doc_lda = lda_model[corpus]"
      ],
      "metadata": {
        "colab": {
          "base_uri": "https://localhost:8080/"
        },
        "id": "ETyuEB0aV5rB",
        "outputId": "8abd29e3-4e2d-44ae-987c-81e42f2e0909"
      },
      "execution_count": null,
      "outputs": [
        {
          "output_type": "stream",
          "name": "stdout",
          "text": [
            "[(0,\n",
            "  '0.025*\"use\" + 0.017*\"study\" + 0.016*\"base\" + 0.014*\"model\" + 0.012*\"result\" '\n",
            "  '+ 0.010*\"datum\" + 0.010*\"provide\" + 0.008*\"system\" + 0.008*\"method\" + '\n",
            "  '0.008*\"identify\"'),\n",
            " (1,\n",
            "  '0.033*\"study\" + 0.023*\"risk\" + 0.023*\"high\" + 0.020*\"group\" + 0.018*\"year\" '\n",
            "  '+ 0.016*\"age\" + 0.015*\"low\" + 0.014*\"factor\" + 0.013*\"rate\" + '\n",
            "  '0.013*\"associate\"'),\n",
            " (2,\n",
            "  '0.026*\"effect\" + 0.020*\"increase\" + 0.014*\"level\" + 0.012*\"concentration\" + '\n",
            "  '0.011*\"show\" + 0.010*\"result\" + 0.010*\"reduce\" + 0.010*\"high\" + '\n",
            "  '0.010*\"treatment\" + 0.009*\"study\"'),\n",
            " (3,\n",
            "  '0.016*\"water\" + 0.008*\"image\" + 0.007*\"implant\" + 0.007*\"surface\" + '\n",
            "  '0.007*\"show\" + 0.007*\"device\" + 0.007*\"parameter\" + 0.006*\"area\" + '\n",
            "  '0.006*\"measurement\" + 0.006*\"removal\"'),\n",
            " (4,\n",
            "  '0.014*\"stress\" + 0.014*\"paper\" + 0.010*\"parent\" + 0.009*\"scale\" + '\n",
            "  '0.009*\"literature\" + 0.009*\"network\" + 0.008*\"anxiety\" + 0.008*\"online\" + '\n",
            "  '0.008*\"pandemic\" + 0.008*\"behaviour\"'),\n",
            " (5,\n",
            "  '0.017*\"specie\" + 0.015*\"gene\" + 0.012*\"protein\" + 0.010*\"environmental\" + '\n",
            "  '0.007*\"plant\" + 0.007*\"sequence\" + 0.006*\"chemical\" + 0.006*\"structure\" + '\n",
            "  '0.006*\"mechanism\" + 0.006*\"new\"'),\n",
            " (6,\n",
            "  '0.040*\"cell\" + 0.025*\"cancer\" + 0.013*\"tumor\" + 0.013*\"disease\" + '\n",
            "  '0.012*\"virus\" + 0.011*\"role\" + 0.010*\"drug\" + 0.009*\"meet\" + 0.009*\"human\" '\n",
            "  '+ 0.009*\"target\"'),\n",
            " (7,\n",
            "  '0.106*\"patient\" + 0.031*\"treatment\" + 0.024*\"clinical\" + 0.021*\"case\" + '\n",
            "  '0.012*\"symptom\" + 0.011*\"infection\" + 0.010*\"outcome\" + 0.009*\"covid\" + '\n",
            "  '0.009*\"surgery\" + 0.008*\"follow\"'),\n",
            " (8,\n",
            "  '0.021*\"health\" + 0.014*\"study\" + 0.014*\"intervention\" + 0.013*\"participant\" '\n",
            "  '+ 0.009*\"impact\" + 0.009*\"effect\" + 0.009*\"social\" + 0.009*\"report\" + '\n",
            "  '0.009*\"community\" + 0.009*\"support\"'),\n",
            " (9,\n",
            "  '0.044*\"child\" + 0.043*\"care\" + 0.025*\"health\" + 0.021*\"service\" + '\n",
            "  '0.017*\"medical\" + 0.014*\"woman\" + 0.012*\"practice\" + 0.011*\"primary\" + '\n",
            "  '0.011*\"covid\" + 0.010*\"nurse\"')]\n"
          ]
        }
      ]
    },
    {
      "cell_type": "markdown",
      "source": [
        "# Compute Model Perplexity and Coherence Score\n",
        "Model perplexity and topic coherence provide a convenient measure to judge how good a given topic model is. In my experience, topic coherence score, in particular, has been more helpful."
      ],
      "metadata": {
        "id": "5fNzO-YOKwCV"
      }
    },
    {
      "cell_type": "code",
      "source": [
        "from gensim.models import CoherenceModel\n",
        "\n",
        "print('\\nPerplexity: ', lda_model.log_perplexity(corpus))  # a measure of how good the model is. lower the better.\n",
        "\n",
        "# Compute Coherence Score\n",
        "coherence_model_lda = CoherenceModel(model=lda_model, texts=texts, dictionary=id2word, coherence='c_v')\n",
        "coherence_lda = coherence_model_lda.get_coherence()\n",
        "print('Coherence Score: ', coherence_lda)"
      ],
      "metadata": {
        "colab": {
          "base_uri": "https://localhost:8080/"
        },
        "id": "6ufOIyUdV-bG",
        "outputId": "1f0cee77-a145-4be3-db74-613b1a6846f6"
      },
      "execution_count": null,
      "outputs": [
        {
          "output_type": "stream",
          "name": "stdout",
          "text": [
            "\n",
            "Perplexity:  -8.275261718251372\n",
            "Coherence Score:  0.4300551511466586\n"
          ]
        }
      ]
    },
    {
      "cell_type": "markdown",
      "source": [
        "# How to find the optimal number of topics for LDA?\n",
        "My approach to finding the optimal number of topics is to build many LDA models with different values of number of topics (k) and pick the one that gives the highest coherence value."
      ],
      "metadata": {
        "id": "rqVkdI6ALBF7"
      }
    },
    {
      "cell_type": "code",
      "source": [
        "def compute_coherence_values(dictionary, corpus, texts, limit, start=2, step=3):\n",
        "    \"\"\"\n",
        "    Compute c_v coherence for various number of topics\n",
        "\n",
        "    Parameters:\n",
        "    ----------\n",
        "    dictionary : Gensim dictionary\n",
        "    corpus : Gensim corpus\n",
        "    texts : List of input texts\n",
        "    limit : Max num of topics\n",
        "\n",
        "    Returns:\n",
        "    -------\n",
        "    model_list : List of LDA topic models\n",
        "    coherence_values : Coherence values corresponding to the LDA model with respective number of topics\n",
        "    \"\"\"\n",
        "    coherence_values = []\n",
        "    model_list = []\n",
        "    for num_topics in range(start, limit, step):\n",
        "        model = gensim.models.ldamodel.LdaModel(corpus=corpus,\n",
        "                                                num_topics=num_topics,\n",
        "                                                id2word=dictionary, \n",
        "                                                random_state=100)\n",
        "        model_list.append(model)\n",
        "        coherencemodel = CoherenceModel(model=model, texts=texts, dictionary=dictionary, coherence='c_v')\n",
        "        coherence_values.append(coherencemodel.get_coherence())\n",
        "\n",
        "    return model_list, coherence_values"
      ],
      "metadata": {
        "id": "U9e6jftqWNVy"
      },
      "execution_count": null,
      "outputs": []
    },
    {
      "cell_type": "code",
      "source": [
        "model_list, coherence_values = compute_coherence_values(dictionary=id2word, corpus=corpus, texts=data_lemmatized, start=2, limit=50, step=1)\n"
      ],
      "metadata": {
        "id": "tV_GeHwiWcwH"
      },
      "execution_count": null,
      "outputs": []
    },
    {
      "cell_type": "code",
      "source": [
        "# Show graph\n",
        "import matplotlib.pyplot as plt\n",
        "limit=50; start=2; step=1;\n",
        "x = range(start, limit, step)\n",
        "plt.plot(x, coherence_values)\n",
        "plt.xlabel(\"Num Topics\")\n",
        "plt.ylabel(\"Coherence score\")\n",
        "plt.legend((\"coherence_values\"), loc='best')\n",
        "plt.show()# Print the coherence scores"
      ],
      "metadata": {
        "colab": {
          "base_uri": "https://localhost:8080/",
          "height": 279
        },
        "id": "4VIMjinTXta-",
        "outputId": "dd40893f-6ecf-4e73-9a0d-58201cc6584a"
      },
      "execution_count": null,
      "outputs": [
        {
          "output_type": "display_data",
          "data": {
            "text/plain": [
              "<Figure size 432x288 with 1 Axes>"
            ],
            "image/png": "[encoded data removed]"
          },
          "metadata": {
            "needs_background": "light"
          }
        }
      ]
    },
    {
      "cell_type": "markdown",
      "source": [
        "# Choosing the optimal number of LDA topics"
      ],
      "metadata": {
        "id": "3K4UeobULcIS"
      }
    },
    {
      "cell_type": "code",
      "source": [
        "# Print the coherence scores\n",
        "for m, cv in zip(x, coherence_values):\n",
        "    print(\"Num Topics =\", m, \" has Coherence Value of\", round(cv, 4))"
      ],
      "metadata": {
        "colab": {
          "base_uri": "https://localhost:8080/"
        },
        "id": "MwBVuYLi5i9W",
        "outputId": "8085eee5-e19c-4f8b-8d68-892cfaed70be"
      },
      "execution_count": null,
      "outputs": [
        {
          "output_type": "stream",
          "name": "stdout",
          "text": [
            "Num Topics = 2  has Coherence Value of 0.2754\n",
            "Num Topics = 3  has Coherence Value of 0.2672\n",
            "Num Topics = 4  has Coherence Value of 0.2667\n",
            "Num Topics = 5  has Coherence Value of 0.2902\n",
            "Num Topics = 6  has Coherence Value of 0.2977\n",
            "Num Topics = 7  has Coherence Value of 0.3057\n",
            "Num Topics = 8  has Coherence Value of 0.3053\n",
            "Num Topics = 9  has Coherence Value of 0.3071\n",
            "Num Topics = 10  has Coherence Value of 0.3144\n",
            "Num Topics = 11  has Coherence Value of 0.3112\n",
            "Num Topics = 12  has Coherence Value of 0.3152\n",
            "Num Topics = 13  has Coherence Value of 0.3081\n",
            "Num Topics = 14  has Coherence Value of 0.307\n",
            "Num Topics = 15  has Coherence Value of 0.3073\n",
            "Num Topics = 16  has Coherence Value of 0.3138\n",
            "Num Topics = 17  has Coherence Value of 0.3058\n",
            "Num Topics = 18  has Coherence Value of 0.312\n",
            "Num Topics = 19  has Coherence Value of 0.3122\n",
            "Num Topics = 20  has Coherence Value of 0.3199\n",
            "Num Topics = 21  has Coherence Value of 0.3219\n",
            "Num Topics = 22  has Coherence Value of 0.3196\n",
            "Num Topics = 23  has Coherence Value of 0.3215\n",
            "Num Topics = 24  has Coherence Value of 0.3139\n",
            "Num Topics = 25  has Coherence Value of 0.3178\n",
            "Num Topics = 26  has Coherence Value of 0.3115\n",
            "Num Topics = 27  has Coherence Value of 0.3092\n",
            "Num Topics = 28  has Coherence Value of 0.3131\n",
            "Num Topics = 29  has Coherence Value of 0.3225\n",
            "Num Topics = 30  has Coherence Value of 0.3168\n",
            "Num Topics = 31  has Coherence Value of 0.3136\n",
            "Num Topics = 32  has Coherence Value of 0.3091\n",
            "Num Topics = 33  has Coherence Value of 0.3123\n",
            "Num Topics = 34  has Coherence Value of 0.308\n",
            "Num Topics = 35  has Coherence Value of 0.317\n",
            "Num Topics = 36  has Coherence Value of 0.3206\n",
            "Num Topics = 37  has Coherence Value of 0.3153\n",
            "Num Topics = 38  has Coherence Value of 0.3163\n",
            "Num Topics = 39  has Coherence Value of 0.318\n",
            "Num Topics = 40  has Coherence Value of 0.3078\n",
            "Num Topics = 41  has Coherence Value of 0.3081\n",
            "Num Topics = 42  has Coherence Value of 0.3151\n",
            "Num Topics = 43  has Coherence Value of 0.3179\n",
            "Num Topics = 44  has Coherence Value of 0.3047\n",
            "Num Topics = 45  has Coherence Value of 0.3232\n",
            "Num Topics = 46  has Coherence Value of 0.3306\n",
            "Num Topics = 47  has Coherence Value of 0.3175\n",
            "Num Topics = 48  has Coherence Value of 0.3134\n",
            "Num Topics = 49  has Coherence Value of 0.3099\n"
          ]
        }
      ]
    },
    {
      "cell_type": "markdown",
      "source": [
        "I will choose the model with 20 topics itself."
      ],
      "metadata": {
        "id": "ID1VzQzPLyBY"
      }
    },
    {
      "cell_type": "code",
      "source": [
        "# Select the model and print the topics\n",
        "optimal_model = model_list[8]\n",
        "model_topics = optimal_model.show_topics(formatted=False)\n",
        "optimal_model.print_topics(num_words=10)"
      ],
      "metadata": {
        "colab": {
          "base_uri": "https://localhost:8080/"
        },
        "id": "uAikm1405iqL",
        "outputId": "7455e456-040d-4ef1-f888-82902d55c28f"
      },
      "execution_count": null,
      "outputs": [
        {
          "output_type": "execute_result",
          "data": {
            "text/plain": [
              "[(0,\n",
              "  '0.019*\"patient\" + 0.015*\"study\" + 0.007*\"use\" + 0.006*\"identify\" + 0.006*\"result\" + 0.005*\"test\" + 0.005*\"analysis\" + 0.005*\"treatment\" + 0.005*\"high\" + 0.005*\"disease\"'),\n",
              " (1,\n",
              "  '0.028*\"patient\" + 0.013*\"study\" + 0.010*\"use\" + 0.007*\"include\" + 0.006*\"year\" + 0.006*\"age\" + 0.005*\"group\" + 0.005*\"high\" + 0.005*\"risk\" + 0.005*\"low\"'),\n",
              " (2,\n",
              "  '0.018*\"study\" + 0.010*\"use\" + 0.009*\"risk\" + 0.008*\"group\" + 0.007*\"high\" + 0.006*\"patient\" + 0.006*\"factor\" + 0.006*\"model\" + 0.005*\"include\" + 0.005*\"compare\"'),\n",
              " (3,\n",
              "  '0.011*\"study\" + 0.008*\"use\" + 0.008*\"high\" + 0.006*\"patient\" + 0.005*\"model\" + 0.004*\"datum\" + 0.004*\"change\" + 0.004*\"level\" + 0.004*\"risk\" + 0.004*\"effect\"'),\n",
              " (4,\n",
              "  '0.011*\"use\" + 0.007*\"study\" + 0.006*\"base\" + 0.005*\"model\" + 0.005*\"method\" + 0.005*\"cell\" + 0.005*\"show\" + 0.005*\"effect\" + 0.005*\"result\" + 0.005*\"high\"'),\n",
              " (5,\n",
              "  '0.008*\"protein\" + 0.008*\"cell\" + 0.006*\"study\" + 0.005*\"treatment\" + 0.005*\"show\" + 0.005*\"high\" + 0.005*\"use\" + 0.005*\"result\" + 0.004*\"increase\" + 0.004*\"soil\"'),\n",
              " (6,\n",
              "  '0.008*\"use\" + 0.007*\"cell\" + 0.006*\"protein\" + 0.006*\"study\" + 0.006*\"tumor\" + 0.006*\"result\" + 0.005*\"vaccine\" + 0.005*\"virus\" + 0.004*\"gene\" + 0.004*\"high\"'),\n",
              " (7,\n",
              "  '0.008*\"patient\" + 0.007*\"level\" + 0.007*\"effect\" + 0.007*\"use\" + 0.007*\"increase\" + 0.006*\"show\" + 0.006*\"result\" + 0.006*\"study\" + 0.006*\"treatment\" + 0.004*\"present\"'),\n",
              " (8,\n",
              "  '0.016*\"health\" + 0.013*\"study\" + 0.008*\"use\" + 0.008*\"intervention\" + 0.007*\"care\" + 0.007*\"include\" + 0.006*\"base\" + 0.006*\"datum\" + 0.005*\"research\" + 0.005*\"review\"'),\n",
              " (9,\n",
              "  '0.011*\"group\" + 0.009*\"patient\" + 0.008*\"high\" + 0.007*\"use\" + 0.006*\"study\" + 0.005*\"effect\" + 0.005*\"low\" + 0.005*\"cancer\" + 0.005*\"treatment\" + 0.004*\"result\"')]"
            ]
          },
          "metadata": {},
          "execution_count": 89
        }
      ]
    },
    {
      "cell_type": "markdown",
      "source": [
        ""
      ],
      "metadata": {
        "id": "nahhCz-NOfHY"
      }
    },
    {
      "cell_type": "markdown",
      "source": [
        "# visualize the clusters of documents in a 2D space using t-SNE ."
      ],
      "metadata": {
        "id": "VV8TBzhIPAdQ"
      }
    },
    {
      "cell_type": "code",
      "source": [
        "import matplotlib.colors as mcolors\n",
        "# Get topic weights and dominant topics ------------\n",
        "from sklearn.manifold import TSNE\n",
        "from bokeh.plotting import figure, output_file, show\n",
        "from bokeh.models import Label\n",
        "from bokeh.io import output_notebook\n",
        "\n",
        "# Get topic weights\n",
        "topic_weights = []\n",
        "for i, row_list in enumerate(lda_model[corpus]):\n",
        "    topic_weights.append([w for i, w in row_list[0]])\n",
        "\n",
        "# Array of topic weights    \n",
        "arr = pd.DataFrame(topic_weights).fillna(0).values\n",
        "\n",
        "# Keep the well separated points (optional)\n",
        "arr = arr[np.amax(arr, axis=1) > 0.35]\n",
        "\n",
        "# Dominant topic number in each doc\n",
        "topic_num = np.argmax(arr, axis=1)\n",
        "\n",
        "# tSNE Dimension Reduction\n",
        "tsne_model = TSNE(n_components=2, verbose=1, random_state=0, angle=.99, init='pca')\n",
        "tsne_lda = tsne_model.fit_transform(arr)\n",
        "\n",
        "# Plot the Topic Clusters using Bokeh\n",
        "output_notebook()\n",
        "n_topics = 10\n",
        "mycolors = np.array([color for name, color in mcolors.TABLEAU_COLORS.items()])\n",
        "plot = figure(title=\"t-SNE Clustering of {} LDA Topics\".format(n_topics), \n",
        "              plot_width=900, plot_height=700)\n",
        "plot.scatter(x=tsne_lda[:,0], y=tsne_lda[:,1], color=mycolors[topic_num])\n",
        "show(plot)"
      ],
      "metadata": {
        "colab": {
          "base_uri": "https://localhost:8080/",
          "height": 975
        },
        "id": "VkE6fnuaC7hd",
        "outputId": "b0336446-8174-459f-d005-054055627133"
      },
      "execution_count": null,
      "outputs": [
        {
          "output_type": "stream",
          "name": "stderr",
          "text": [
            "/usr/local/lib/python3.7/dist-packages/sklearn/manifold/_t_sne.py:793: FutureWarning: The default learning rate in TSNE will change from 200.0 to 'auto' in 1.2.\n",
            "  FutureWarning,\n"
          ]
        },
        {
          "output_type": "stream",
          "name": "stdout",
          "text": [
            "[t-SNE] Computing 91 nearest neighbors...\n",
            "[t-SNE] Indexed 2755 samples in 0.003s...\n",
            "[t-SNE] Computed neighbors for 2755 samples in 0.134s...\n",
            "[t-SNE] Computed conditional probabilities for sample 1000 / 2755\n",
            "[t-SNE] Computed conditional probabilities for sample 2000 / 2755\n",
            "[t-SNE] Computed conditional probabilities for sample 2755 / 2755\n",
            "[t-SNE] Mean sigma: 0.069056\n"
          ]
        },
        {
          "output_type": "stream",
          "name": "stderr",
          "text": [
            "/usr/local/lib/python3.7/dist-packages/sklearn/manifold/_t_sne.py:986: FutureWarning: The PCA initialization in TSNE will change to have the standard deviation of PC1 equal to 1e-4 in 1.2. This will ensure better convergence.\n",
            "  FutureWarning,\n"
          ]
        },
        {
          "output_type": "stream",
          "name": "stdout",
          "text": [
            "[t-SNE] KL divergence after 250 iterations with early exaggeration: 66.417358\n",
            "[t-SNE] KL divergence after 1000 iterations: 1.067237\n"
          ]
        },
        {
          "output_type": "display_data",
          "data": {
            "application/javascript": [
              "\n",
              "(function(root) {\n",
              "  function now() {\n",
              "    return new Date();\n",
              "  }\n",
              "\n",
              "  var force = true;\n",
              "\n",
              "  if (typeof root._bokeh_onload_callbacks === \"undefined\" || force === true) {\n",
              "    root._bokeh_onload_callbacks = [];\n",
              "    root._bokeh_is_loading = undefined;\n",
              "  }\n",
              "\n",
              "  var JS_MIME_TYPE = 'application/javascript';\n",
              "  var HTML_MIME_TYPE = 'text/html';\n",
              "  var EXEC_MIME_TYPE = 'application/vnd.bokehjs_exec.v0+json';\n",
              "  var CLASS_NAME = 'output_bokeh rendered_html';\n",
              "\n",
              "  /**\n",
              "   * Render data to the DOM node\n",
              "   */\n",
              "  function render(props, node) {\n",
              "    var script = document.createElement(\"script\");\n",
              "    node.appendChild(script);\n",
              "  }\n",
              "\n",
              "  /**\n",
              "   * Handle when an output is cleared or removed\n",
              "   */\n",
              "  function handleClearOutput(event, handle) {\n",
              "    var cell = handle.cell;\n",
              "\n",
              "    var id = cell.output_area._bokeh_element_id;\n",
              "    var server_id = cell.output_area._bokeh_server_id;\n",
              "    // Clean up Bokeh references\n",
              "    if (id != null && id in Bokeh.index) {\n",
              "      Bokeh.index[id].model.document.clear();\n",
              "      delete Bokeh.index[id];\n",
              "    }\n",
              "\n",
              "    if (server_id !== undefined) {\n",
              "      // Clean up Bokeh references\n",
              "      var cmd = \"from bokeh.io.state import curstate; print(curstate().uuid_to_server['\" + server_id + \"'].get_sessions()[0].document.roots[0]._id)\";\n",
              "      cell.notebook.kernel.execute(cmd, {\n",
              "        iopub: {\n",
              "          output: function(msg) {\n",
              "            var id = msg.content.text.trim();\n",
              "            if (id in Bokeh.index) {\n",
              "              Bokeh.index[id].model.document.clear();\n",
              "              delete Bokeh.index[id];\n",
              "            }\n",
              "          }\n",
              "        }\n",
              "      });\n",
              "      // Destroy server and session\n",
              "      var cmd = \"import bokeh.io.notebook as ion; ion.destroy_server('\" + server_id + \"')\";\n",
              "      cell.notebook.kernel.execute(cmd);\n",
              "    }\n",
              "  }\n",
              "\n",
              "  /**\n",
              "   * Handle when a new output is added\n",
              "   */\n",
              "  function handleAddOutput(event, handle) {\n",
              "    var output_area = handle.output_area;\n",
              "    var output = handle.output;\n",
              "\n",
              "    // limit handleAddOutput to display_data with EXEC_MIME_TYPE content only\n",
              "    if ((output.output_type != \"display_data\") || (!Object.prototype.hasOwnProperty.call(output.data, EXEC_MIME_TYPE))) {\n",
              "      return\n",
              "    }\n",
              "\n",
              "    var toinsert = output_area.element.find(\".\" + CLASS_NAME.split(' ')[0]);\n",
              "\n",
              "    if (output.metadata[EXEC_MIME_TYPE][\"id\"] !== undefined) {\n",
              "      toinsert[toinsert.length - 1].firstChild.textContent = output.data[JS_MIME_TYPE];\n",
              "      // store reference to embed id on output_area\n",
              "      output_area._bokeh_element_id = output.metadata[EXEC_MIME_TYPE][\"id\"];\n",
              "    }\n",
              "    if (output.metadata[EXEC_MIME_TYPE][\"server_id\"] !== undefined) {\n",
              "      var bk_div = document.createElement(\"div\");\n",
              "      bk_div.innerHTML = output.data[HTML_MIME_TYPE];\n",
              "      var script_attrs = bk_div.children[0].attributes;\n",
              "      for (var i = 0; i < script_attrs.length; i++) {\n",
              "        toinsert[toinsert.length - 1].firstChild.setAttribute(script_attrs[i].name, script_attrs[i].value);\n",
              "        toinsert[toinsert.length - 1].firstChild.textContent = bk_div.children[0].textContent\n",
              "      }\n",
              "      // store reference to server id on output_area\n",
              "      output_area._bokeh_server_id = output.metadata[EXEC_MIME_TYPE][\"server_id\"];\n",
              "    }\n",
              "  }\n",
              "\n",
              "  function register_renderer(events, OutputArea) {\n",
              "\n",
              "    function append_mime(data, metadata, element) {\n",
              "      // create a DOM node to render to\n",
              "      var toinsert = this.create_output_subarea(\n",
              "        metadata,\n",
              "        CLASS_NAME,\n",
              "        EXEC_MIME_TYPE\n",
              "      );\n",
              "      this.keyboard_manager.register_events(toinsert);\n",
              "      // Render to node\n",
              "      var props = {data: data, metadata: metadata[EXEC_MIME_TYPE]};\n",
              "      render(props, toinsert[toinsert.length - 1]);\n",
              "      element.append(toinsert);\n",
              "      return toinsert\n",
              "    }\n",
              "\n",
              "    /* Handle when an output is cleared or removed */\n",
              "    events.on('clear_output.CodeCell', handleClearOutput);\n",
              "    events.on('delete.Cell', handleClearOutput);\n",
              "\n",
              "    /* Handle when a new output is added */\n",
              "    events.on('output_added.OutputArea', handleAddOutput);\n",
              "\n",
              "    /**\n",
              "     * Register the mime type and append_mime function with output_area\n",
              "     */\n",
              "    OutputArea.prototype.register_mime_type(EXEC_MIME_TYPE, append_mime, {\n",
              "      /* Is output safe? */\n",
              "      safe: true,\n",
              "      /* Index of renderer in `output_area.display_order` */\n",
              "      index: 0\n",
              "    });\n",
              "  }\n",
              "\n",
              "  // register the mime type if in Jupyter Notebook environment and previously unregistered\n",
              "  if (root.Jupyter !== undefined) {\n",
              "    var events = require('base/js/events');\n",
              "    var OutputArea = require('notebook/js/outputarea').OutputArea;\n",
              "\n",
              "    if (OutputArea.prototype.mime_types().indexOf(EXEC_MIME_TYPE) == -1) {\n",
              "      register_renderer(events, OutputArea);\n",
              "    }\n",
              "  }\n",
              "\n",
              "  \n",
              "  if (typeof (root._bokeh_timeout) === \"undefined\" || force === true) {\n",
              "    root._bokeh_timeout = Date.now() + 5000;\n",
              "    root._bokeh_failed_load = false;\n",
              "  }\n",
              "\n",
              "  var NB_LOAD_WARNING = {'data': {'text/html':\n",
              "     \"<div style='background-color: #fdd'>\\n\"+\n",
              "     \"<p>\\n\"+\n",
              "     \"BokehJS does not appear to have successfully loaded. If loading BokehJS from CDN, this \\n\"+\n",
              "     \"may be due to a slow or bad network connection. Possible fixes:\\n\"+\n",
              "     \"</p>\\n\"+\n",
              "     \"<ul>\\n\"+\n",
              "     \"<li>re-rerun `output_notebook()` to attempt to load from CDN again, or</li>\\n\"+\n",
              "     \"<li>use INLINE resources instead, as so:</li>\\n\"+\n",
              "     \"</ul>\\n\"+\n",
              "     \"<code>\\n\"+\n",
              "     \"from bokeh.resources import INLINE\\n\"+\n",
              "     \"output_notebook(resources=INLINE)\\n\"+\n",
              "     \"</code>\\n\"+\n",
              "     \"</div>\"}};\n",
              "\n",
              "  function display_loaded() {\n",
              "    var el = document.getElementById(null);\n",
              "    if (el != null) {\n",
              "      el.textContent = \"BokehJS is loading...\";\n",
              "    }\n",
              "    if (root.Bokeh !== undefined) {\n",
              "      if (el != null) {\n",
              "        el.textContent = \"BokehJS \" + root.Bokeh.version + \" successfully loaded.\";\n",
              "      }\n",
              "    } else if (Date.now() < root._bokeh_timeout) {\n",
              "      setTimeout(display_loaded, 100)\n",
              "    }\n",
              "  }\n",
              "\n",
              "\n",
              "  function run_callbacks() {\n",
              "    try {\n",
              "      root._bokeh_onload_callbacks.forEach(function(callback) {\n",
              "        if (callback != null)\n",
              "          callback();\n",
              "      });\n",
              "    } finally {\n",
              "      delete root._bokeh_onload_callbacks\n",
              "    }\n",
              "    console.debug(\"Bokeh: all callbacks have finished\");\n",
              "  }\n",
              "\n",
              "  function load_libs(css_urls, js_urls, callback) {\n",
              "    if (css_urls == null) css_urls = [];\n",
              "    if (js_urls == null) js_urls = [];\n",
              "\n",
              "    root._bokeh_onload_callbacks.push(callback);\n",
              "    if (root._bokeh_is_loading > 0) {\n",
              "      console.debug(\"Bokeh: BokehJS is being loaded, scheduling callback at\", now());\n",
              "      return null;\n",
              "    }\n",
              "    if (js_urls == null || js_urls.length === 0) {\n",
              "      run_callbacks();\n",
              "      return null;\n",
              "    }\n",
              "    console.debug(\"Bokeh: BokehJS not loaded, scheduling load and callback at\", now());\n",
              "    root._bokeh_is_loading = css_urls.length + js_urls.length;\n",
              "\n",
              "    function on_load() {\n",
              "      root._bokeh_is_loading--;\n",
              "      if (root._bokeh_is_loading === 0) {\n",
              "        console.debug(\"Bokeh: all BokehJS libraries/stylesheets loaded\");\n",
              "        run_callbacks()\n",
              "      }\n",
              "    }\n",
              "\n",
              "    function on_error(url) {\n",
              "      console.error(\"failed to load \" + url);\n",
              "    }\n",
              "\n",
              "    for (let i = 0; i < css_urls.length; i++) {\n",
              "      const url = css_urls[i];\n",
              "      const element = document.createElement(\"link\");\n",
              "      element.onload = on_load;\n",
              "      element.onerror = on_error.bind(null, url);\n",
              "      element.rel = \"stylesheet\";\n",
              "      element.type = \"text/css\";\n",
              "      element.href = url;\n",
              "      console.debug(\"Bokeh: injecting link tag for BokehJS stylesheet: \", url);\n",
              "      document.body.appendChild(element);\n",
              "    }\n",
              "\n",
              "    const hashes = {\"https://cdn.bokeh.org/bokeh/release/bokeh-2.3.3.min.js\": \"dM3QQsP+wXdHg42wTqW85BjZQdLNNIXqlPw/BgKoExPmTG7ZLML4EGqLMfqHT6ON\", \"https://cdn.bokeh.org/bokeh/release/bokeh-tables-2.3.3.min.js\": \"8x57I4YuIfu8XyZfFo0XVr2WAT8EK4rh/uDe3wF7YuW2FNUSNEpJbsPaB1nJ2fz2\", \"https://cdn.bokeh.org/bokeh/release/bokeh-widgets-2.3.3.min.js\": \"3QTqdz9LyAm2i0sG5XTePsHec3UHWwVsrOL68SYRoAXsafvfAyqtQ+h440+qIBhS\"};\n",
              "\n",
              "    for (let i = 0; i < js_urls.length; i++) {\n",
              "      const url = js_urls[i];\n",
              "      const element = document.createElement('script');\n",
              "      element.onload = on_load;\n",
              "      element.onerror = on_error.bind(null, url);\n",
              "      element.async = false;\n",
              "      element.src = url;\n",
              "      if (url in hashes) {\n",
              "        element.crossOrigin = \"anonymous\";\n",
              "        element.integrity = \"sha384-\" + hashes[url];\n",
              "      }\n",
              "      console.debug(\"Bokeh: injecting script tag for BokehJS library: \", url);\n",
              "      document.head.appendChild(element);\n",
              "    }\n",
              "  };\n",
              "\n",
              "  function inject_raw_css(css) {\n",
              "    const element = document.createElement(\"style\");\n",
              "    element.appendChild(document.createTextNode(css));\n",
              "    document.body.appendChild(element);\n",
              "  }\n",
              "\n",
              "  \n",
              "  var js_urls = [\"https://cdn.bokeh.org/bokeh/release/bokeh-2.3.3.min.js\", \"https://cdn.bokeh.org/bokeh/release/bokeh-widgets-2.3.3.min.js\", \"https://cdn.bokeh.org/bokeh/release/bokeh-tables-2.3.3.min.js\"];\n",
              "  var css_urls = [];\n",
              "  \n",
              "\n",
              "  var inline_js = [\n",
              "    function(Bokeh) {\n",
              "      Bokeh.set_log_level(\"info\");\n",
              "    },\n",
              "    function(Bokeh) {\n",
              "    \n",
              "    \n",
              "    }\n",
              "  ];\n",
              "\n",
              "  function run_inline_js() {\n",
              "    \n",
              "    if (root.Bokeh !== undefined || force === true) {\n",
              "      \n",
              "    for (var i = 0; i < inline_js.length; i++) {\n",
              "      inline_js[i].call(root, root.Bokeh);\n",
              "    }\n",
              "    } else if (Date.now() < root._bokeh_timeout) {\n",
              "      setTimeout(run_inline_js, 100);\n",
              "    } else if (!root._bokeh_failed_load) {\n",
              "      console.log(\"Bokeh: BokehJS failed to load within specified timeout.\");\n",
              "      root._bokeh_failed_load = true;\n",
              "    } else if (force !== true) {\n",
              "      var cell = $(document.getElementById(null)).parents('.cell').data().cell;\n",
              "      cell.output_area.append_execute_result(NB_LOAD_WARNING)\n",
              "    }\n",
              "\n",
              "  }\n",
              "\n",
              "  if (root._bokeh_is_loading === 0) {\n",
              "    console.debug(\"Bokeh: BokehJS loaded, going straight to plotting\");\n",
              "    run_inline_js();\n",
              "  } else {\n",
              "    load_libs(css_urls, js_urls, function() {\n",
              "      console.debug(\"Bokeh: BokehJS plotting callback run at\", now());\n",
              "      run_inline_js();\n",
              "    });\n",
              "  }\n",
              "}(window));"
            ],
            "application/vnd.bokehjs_load.v0+json": "\n(function(root) {\n  function now() {\n    return new Date();\n  }\n\n  var force = true;\n\n  if (typeof root._bokeh_onload_callbacks === \"undefined\" || force === true) {\n    root._bokeh_onload_callbacks = [];\n    root._bokeh_is_loading = undefined;\n  }\n\n  \n\n  \n  if (typeof (root._bokeh_timeout) === \"undefined\" || force === true) {\n    root._bokeh_timeout = Date.now() + 5000;\n    root._bokeh_failed_load = false;\n  }\n\n  var NB_LOAD_WARNING = {'data': {'text/html':\n     \"<div style='background-color: #fdd'>\\n\"+\n     \"<p>\\n\"+\n     \"BokehJS does not appear to have successfully loaded. If loading BokehJS from CDN, this \\n\"+\n     \"may be due to a slow or bad network connection. Possible fixes:\\n\"+\n     \"</p>\\n\"+\n     \"<ul>\\n\"+\n     \"<li>re-rerun `output_notebook()` to attempt to load from CDN again, or</li>\\n\"+\n     \"<li>use INLINE resources instead, as so:</li>\\n\"+\n     \"</ul>\\n\"+\n     \"<code>\\n\"+\n     \"from bokeh.resources import INLINE\\n\"+\n     \"output_notebook(resources=INLINE)\\n\"+\n     \"</code>\\n\"+\n     \"</div>\"}};\n\n  function display_loaded() {\n    var el = document.getElementById(null);\n    if (el != null) {\n      el.textContent = \"BokehJS is loading...\";\n    }\n    if (root.Bokeh !== undefined) {\n      if (el != null) {\n        el.textContent = \"BokehJS \" + root.Bokeh.version + \" successfully loaded.\";\n      }\n    } else if (Date.now() < root._bokeh_timeout) {\n      setTimeout(display_loaded, 100)\n    }\n  }\n\n\n  function run_callbacks() {\n    try {\n      root._bokeh_onload_callbacks.forEach(function(callback) {\n        if (callback != null)\n          callback();\n      });\n    } finally {\n      delete root._bokeh_onload_callbacks\n    }\n    console.debug(\"Bokeh: all callbacks have finished\");\n  }\n\n  function load_libs(css_urls, js_urls, callback) {\n    if (css_urls == null) css_urls = [];\n    if (js_urls == null) js_urls = [];\n\n    root._bokeh_onload_callbacks.push(callback);\n    if (root._bokeh_is_loading > 0) {\n      console.debug(\"Bokeh: BokehJS is being loaded, scheduling callback at\", now());\n      return null;\n    }\n    if (js_urls == null || js_urls.length === 0) {\n      run_callbacks();\n      return null;\n    }\n    console.debug(\"Bokeh: BokehJS not loaded, scheduling load and callback at\", now());\n    root._bokeh_is_loading = css_urls.length + js_urls.length;\n\n    function on_load() {\n      root._bokeh_is_loading--;\n      if (root._bokeh_is_loading === 0) {\n        console.debug(\"Bokeh: all BokehJS libraries/stylesheets loaded\");\n        run_callbacks()\n      }\n    }\n\n    function on_error(url) {\n      console.error(\"failed to load \" + url);\n    }\n\n    for (let i = 0; i < css_urls.length; i++) {\n      const url = css_urls[i];\n      const element = document.createElement(\"link\");\n      element.onload = on_load;\n      element.onerror = on_error.bind(null, url);\n      element.rel = \"stylesheet\";\n      element.type = \"text/css\";\n      element.href = url;\n      console.debug(\"Bokeh: injecting link tag for BokehJS stylesheet: \", url);\n      document.body.appendChild(element);\n    }\n\n    const hashes = {\"https://cdn.bokeh.org/bokeh/release/bokeh-2.3.3.min.js\": \"dM3QQsP+wXdHg42wTqW85BjZQdLNNIXqlPw/BgKoExPmTG7ZLML4EGqLMfqHT6ON\", \"https://cdn.bokeh.org/bokeh/release/bokeh-tables-2.3.3.min.js\": \"8x57I4YuIfu8XyZfFo0XVr2WAT8EK4rh/uDe3wF7YuW2FNUSNEpJbsPaB1nJ2fz2\", \"https://cdn.bokeh.org/bokeh/release/bokeh-widgets-2.3.3.min.js\": \"3QTqdz9LyAm2i0sG5XTePsHec3UHWwVsrOL68SYRoAXsafvfAyqtQ+h440+qIBhS\"};\n\n    for (let i = 0; i < js_urls.length; i++) {\n      const url = js_urls[i];\n      const element = document.createElement('script');\n      element.onload = on_load;\n      element.onerror = on_error.bind(null, url);\n      element.async = false;\n      element.src = url;\n      if (url in hashes) {\n        element.crossOrigin = \"anonymous\";\n        element.integrity = \"sha384-\" + hashes[url];\n      }\n      console.debug(\"Bokeh: injecting script tag for BokehJS library: \", url);\n      document.head.appendChild(element);\n    }\n  };\n\n  function inject_raw_css(css) {\n    const element = document.createElement(\"style\");\n    element.appendChild(document.createTextNode(css));\n    document.body.appendChild(element);\n  }\n\n  \n  var js_urls = [\"https://cdn.bokeh.org/bokeh/release/bokeh-2.3.3.min.js\", \"https://cdn.bokeh.org/bokeh/release/bokeh-widgets-2.3.3.min.js\", \"https://cdn.bokeh.org/bokeh/release/bokeh-tables-2.3.3.min.js\"];\n  var css_urls = [];\n  \n\n  var inline_js = [\n    function(Bokeh) {\n      Bokeh.set_log_level(\"info\");\n    },\n    function(Bokeh) {\n    \n    \n    }\n  ];\n\n  function run_inline_js() {\n    \n    if (root.Bokeh !== undefined || force === true) {\n      \n    for (var i = 0; i < inline_js.length; i++) {\n      inline_js[i].call(root, root.Bokeh);\n    }\n    } else if (Date.now() < root._bokeh_timeout) {\n      setTimeout(run_inline_js, 100);\n    } else if (!root._bokeh_failed_load) {\n      console.log(\"Bokeh: BokehJS failed to load within specified timeout.\");\n      root._bokeh_failed_load = true;\n    } else if (force !== true) {\n      var cell = $(document.getElementById(null)).parents('.cell').data().cell;\n      cell.output_area.append_execute_result(NB_LOAD_WARNING)\n    }\n\n  }\n\n  if (root._bokeh_is_loading === 0) {\n    console.debug(\"Bokeh: BokehJS loaded, going straight to plotting\");\n    run_inline_js();\n  } else {\n    load_libs(css_urls, js_urls, function() {\n      console.debug(\"Bokeh: BokehJS plotting callback run at\", now());\n      run_inline_js();\n    });\n  }\n}(window));"
          },
          "metadata": {}
        },
        {
          "output_type": "display_data",
          "data": {
            "text/html": [
              "\n",
              "\n",
              "\n",
              "\n",
              "\n",
              "\n",
              "  <div class=\"bk-root\" id=\"63fe24ef-0475-45f2-b401-137c88af7454\" data-root-id=\"1359\"></div>\n"
            ]
          },
          "metadata": {}
        },
        {
          "output_type": "display_data",
          "data": {
            "application/javascript": [
              "(function(root) {\n",
              "  function embed_document(root) {\n",
              "    \n",
              "  var docs_json = {\"5a94d4c9-5ff8-4186-aeaa-f2aa953babdb\":{\"defs\":[],\"roots\":{\"references\":[{\"attributes\":{\"below\":[{\"id\":\"1370\"}],\"center\":[{\"id\":\"1373\"},{\"id\":\"1377\"}],\"height\":700,\"left\":[{\"id\":\"1374\"}],\"renderers\":[{\"id\":\"1395\"}],\"title\":{\"id\":\"1360\"},\"toolbar\":{\"id\":\"1385\"},\"width\":900,\"x_range\":{\"id\":\"1362\"},\"x_scale\":{\"id\":\"1366\"},\"y_range\":{\"id\":\"1364\"},\"y_scale\":{\"id\":\"1368\"}},\"id\":\"1359\",\"subtype\":\"Figure\",\"type\":\"Plot\"},{\"attributes\":{},\"id\":\"1428\",\"type\":\"BasicTickFormatter\"},{\"attributes\":{\"formatter\":{\"id\":\"1431\"},\"major_label_policy\":{\"id\":\"1433\"},\"ticker\":{\"id\":\"1375\"}},\"id\":\"1374\",\"type\":\"LinearAxis\"},{\"attributes\":{\"data_source\":{\"id\":\"1392\"},\"glyph\":{\"id\":\"1393\"},\"hover_glyph\":null,\"muted_glyph\":null,\"nonselection_glyph\":{\"id\":\"1394\"},\"view\":{\"id\":\"1396\"}},\"id\":\"1395\",\"type\":\"GlyphRenderer\"},{\"attributes\":{},\"id\":\"1383\",\"type\":\"HelpTool\"},{\"attributes\":{},\"id\":\"1378\",\"type\":\"PanTool\"},{\"attributes\":{},\"id\":\"1431\",\"type\":\"BasicTickFormatter\"},{\"attributes\":{},\"id\":\"1379\",\"type\":\"WheelZoomTool\"},{\"attributes\":{},\"id\":\"1368\",\"type\":\"LinearScale\"},{\"attributes\":{\"data\":{\"fill_color\":[\"#2ca02c\",\"#ff7f0e\",\"#1f77b4\",\"#ff7f0e\",\"#1f77b4\",\"#1f77b4\",\"#1f77b4\",\"#1f77b4\",\"#8c564b\",\"#1f77b4\",\"#2ca02c\",\"#1f77b4\",\"#1f77b4\",\"#8c564b\",\"#9467bd\",\"#2ca02c\",\"#e377c2\",\"#8c564b\",\"#8c564b\",\"#2ca02c\",\"#8c564b\",\"#1f77b4\",\"#1f77b4\",\"#2ca02c\",\"#1f77b4\",\"#ff7f0e\",\"#2ca02c\",\"#1f77b4\",\"#ff7f0e\",\"#1f77b4\",\"#2ca02c\",\"#8c564b\",\"#ff7f0e\",\"#d62728\",\"#ff7f0e\",\"#1f77b4\",\"#1f77b4\",\"#e377c2\",\"#1f77b4\",\"#1f77b4\",\"#1f77b4\",\"#9467bd\",\"#ff7f0e\",\"#ff7f0e\",\"#8c564b\",\"#d62728\",\"#8c564b\",\"#1f77b4\",\"#d62728\",\"#9467bd\",\"#1f77b4\",\"#1f77b4\",\"#8c564b\",\"#2ca02c\",\"#2ca02c\",\"#bcbd22\",\"#1f77b4\",\"#2ca02c\",\"#ff7f0e\",\"#d62728\",\"#9467bd\",\"#1f77b4\",\"#1f77b4\",\"#1f77b4\",\"#e377c2\",\"#1f77b4\",\"#1f77b4\",\"#1f77b4\",\"#d62728\",\"#8c564b\",\"#e377c2\",\"#7f7f7f\",\"#e377c2\",\"#8c564b\",\"#1f77b4\",\"#8c564b\",\"#ff7f0e\",\"#9467bd\",\"#ff7f0e\",\"#1f77b4\",\"#d62728\",\"#8c564b\",\"#9467bd\",\"#e377c2\",\"#e377c2\",\"#8c564b\",\"#ff7f0e\",\"#d62728\",\"#e377c2\",\"#e377c2\",\"#ff7f0e\",\"#ff7f0e\",\"#d62728\",\"#2ca02c\",\"#8c564b\",\"#d62728\",\"#ff7f0e\",\"#ff7f0e\",\"#d62728\",\"#2ca02c\",\"#1f77b4\",\"#ff7f0e\",\"#ff7f0e\",\"#ff7f0e\",\"#e377c2\",\"#1f77b4\",\"#7f7f7f\",\"#ff7f0e\",\"#e377c2\",\"#1f77b4\",\"#1f77b4\",\"#9467bd\",\"#8c564b\",\"#7f7f7f\",\"#d62728\",\"#8c564b\",\"#d62728\",\"#2ca02c\",\"#2ca02c\",\"#8c564b\",\"#8c564b\",\"#e377c2\",\"#9467bd\",\"#8c564b\",\"#9467bd\",\"#e377c2\",\"#2ca02c\",\"#8c564b\",\"#9467bd\",\"#2ca02c\",\"#9467bd\",\"#8c564b\",\"#ff7f0e\",\"#2ca02c\",\"#d62728\",\"#2ca02c\",\"#e377c2\",\"#2ca02c\",\"#9467bd\",\"#2ca02c\",\"#7f7f7f\",\"#ff7f0e\",\"#1f77b4\",\"#8c564b\",\"#ff7f0e\",\"#ff7f0e\",\"#9467bd\",\"#1f77b4\",\"#ff7f0e\",\"#ff7f0e\",\"#8c564b\",\"#ff7f0e\",\"#ff7f0e\",\"#2ca02c\",\"#ff7f0e\",\"#1f77b4\",\"#8c564b\",\"#ff7f0e\",\"#e377c2\",\"#ff7f0e\",\"#8c564b\",\"#9467bd\",\"#8c564b\",\"#9467bd\",\"#e377c2\",\"#ff7f0e\",\"#1f77b4\",\"#ff7f0e\",\"#ff7f0e\",\"#1f77b4\",\"#1f77b4\",\"#9467bd\",\"#1f77b4\",\"#8c564b\",\"#ff7f0e\",\"#1f77b4\",\"#2ca02c\",\"#1f77b4\",\"#9467bd\",\"#e377c2\",\"#2ca02c\",\"#1f77b4\",\"#8c564b\",\"#1f77b4\",\"#1f77b4\",\"#1f77b4\",\"#9467bd\",\"#d62728\",\"#8c564b\",\"#8c564b\",\"#8c564b\",\"#9467bd\",\"#8c564b\",\"#9467bd\",\"#8c564b\",\"#d62728\",\"#1f77b4\",\"#8c564b\",\"#1f77b4\",\"#2ca02c\",\"#1f77b4\",\"#ff7f0e\",\"#e377c2\",\"#e377c2\",\"#8c564b\",\"#8c564b\",\"#e377c2\",\"#ff7f0e\",\"#e377c2\",\"#2ca02c\",\"#e377c2\",\"#d62728\",\"#ff7f0e\",\"#ff7f0e\",\"#1f77b4\",\"#ff7f0e\",\"#d62728\",\"#ff7f0e\",\"#ff7f0e\",\"#e377c2\",\"#8c564b\",\"#8c564b\",\"#1f77b4\",\"#d62728\",\"#9467bd\",\"#2ca02c\",\"#ff7f0e\",\"#8c564b\",\"#ff7f0e\",\"#1f77b4\",\"#ff7f0e\",\"#8c564b\",\"#1f77b4\",\"#d62728\",\"#1f77b4\",\"#8c564b\",\"#7f7f7f\",\"#e377c2\",\"#1f77b4\",\"#1f77b4\",\"#9467bd\",\"#d62728\",\"#9467bd\",\"#1f77b4\",\"#8c564b\",\"#1f77b4\",\"#d62728\",\"#1f77b4\",\"#d62728\",\"#7f7f7f\",\"#ff7f0e\",\"#9467bd\",\"#1f77b4\",\"#1f77b4\",\"#1f77b4\",\"#1f77b4\",\"#1f77b4\",\"#1f77b4\",\"#1f77b4\",\"#e377c2\",\"#9467bd\",\"#d62728\",\"#8c564b\",\"#8c564b\",\"#1f77b4\",\"#1f77b4\",\"#2ca02c\",\"#9467bd\",\"#9467bd\",\"#ff7f0e\",\"#2ca02c\",\"#1f77b4\",\"#1f77b4\",\"#ff7f0e\",\"#7f7f7f\",\"#7f7f7f\",\"#8c564b\",\"#1f77b4\",\"#ff7f0e\",\"#d62728\",\"#8c564b\",\"#2ca02c\",\"#1f77b4\",\"#ff7f0e\",\"#2ca02c\",\"#8c564b\",\"#ff7f0e\",\"#d62728\",\"#2ca02c\",\"#d62728\",\"#1f77b4\",\"#1f77b4\",\"#9467bd\",\"#8c564b\",\"#d62728\",\"#1f77b4\",\"#1f77b4\",\"#1f77b4\",\"#2ca02c\",\"#1f77b4\",\"#9467bd\",\"#1f77b4\",\"#bcbd22\",\"#ff7f0e\",\"#2ca02c\",\"#e377c2\",\"#d62728\",\"#d62728\",\"#d62728\",\"#e377c2\",\"#1f77b4\",\"#e377c2\",\"#9467bd\",\"#e377c2\",\"#7f7f7f\",\"#ff7f0e\",\"#ff7f0e\",\"#9467bd\",\"#1f77b4\",\"#ff7f0e\",\"#ff7f0e\",\"#ff7f0e\",\"#8c564b\",\"#ff7f0e\",\"#1f77b4\",\"#7f7f7f\",\"#ff7f0e\",\"#8c564b\",\"#1f77b4\",\"#ff7f0e\",\"#1f77b4\",\"#ff7f0e\",\"#e377c2\",\"#ff7f0e\",\"#2ca02c\",\"#d62728\",\"#ff7f0e\",\"#ff7f0e\",\"#d62728\",\"#1f77b4\",\"#2ca02c\",\"#9467bd\",\"#ff7f0e\",\"#ff7f0e\",\"#1f77b4\",\"#1f77b4\",\"#8c564b\",\"#1f77b4\",\"#8c564b\",\"#ff7f0e\",\"#1f77b4\",\"#1f77b4\",\"#1f77b4\",\"#8c564b\",\"#1f77b4\",\"#ff7f0e\",\"#e377c2\",\"#1f77b4\",\"#8c564b\",\"#8c564b\",\"#1f77b4\",\"#9467bd\",\"#e377c2\",\"#e377c2\",\"#2ca02c\",\"#e377c2\",\"#d62728\",\"#9467bd\",\"#9467bd\",\"#1f77b4\",\"#1f77b4\",\"#9467bd\",\"#1f77b4\",\"#1f77b4\",\"#8c564b\",\"#9467bd\",\"#1f77b4\",\"#9467bd\",\"#d62728\",\"#9467bd\",\"#e377c2\",\"#1f77b4\",\"#1f77b4\",\"#d62728\",\"#2ca02c\",\"#d62728\",\"#1f77b4\",\"#ff7f0e\",\"#8c564b\",\"#e377c2\",\"#ff7f0e\",\"#ff7f0e\",\"#9467bd\",\"#ff7f0e\",\"#1f77b4\",\"#8c564b\",\"#8c564b\",\"#d62728\",\"#1f77b4\",\"#d62728\",\"#1f77b4\",\"#1f77b4\",\"#2ca02c\",\"#e377c2\",\"#8c564b\",\"#2ca02c\",\"#ff7f0e\",\"#ff7f0e\",\"#ff7f0e\",\"#1f77b4\",\"#1f77b4\",\"#1f77b4\",\"#2ca02c\",\"#1f77b4\",\"#1f77b4\",\"#1f77b4\",\"#1f77b4\",\"#8c564b\",\"#7f7f7f\",\"#8c564b\",\"#8c564b\",\"#e377c2\",\"#e377c2\",\"#9467bd\",\"#e377c2\",\"#1f77b4\",\"#1f77b4\",\"#1f77b4\",\"#1f77b4\",\"#1f77b4\",\"#8c564b\",\"#ff7f0e\",\"#1f77b4\",\"#ff7f0e\",\"#2ca02c\",\"#ff7f0e\",\"#d62728\",\"#9467bd\",\"#8c564b\",\"#2ca02c\",\"#8c564b\",\"#8c564b\",\"#8c564b\",\"#e377c2\",\"#2ca02c\",\"#e377c2\",\"#2ca02c\",\"#2ca02c\",\"#2ca02c\",\"#d62728\",\"#d62728\",\"#9467bd\",\"#9467bd\",\"#1f77b4\",\"#9467bd\",\"#8c564b\",\"#2ca02c\",\"#1f77b4\",\"#ff7f0e\",\"#8c564b\",\"#ff7f0e\",\"#8c564b\",\"#ff7f0e\",\"#9467bd\",\"#1f77b4\",\"#e377c2\",\"#1f77b4\",\"#d62728\",\"#ff7f0e\",\"#d62728\",\"#8c564b\",\"#8c564b\",\"#ff7f0e\",\"#9467bd\",\"#2ca02c\",\"#1f77b4\",\"#ff7f0e\",\"#ff7f0e\",\"#ff7f0e\",\"#1f77b4\",\"#1f77b4\",\"#ff7f0e\",\"#1f77b4\",\"#1f77b4\",\"#2ca02c\",\"#1f77b4\",\"#1f77b4\",\"#2ca02c\",\"#1f77b4\",\"#1f77b4\",\"#1f77b4\",\"#ff7f0e\",\"#1f77b4\",\"#d62728\",\"#2ca02c\",\"#1f77b4\",\"#1f77b4\",\"#d62728\",\"#ff7f0e\",\"#9467bd\",\"#8c564b\",\"#1f77b4\",\"#1f77b4\",\"#1f77b4\",\"#1f77b4\",\"#2ca02c\",\"#1f77b4\",\"#ff7f0e\",\"#2ca02c\",\"#1f77b4\",\"#ff7f0e\",\"#8c564b\",\"#d62728\",\"#2ca02c\",\"#ff7f0e\",\"#ff7f0e\",\"#9467bd\",\"#ff7f0e\",\"#8c564b\",\"#ff7f0e\",\"#ff7f0e\",\"#1f77b4\",\"#2ca02c\",\"#9467bd\",\"#d62728\",\"#1f77b4\",\"#ff7f0e\",\"#ff7f0e\",\"#1f77b4\",\"#e377c2\",\"#1f77b4\",\"#1f77b4\",\"#1f77b4\",\"#8c564b\",\"#1f77b4\",\"#2ca02c\",\"#d62728\",\"#8c564b\",\"#ff7f0e\",\"#1f77b4\",\"#9467bd\",\"#ff7f0e\",\"#2ca02c\",\"#8c564b\",\"#8c564b\",\"#1f77b4\",\"#9467bd\",\"#1f77b4\",\"#8c564b\",\"#ff7f0e\",\"#ff7f0e\",\"#ff7f0e\",\"#9467bd\",\"#ff7f0e\",\"#ff7f0e\",\"#9467bd\",\"#7f7f7f\",\"#1f77b4\",\"#1f77b4\",\"#1f77b4\",\"#e377c2\",\"#ff7f0e\",\"#ff7f0e\",\"#1f77b4\",\"#ff7f0e\",\"#8c564b\",\"#ff7f0e\",\"#1f77b4\",\"#7f7f7f\",\"#ff7f0e\",\"#1f77b4\",\"#e377c2\",\"#8c564b\",\"#9467bd\",\"#1f77b4\",\"#8c564b\",\"#1f77b4\",\"#2ca02c\",\"#e377c2\",\"#7f7f7f\",\"#ff7f0e\",\"#8c564b\",\"#9467bd\",\"#bcbd22\",\"#7f7f7f\",\"#1f77b4\",\"#9467bd\",\"#1f77b4\",\"#8c564b\",\"#1f77b4\",\"#1f77b4\",\"#8c564b\",\"#ff7f0e\",\"#1f77b4\",\"#e377c2\",\"#ff7f0e\",\"#ff7f0e\",\"#8c564b\",\"#1f77b4\",\"#1f77b4\",\"#9467bd\",\"#8c564b\",\"#7f7f7f\",\"#1f77b4\",\"#1f77b4\",\"#1f77b4\",\"#8c564b\",\"#1f77b4\",\"#2ca02c\",\"#2ca02c\",\"#1f77b4\",\"#d62728\",\"#2ca02c\",\"#e377c2\",\"#ff7f0e\",\"#1f77b4\",\"#9467bd\",\"#ff7f0e\",\"#ff7f0e\",\"#e377c2\",\"#1f77b4\",\"#1f77b4\",\"#ff7f0e\",\"#d62728\",\"#ff7f0e\",\"#ff7f0e\",\"#1f77b4\",\"#1f77b4\",\"#ff7f0e\",\"#ff7f0e\",\"#ff7f0e\",\"#ff7f0e\",\"#ff7f0e\",\"#9467bd\",\"#1f77b4\",\"#d62728\",\"#1f77b4\",\"#e377c2\",\"#ff7f0e\",\"#d62728\",\"#1f77b4\",\"#ff7f0e\",\"#1f77b4\",\"#1f77b4\",\"#2ca02c\",\"#1f77b4\",\"#2ca02c\",\"#8c564b\",\"#9467bd\",\"#1f77b4\",\"#1f77b4\",\"#1f77b4\",\"#e377c2\",\"#ff7f0e\",\"#ff7f0e\",\"#d62728\",\"#1f77b4\",\"#1f77b4\",\"#ff7f0e\",\"#ff7f0e\",\"#8c564b\",\"#1f77b4\",\"#1f77b4\",\"#ff7f0e\",\"#ff7f0e\",\"#8c564b\",\"#1f77b4\",\"#d62728\",\"#1f77b4\",\"#8c564b\",\"#2ca02c\",\"#1f77b4\",\"#2ca02c\",\"#8c564b\",\"#1f77b4\",\"#8c564b\",\"#9467bd\",\"#1f77b4\",\"#2ca02c\",\"#1f77b4\",\"#1f77b4\",\"#9467bd\",\"#8c564b\",\"#2ca02c\",\"#e377c2\",\"#8c564b\",\"#1f77b4\",\"#1f77b4\",\"#8c564b\",\"#8c564b\",\"#1f77b4\",\"#2ca02c\",\"#9467bd\",\"#8c564b\",\"#1f77b4\",\"#1f77b4\",\"#2ca02c\",\"#8c564b\",\"#1f77b4\",\"#2ca02c\",\"#1f77b4\",\"#8c564b\",\"#9467bd\",\"#2ca02c\",\"#1f77b4\",\"#8c564b\",\"#1f77b4\",\"#e377c2\",\"#d62728\",\"#e377c2\",\"#7f7f7f\",\"#d62728\",\"#1f77b4\",\"#1f77b4\",\"#1f77b4\",\"#8c564b\",\"#ff7f0e\",\"#1f77b4\",\"#e377c2\",\"#ff7f0e\",\"#1f77b4\",\"#9467bd\",\"#1f77b4\",\"#e377c2\",\"#1f77b4\",\"#e377c2\",\"#ff7f0e\",\"#1f77b4\",\"#1f77b4\",\"#2ca02c\",\"#1f77b4\",\"#d62728\",\"#1f77b4\",\"#9467bd\",\"#1f77b4\",\"#2ca02c\",\"#ff7f0e\",\"#9467bd\",\"#e377c2\",\"#bcbd22\",\"#2ca02c\",\"#1f77b4\",\"#1f77b4\",\"#ff7f0e\",\"#ff7f0e\",\"#9467bd\",\"#ff7f0e\",\"#ff7f0e\",\"#1f77b4\",\"#ff7f0e\",\"#ff7f0e\",\"#7f7f7f\",\"#7f7f7f\",\"#7f7f7f\",\"#e377c2\",\"#9467bd\",\"#ff7f0e\",\"#ff7f0e\",\"#e377c2\",\"#1f77b4\",\"#1f77b4\",\"#1f77b4\",\"#1f77b4\",\"#8c564b\",\"#ff7f0e\",\"#8c564b\",\"#ff7f0e\",\"#9467bd\",\"#ff7f0e\",\"#7f7f7f\",\"#1f77b4\",\"#ff7f0e\",\"#1f77b4\",\"#ff7f0e\",\"#8c564b\",\"#1f77b4\",\"#ff7f0e\",\"#2ca02c\",\"#d62728\",\"#1f77b4\",\"#1f77b4\",\"#1f77b4\",\"#8c564b\",\"#d62728\",\"#ff7f0e\",\"#2ca02c\",\"#9467bd\",\"#2ca02c\",\"#1f77b4\",\"#1f77b4\",\"#ff7f0e\",\"#1f77b4\",\"#d62728\",\"#2ca02c\",\"#e377c2\",\"#e377c2\",\"#7f7f7f\",\"#e377c2\",\"#1f77b4\",\"#ff7f0e\",\"#ff7f0e\",\"#2ca02c\",\"#9467bd\",\"#2ca02c\",\"#2ca02c\",\"#2ca02c\",\"#8c564b\",\"#9467bd\",\"#9467bd\",\"#ff7f0e\",\"#ff7f0e\",\"#ff7f0e\",\"#ff7f0e\",\"#8c564b\",\"#ff7f0e\",\"#ff7f0e\",\"#ff7f0e\",\"#8c564b\",\"#e377c2\",\"#e377c2\",\"#ff7f0e\",\"#2ca02c\",\"#e377c2\",\"#8c564b\",\"#e377c2\",\"#e377c2\",\"#8c564b\",\"#9467bd\",\"#7f7f7f\",\"#8c564b\",\"#ff7f0e\",\"#8c564b\",\"#ff7f0e\",\"#d62728\",\"#8c564b\",\"#8c564b\",\"#ff7f0e\",\"#1f77b4\",\"#ff7f0e\",\"#1f77b4\",\"#1f77b4\",\"#1f77b4\",\"#1f77b4\",\"#1f77b4\",\"#e377c2\",\"#1f77b4\",\"#d62728\",\"#8c564b\",\"#2ca02c\",\"#1f77b4\",\"#8c564b\",\"#1f77b4\",\"#8c564b\",\"#1f77b4\",\"#ff7f0e\",\"#8c564b\",\"#ff7f0e\",\"#8c564b\",\"#1f77b4\",\"#1f77b4\",\"#ff7f0e\",\"#1f77b4\",\"#2ca02c\",\"#8c564b\",\"#8c564b\",\"#9467bd\",\"#1f77b4\",\"#8c564b\",\"#9467bd\",\"#1f77b4\",\"#1f77b4\",\"#8c564b\",\"#1f77b4\",\"#9467bd\",\"#2ca02c\",\"#e377c2\",\"#e377c2\",\"#ff7f0e\",\"#1f77b4\",\"#8c564b\",\"#8c564b\",\"#1f77b4\",\"#8c564b\",\"#1f77b4\",\"#1f77b4\",\"#e377c2\",\"#1f77b4\",\"#1f77b4\",\"#1f77b4\",\"#1f77b4\",\"#8c564b\",\"#8c564b\",\"#1f77b4\",\"#1f77b4\",\"#1f77b4\",\"#9467bd\",\"#e377c2\",\"#1f77b4\",\"#1f77b4\",\"#7f7f7f\",\"#1f77b4\",\"#ff7f0e\",\"#8c564b\",\"#9467bd\",\"#9467bd\",\"#7f7f7f\",\"#8c564b\",\"#d62728\",\"#1f77b4\",\"#8c564b\",\"#ff7f0e\",\"#8c564b\",\"#8c564b\",\"#9467bd\",\"#ff7f0e\",\"#e377c2\",\"#1f77b4\",\"#9467bd\",\"#9467bd\",\"#1f77b4\",\"#e377c2\",\"#2ca02c\",\"#ff7f0e\",\"#1f77b4\",\"#8c564b\",\"#8c564b\",\"#1f77b4\",\"#1f77b4\",\"#ff7f0e\",\"#8c564b\",\"#9467bd\",\"#1f77b4\",\"#e377c2\",\"#1f77b4\",\"#ff7f0e\",\"#d62728\",\"#ff7f0e\",\"#7f7f7f\",\"#8c564b\",\"#1f77b4\",\"#8c564b\",\"#8c564b\",\"#8c564b\",\"#1f77b4\",\"#2ca02c\",\"#2ca02c\",\"#2ca02c\",\"#1f77b4\",\"#1f77b4\",\"#9467bd\",\"#9467bd\",\"#e377c2\",\"#1f77b4\",\"#e377c2\",\"#8c564b\",\"#ff7f0e\",\"#ff7f0e\",\"#ff7f0e\",\"#8c564b\",\"#ff7f0e\",\"#ff7f0e\",\"#8c564b\",\"#1f77b4\",\"#1f77b4\",\"#1f77b4\",\"#bcbd22\",\"#bcbd22\",\"#bcbd22\",\"#bcbd22\",\"#d62728\",\"#8c564b\",\"#8c564b\",\"#9467bd\",\"#9467bd\",\"#8c564b\",\"#1f77b4\",\"#1f77b4\",\"#8c564b\",\"#9467bd\",\"#e377c2\",\"#8c564b\",\"#8c564b\",\"#e377c2\",\"#d62728\",\"#1f77b4\",\"#9467bd\",\"#9467bd\",\"#8c564b\",\"#e377c2\",\"#ff7f0e\",\"#1f77b4\",\"#1f77b4\",\"#9467bd\",\"#1f77b4\",\"#1f77b4\",\"#ff7f0e\",\"#ff7f0e\",\"#1f77b4\",\"#1f77b4\",\"#1f77b4\",\"#1f77b4\",\"#1f77b4\",\"#2ca02c\",\"#1f77b4\",\"#2ca02c\",\"#8c564b\",\"#ff7f0e\",\"#1f77b4\",\"#1f77b4\",\"#1f77b4\",\"#1f77b4\",\"#8c564b\",\"#1f77b4\",\"#8c564b\",\"#d62728\",\"#d62728\",\"#1f77b4\",\"#ff7f0e\",\"#8c564b\",\"#ff7f0e\",\"#2ca02c\",\"#8c564b\",\"#ff7f0e\",\"#8c564b\",\"#ff7f0e\",\"#7f7f7f\",\"#1f77b4\",\"#1f77b4\",\"#1f77b4\",\"#ff7f0e\",\"#8c564b\",\"#1f77b4\",\"#ff7f0e\",\"#1f77b4\",\"#9467bd\",\"#8c564b\",\"#ff7f0e\",\"#1f77b4\",\"#d62728\",\"#ff7f0e\",\"#1f77b4\",\"#1f77b4\",\"#9467bd\",\"#ff7f0e\",\"#1f77b4\",\"#7f7f7f\",\"#ff7f0e\",\"#9467bd\",\"#8c564b\",\"#2ca02c\",\"#1f77b4\",\"#8c564b\",\"#2ca02c\",\"#1f77b4\",\"#e377c2\",\"#ff7f0e\",\"#1f77b4\",\"#8c564b\",\"#2ca02c\",\"#1f77b4\",\"#d62728\",\"#ff7f0e\",\"#9467bd\",\"#ff7f0e\",\"#8c564b\",\"#8c564b\",\"#2ca02c\",\"#e377c2\",\"#1f77b4\",\"#1f77b4\",\"#1f77b4\",\"#1f77b4\",\"#1f77b4\",\"#1f77b4\",\"#1f77b4\",\"#8c564b\",\"#1f77b4\",\"#8c564b\",\"#1f77b4\",\"#1f77b4\",\"#8c564b\",\"#ff7f0e\",\"#ff7f0e\",\"#ff7f0e\",\"#ff7f0e\",\"#ff7f0e\",\"#9467bd\",\"#1f77b4\",\"#d62728\",\"#1f77b4\",\"#1f77b4\",\"#ff7f0e\",\"#2ca02c\",\"#2ca02c\",\"#8c564b\",\"#8c564b\",\"#1f77b4\",\"#2ca02c\",\"#e377c2\",\"#1f77b4\",\"#1f77b4\",\"#ff7f0e\",\"#d62728\",\"#e377c2\",\"#1f77b4\",\"#7f7f7f\",\"#ff7f0e\",\"#e377c2\",\"#2ca02c\",\"#ff7f0e\",\"#1f77b4\",\"#8c564b\",\"#8c564b\",\"#8c564b\",\"#9467bd\",\"#8c564b\",\"#8c564b\",\"#8c564b\",\"#1f77b4\",\"#8c564b\",\"#1f77b4\",\"#9467bd\",\"#1f77b4\",\"#1f77b4\",\"#1f77b4\",\"#ff7f0e\",\"#1f77b4\",\"#2ca02c\",\"#ff7f0e\",\"#ff7f0e\",\"#2ca02c\",\"#e377c2\",\"#d62728\",\"#2ca02c\",\"#1f77b4\",\"#1f77b4\",\"#ff7f0e\",\"#1f77b4\",\"#ff7f0e\",\"#1f77b4\",\"#ff7f0e\",\"#2ca02c\",\"#2ca02c\",\"#ff7f0e\",\"#2ca02c\",\"#2ca02c\",\"#1f77b4\",\"#9467bd\",\"#7f7f7f\",\"#8c564b\",\"#8c564b\",\"#17becf\",\"#1f77b4\",\"#7f7f7f\",\"#1f77b4\",\"#8c564b\",\"#9467bd\",\"#d62728\",\"#1f77b4\",\"#d62728\",\"#1f77b4\",\"#ff7f0e\",\"#2ca02c\",\"#8c564b\",\"#d62728\",\"#2ca02c\",\"#2ca02c\",\"#2ca02c\",\"#9467bd\",\"#8c564b\",\"#8c564b\",\"#8c564b\",\"#9467bd\",\"#d62728\",\"#9467bd\",\"#7f7f7f\",\"#7f7f7f\",\"#7f7f7f\",\"#d62728\",\"#7f7f7f\",\"#8c564b\",\"#9467bd\",\"#ff7f0e\",\"#1f77b4\",\"#1f77b4\",\"#8c564b\",\"#ff7f0e\",\"#1f77b4\",\"#1f77b4\",\"#ff7f0e\",\"#ff7f0e\",\"#1f77b4\",\"#ff7f0e\",\"#e377c2\",\"#7f7f7f\",\"#ff7f0e\",\"#e377c2\",\"#8c564b\",\"#8c564b\",\"#8c564b\",\"#9467bd\",\"#e377c2\",\"#2ca02c\",\"#8c564b\",\"#8c564b\",\"#ff7f0e\",\"#ff7f0e\",\"#e377c2\",\"#9467bd\",\"#d62728\",\"#e377c2\",\"#9467bd\",\"#ff7f0e\",\"#1f77b4\",\"#ff7f0e\",\"#e377c2\",\"#1f77b4\",\"#ff7f0e\",\"#ff7f0e\",\"#ff7f0e\",\"#8c564b\",\"#1f77b4\",\"#ff7f0e\",\"#8c564b\",\"#e377c2\",\"#8c564b\",\"#ff7f0e\",\"#d62728\",\"#8c564b\",\"#ff7f0e\",\"#1f77b4\",\"#e377c2\",\"#8c564b\",\"#ff7f0e\",\"#d62728\",\"#2ca02c\",\"#ff7f0e\",\"#e377c2\",\"#ff7f0e\",\"#1f77b4\",\"#8c564b\",\"#2ca02c\",\"#1f77b4\",\"#1f77b4\",\"#7f7f7f\",\"#1f77b4\",\"#1f77b4\",\"#9467bd\",\"#8c564b\",\"#ff7f0e\",\"#1f77b4\",\"#ff7f0e\",\"#bcbd22\",\"#d62728\",\"#ff7f0e\",\"#7f7f7f\",\"#1f77b4\",\"#8c564b\",\"#e377c2\",\"#1f77b4\",\"#8c564b\",\"#8c564b\",\"#8c564b\",\"#8c564b\",\"#ff7f0e\",\"#1f77b4\",\"#8c564b\",\"#ff7f0e\",\"#2ca02c\",\"#8c564b\",\"#ff7f0e\",\"#9467bd\",\"#1f77b4\",\"#e377c2\",\"#ff7f0e\",\"#2ca02c\",\"#1f77b4\",\"#d62728\",\"#1f77b4\",\"#8c564b\",\"#8c564b\",\"#2ca02c\",\"#1f77b4\",\"#e377c2\",\"#9467bd\",\"#8c564b\",\"#2ca02c\",\"#2ca02c\",\"#1f77b4\",\"#7f7f7f\",\"#ff7f0e\",\"#1f77b4\",\"#ff7f0e\",\"#ff7f0e\",\"#1f77b4\",\"#1f77b4\",\"#7f7f7f\",\"#1f77b4\",\"#1f77b4\",\"#1f77b4\",\"#1f77b4\",\"#7f7f7f\",\"#1f77b4\",\"#ff7f0e\",\"#7f7f7f\",\"#1f77b4\",\"#e377c2\",\"#9467bd\",\"#8c564b\",\"#e377c2\",\"#1f77b4\",\"#8c564b\",\"#2ca02c\",\"#1f77b4\",\"#d62728\",\"#1f77b4\",\"#9467bd\",\"#e377c2\",\"#2ca02c\",\"#1f77b4\",\"#8c564b\",\"#ff7f0e\",\"#ff7f0e\",\"#2ca02c\",\"#9467bd\",\"#bcbd22\",\"#1f77b4\",\"#ff7f0e\",\"#2ca02c\",\"#ff7f0e\",\"#1f77b4\",\"#2ca02c\",\"#ff7f0e\",\"#ff7f0e\",\"#2ca02c\",\"#e377c2\",\"#d62728\",\"#1f77b4\",\"#8c564b\",\"#8c564b\",\"#e377c2\",\"#ff7f0e\",\"#ff7f0e\",\"#ff7f0e\",\"#d62728\",\"#d62728\",\"#ff7f0e\",\"#2ca02c\",\"#9467bd\",\"#8c564b\",\"#1f77b4\",\"#ff7f0e\",\"#2ca02c\",\"#8c564b\",\"#2ca02c\",\"#2ca02c\",\"#d62728\",\"#2ca02c\",\"#2ca02c\",\"#2ca02c\",\"#d62728\",\"#2ca02c\",\"#1f77b4\",\"#d62728\",\"#8c564b\",\"#1f77b4\",\"#1f77b4\",\"#8c564b\",\"#1f77b4\",\"#1f77b4\",\"#8c564b\",\"#1f77b4\",\"#1f77b4\",\"#ff7f0e\",\"#ff7f0e\",\"#ff7f0e\",\"#ff7f0e\",\"#ff7f0e\",\"#ff7f0e\",\"#d62728\",\"#8c564b\",\"#1f77b4\",\"#ff7f0e\",\"#8c564b\",\"#ff7f0e\",\"#ff7f0e\",\"#ff7f0e\",\"#7f7f7f\",\"#8c564b\",\"#e377c2\",\"#1f77b4\",\"#2ca02c\",\"#1f77b4\",\"#2ca02c\",\"#ff7f0e\",\"#1f77b4\",\"#ff7f0e\",\"#ff7f0e\",\"#ff7f0e\",\"#ff7f0e\",\"#1f77b4\",\"#8c564b\",\"#2ca02c\",\"#1f77b4\",\"#8c564b\",\"#1f77b4\",\"#1f77b4\",\"#1f77b4\",\"#e377c2\",\"#e377c2\",\"#8c564b\",\"#1f77b4\",\"#8c564b\",\"#2ca02c\",\"#8c564b\",\"#2ca02c\",\"#8c564b\",\"#2ca02c\",\"#2ca02c\",\"#9467bd\",\"#d62728\",\"#1f77b4\",\"#8c564b\",\"#1f77b4\",\"#1f77b4\",\"#1f77b4\",\"#1f77b4\",\"#8c564b\",\"#2ca02c\",\"#d62728\",\"#9467bd\",\"#1f77b4\",\"#d62728\",\"#1f77b4\",\"#ff7f0e\",\"#e377c2\",\"#ff7f0e\",\"#e377c2\",\"#8c564b\",\"#8c564b\",\"#e377c2\",\"#ff7f0e\",\"#1f77b4\",\"#9467bd\",\"#e377c2\",\"#1f77b4\",\"#1f77b4\",\"#1f77b4\",\"#d62728\",\"#1f77b4\",\"#d62728\",\"#1f77b4\",\"#1f77b4\",\"#1f77b4\",\"#1f77b4\",\"#1f77b4\",\"#1f77b4\",\"#1f77b4\",\"#1f77b4\",\"#9467bd\",\"#8c564b\",\"#2ca02c\",\"#2ca02c\",\"#2ca02c\",\"#2ca02c\",\"#1f77b4\",\"#2ca02c\",\"#1f77b4\",\"#2ca02c\",\"#1f77b4\",\"#8c564b\",\"#1f77b4\",\"#1f77b4\",\"#8c564b\",\"#1f77b4\",\"#8c564b\",\"#8c564b\",\"#2ca02c\",\"#ff7f0e\",\"#1f77b4\",\"#9467bd\",\"#1f77b4\",\"#1f77b4\",\"#7f7f7f\",\"#ff7f0e\",\"#1f77b4\",\"#7f7f7f\",\"#1f77b4\",\"#8c564b\",\"#ff7f0e\",\"#ff7f0e\",\"#e377c2\",\"#1f77b4\",\"#ff7f0e\",\"#ff7f0e\",\"#1f77b4\",\"#bcbd22\",\"#2ca02c\",\"#1f77b4\",\"#1f77b4\",\"#2ca02c\",\"#2ca02c\",\"#ff7f0e\",\"#2ca02c\",\"#ff7f0e\",\"#1f77b4\",\"#1f77b4\",\"#2ca02c\",\"#2ca02c\",\"#8c564b\",\"#9467bd\",\"#d62728\",\"#d62728\",\"#2ca02c\",\"#2ca02c\",\"#1f77b4\",\"#2ca02c\",\"#8c564b\",\"#7f7f7f\",\"#ff7f0e\",\"#2ca02c\",\"#ff7f0e\",\"#ff7f0e\",\"#ff7f0e\",\"#ff7f0e\",\"#ff7f0e\",\"#ff7f0e\",\"#8c564b\",\"#ff7f0e\",\"#2ca02c\",\"#ff7f0e\",\"#2ca02c\",\"#ff7f0e\",\"#9467bd\",\"#2ca02c\",\"#1f77b4\",\"#2ca02c\",\"#8c564b\",\"#8c564b\",\"#2ca02c\",\"#ff7f0e\",\"#ff7f0e\",\"#ff7f0e\",\"#d62728\",\"#2ca02c\",\"#2ca02c\",\"#9467bd\",\"#1f77b4\",\"#1f77b4\",\"#1f77b4\",\"#1f77b4\",\"#1f77b4\",\"#1f77b4\",\"#1f77b4\",\"#1f77b4\",\"#1f77b4\",\"#1f77b4\",\"#e377c2\",\"#8c564b\",\"#8c564b\",\"#1f77b4\",\"#8c564b\",\"#8c564b\",\"#1f77b4\",\"#1f77b4\",\"#9467bd\",\"#1f77b4\",\"#d62728\",\"#ff7f0e\",\"#1f77b4\",\"#ff7f0e\",\"#1f77b4\",\"#8c564b\",\"#ff7f0e\",\"#9467bd\",\"#8c564b\",\"#ff7f0e\",\"#1f77b4\",\"#1f77b4\",\"#1f77b4\",\"#7f7f7f\",\"#1f77b4\",\"#1f77b4\",\"#1f77b4\",\"#1f77b4\",\"#e377c2\",\"#1f77b4\",\"#9467bd\",\"#8c564b\",\"#e377c2\",\"#8c564b\",\"#1f77b4\",\"#9467bd\",\"#e377c2\",\"#8c564b\",\"#1f77b4\",\"#8c564b\",\"#ff7f0e\",\"#e377c2\",\"#ff7f0e\",\"#ff7f0e\",\"#ff7f0e\",\"#e377c2\",\"#1f77b4\",\"#1f77b4\",\"#d62728\",\"#1f77b4\",\"#ff7f0e\",\"#ff7f0e\",\"#9467bd\",\"#1f77b4\",\"#ff7f0e\",\"#e377c2\",\"#e377c2\",\"#d62728\",\"#2ca02c\",\"#8c564b\",\"#8c564b\",\"#8c564b\",\"#ff7f0e\",\"#ff7f0e\",\"#8c564b\",\"#e377c2\",\"#e377c2\",\"#d62728\",\"#8c564b\",\"#e377c2\",\"#e377c2\",\"#1f77b4\",\"#9467bd\",\"#9467bd\",\"#1f77b4\",\"#1f77b4\",\"#1f77b4\",\"#e377c2\",\"#7f7f7f\",\"#8c564b\",\"#1f77b4\",\"#9467bd\",\"#1f77b4\",\"#7f7f7f\",\"#d62728\",\"#1f77b4\",\"#bcbd22\",\"#bcbd22\",\"#bcbd22\",\"#1f77b4\",\"#d62728\",\"#e377c2\",\"#8c564b\",\"#8c564b\",\"#e377c2\",\"#8c564b\",\"#d62728\",\"#e377c2\",\"#1f77b4\",\"#1f77b4\",\"#1f77b4\",\"#2ca02c\",\"#8c564b\",\"#1f77b4\",\"#8c564b\",\"#8c564b\",\"#1f77b4\",\"#8c564b\",\"#8c564b\",\"#1f77b4\",\"#d62728\",\"#8c564b\",\"#8c564b\",\"#1f77b4\",\"#1f77b4\",\"#d62728\",\"#1f77b4\",\"#8c564b\",\"#9467bd\",\"#8c564b\",\"#d62728\",\"#8c564b\",\"#8c564b\",\"#2ca02c\",\"#1f77b4\",\"#d62728\",\"#1f77b4\",\"#8c564b\",\"#8c564b\",\"#9467bd\",\"#8c564b\",\"#d62728\",\"#8c564b\",\"#d62728\",\"#8c564b\",\"#1f77b4\",\"#1f77b4\",\"#1f77b4\",\"#1f77b4\",\"#1f77b4\",\"#bcbd22\",\"#8c564b\",\"#8c564b\",\"#1f77b4\",\"#9467bd\",\"#e377c2\",\"#9467bd\",\"#9467bd\",\"#d62728\",\"#1f77b4\",\"#8c564b\",\"#8c564b\",\"#d62728\",\"#8c564b\",\"#8c564b\",\"#8c564b\",\"#1f77b4\",\"#8c564b\",\"#d62728\",\"#9467bd\",\"#2ca02c\",\"#9467bd\",\"#1f77b4\",\"#8c564b\",\"#9467bd\",\"#8c564b\",\"#8c564b\",\"#8c564b\",\"#1f77b4\",\"#8c564b\",\"#8c564b\",\"#ff7f0e\",\"#d62728\",\"#1f77b4\",\"#1f77b4\",\"#8c564b\",\"#1f77b4\",\"#1f77b4\",\"#8c564b\",\"#1f77b4\",\"#1f77b4\",\"#9467bd\",\"#1f77b4\",\"#8c564b\",\"#d62728\",\"#1f77b4\",\"#1f77b4\",\"#1f77b4\",\"#1f77b4\",\"#9467bd\",\"#d62728\",\"#8c564b\",\"#8c564b\",\"#1f77b4\",\"#1f77b4\",\"#d62728\",\"#9467bd\",\"#1f77b4\",\"#8c564b\",\"#9467bd\",\"#9467bd\",\"#9467bd\",\"#1f77b4\",\"#8c564b\",\"#1f77b4\",\"#1f77b4\",\"#8c564b\",\"#1f77b4\",\"#1f77b4\",\"#1f77b4\",\"#9467bd\",\"#d62728\",\"#1f77b4\",\"#9467bd\",\"#8c564b\",\"#1f77b4\",\"#8c564b\",\"#9467bd\",\"#8c564b\",\"#d62728\",\"#9467bd\",\"#1f77b4\",\"#8c564b\",\"#2ca02c\",\"#8c564b\",\"#d62728\",\"#8c564b\",\"#d62728\",\"#9467bd\",\"#d62728\",\"#9467bd\",\"#8c564b\",\"#1f77b4\",\"#d62728\",\"#d62728\",\"#8c564b\",\"#9467bd\",\"#1f77b4\",\"#1f77b4\",\"#1f77b4\",\"#1f77b4\",\"#8c564b\",\"#1f77b4\",\"#1f77b4\",\"#1f77b4\",\"#8c564b\",\"#1f77b4\",\"#d62728\",\"#8c564b\",\"#d62728\",\"#d62728\",\"#d62728\",\"#2ca02c\",\"#1f77b4\",\"#8c564b\",\"#1f77b4\",\"#d62728\",\"#1f77b4\",\"#1f77b4\",\"#8c564b\",\"#1f77b4\",\"#1f77b4\",\"#8c564b\",\"#2ca02c\",\"#8c564b\",\"#d62728\",\"#8c564b\",\"#8c564b\",\"#9467bd\",\"#d62728\",\"#2ca02c\",\"#1f77b4\",\"#8c564b\",\"#9467bd\",\"#8c564b\",\"#8c564b\",\"#8c564b\",\"#d62728\",\"#d62728\",\"#9467bd\",\"#9467bd\",\"#8c564b\",\"#8c564b\",\"#2ca02c\",\"#8c564b\",\"#1f77b4\",\"#9467bd\",\"#ff7f0e\",\"#2ca02c\",\"#1f77b4\",\"#1f77b4\",\"#7f7f7f\",\"#e377c2\",\"#9467bd\",\"#ff7f0e\",\"#1f77b4\",\"#8c564b\",\"#e377c2\",\"#ff7f0e\",\"#1f77b4\",\"#1f77b4\",\"#1f77b4\",\"#1f77b4\",\"#8c564b\",\"#1f77b4\",\"#e377c2\",\"#8c564b\",\"#8c564b\",\"#8c564b\",\"#9467bd\",\"#ff7f0e\",\"#8c564b\",\"#2ca02c\",\"#1f77b4\",\"#ff7f0e\",\"#8c564b\",\"#ff7f0e\",\"#2ca02c\",\"#2ca02c\",\"#2ca02c\",\"#8c564b\",\"#d62728\",\"#9467bd\",\"#8c564b\",\"#1f77b4\",\"#ff7f0e\",\"#8c564b\",\"#8c564b\",\"#ff7f0e\",\"#1f77b4\",\"#1f77b4\",\"#1f77b4\",\"#2ca02c\",\"#ff7f0e\",\"#1f77b4\",\"#9467bd\",\"#d62728\",\"#d62728\",\"#8c564b\",\"#9467bd\",\"#1f77b4\",\"#ff7f0e\",\"#e377c2\",\"#ff7f0e\",\"#1f77b4\",\"#1f77b4\",\"#e377c2\",\"#7f7f7f\",\"#9467bd\",\"#7f7f7f\",\"#2ca02c\",\"#9467bd\",\"#1f77b4\",\"#9467bd\",\"#e377c2\",\"#1f77b4\",\"#8c564b\",\"#1f77b4\",\"#8c564b\",\"#ff7f0e\",\"#9467bd\",\"#1f77b4\",\"#1f77b4\",\"#8c564b\",\"#e377c2\",\"#ff7f0e\",\"#1f77b4\",\"#ff7f0e\",\"#2ca02c\",\"#9467bd\",\"#2ca02c\",\"#1f77b4\",\"#e377c2\",\"#7f7f7f\",\"#bcbd22\",\"#ff7f0e\",\"#ff7f0e\",\"#8c564b\",\"#1f77b4\",\"#ff7f0e\",\"#ff7f0e\",\"#1f77b4\",\"#1f77b4\",\"#1f77b4\",\"#8c564b\",\"#1f77b4\",\"#2ca02c\",\"#1f77b4\",\"#e377c2\",\"#e377c2\",\"#8c564b\",\"#1f77b4\",\"#8c564b\",\"#2ca02c\",\"#9467bd\",\"#2ca02c\",\"#2ca02c\",\"#d62728\",\"#9467bd\",\"#e377c2\",\"#8c564b\",\"#1f77b4\",\"#e377c2\",\"#8c564b\",\"#8c564b\",\"#e377c2\",\"#1f77b4\",\"#2ca02c\",\"#e377c2\",\"#1f77b4\",\"#e377c2\",\"#1f77b4\",\"#9467bd\",\"#e377c2\",\"#8c564b\",\"#8c564b\",\"#e377c2\",\"#1f77b4\",\"#7f7f7f\",\"#e377c2\",\"#1f77b4\",\"#9467bd\",\"#8c564b\",\"#1f77b4\",\"#8c564b\",\"#1f77b4\",\"#1f77b4\",\"#1f77b4\",\"#1f77b4\",\"#1f77b4\",\"#1f77b4\",\"#8c564b\",\"#d62728\",\"#d62728\",\"#1f77b4\",\"#8c564b\",\"#9467bd\",\"#1f77b4\",\"#1f77b4\",\"#1f77b4\",\"#8c564b\",\"#e377c2\",\"#8c564b\",\"#7f7f7f\",\"#1f77b4\",\"#1f77b4\",\"#e377c2\",\"#ff7f0e\",\"#ff7f0e\",\"#9467bd\",\"#1f77b4\",\"#1f77b4\",\"#1f77b4\",\"#1f77b4\",\"#ff7f0e\",\"#9467bd\",\"#1f77b4\",\"#9467bd\",\"#ff7f0e\",\"#ff7f0e\",\"#e377c2\",\"#8c564b\",\"#bcbd22\",\"#ff7f0e\",\"#8c564b\",\"#1f77b4\",\"#8c564b\",\"#8c564b\",\"#1f77b4\",\"#8c564b\",\"#2ca02c\",\"#1f77b4\",\"#1f77b4\",\"#1f77b4\",\"#1f77b4\",\"#1f77b4\",\"#8c564b\",\"#2ca02c\",\"#1f77b4\",\"#1f77b4\",\"#2ca02c\",\"#1f77b4\",\"#1f77b4\",\"#2ca02c\",\"#e377c2\",\"#1f77b4\",\"#1f77b4\",\"#7f7f7f\",\"#2ca02c\",\"#e377c2\",\"#1f77b4\",\"#2ca02c\",\"#8c564b\",\"#2ca02c\",\"#e377c2\",\"#1f77b4\",\"#9467bd\",\"#1f77b4\",\"#1f77b4\",\"#2ca02c\",\"#8c564b\",\"#2ca02c\",\"#1f77b4\",\"#8c564b\",\"#1f77b4\",\"#8c564b\",\"#8c564b\",\"#ff7f0e\",\"#d62728\",\"#1f77b4\",\"#1f77b4\",\"#1f77b4\",\"#1f77b4\",\"#1f77b4\",\"#1f77b4\",\"#1f77b4\",\"#1f77b4\",\"#8c564b\",\"#1f77b4\",\"#1f77b4\",\"#e377c2\",\"#1f77b4\",\"#1f77b4\",\"#1f77b4\",\"#1f77b4\",\"#1f77b4\",\"#7f7f7f\",\"#1f77b4\",\"#1f77b4\",\"#1f77b4\",\"#1f77b4\",\"#e377c2\",\"#2ca02c\",\"#8c564b\",\"#1f77b4\",\"#1f77b4\",\"#1f77b4\",\"#8c564b\",\"#1f77b4\",\"#1f77b4\",\"#d62728\",\"#d62728\",\"#1f77b4\",\"#9467bd\",\"#1f77b4\",\"#8c564b\",\"#2ca02c\",\"#1f77b4\",\"#8c564b\",\"#1f77b4\",\"#1f77b4\",\"#2ca02c\",\"#ff7f0e\",\"#ff7f0e\",\"#ff7f0e\",\"#ff7f0e\",\"#e377c2\",\"#d62728\",\"#d62728\",\"#1f77b4\",\"#1f77b4\",\"#1f77b4\",\"#d62728\",\"#1f77b4\",\"#e377c2\",\"#9467bd\",\"#1f77b4\",\"#9467bd\",\"#1f77b4\",\"#2ca02c\",\"#2ca02c\",\"#8c564b\",\"#9467bd\",\"#8c564b\",\"#ff7f0e\",\"#1f77b4\",\"#1f77b4\",\"#1f77b4\",\"#ff7f0e\",\"#1f77b4\",\"#1f77b4\",\"#1f77b4\",\"#1f77b4\",\"#1f77b4\",\"#d62728\",\"#1f77b4\",\"#1f77b4\",\"#1f77b4\",\"#1f77b4\",\"#1f77b4\",\"#9467bd\",\"#1f77b4\",\"#9467bd\",\"#1f77b4\",\"#1f77b4\",\"#9467bd\",\"#1f77b4\",\"#1f77b4\",\"#9467bd\",\"#8c564b\",\"#2ca02c\",\"#1f77b4\",\"#1f77b4\",\"#7f7f7f\",\"#1f77b4\",\"#1f77b4\",\"#1f77b4\",\"#1f77b4\",\"#1f77b4\",\"#2ca02c\",\"#1f77b4\",\"#1f77b4\",\"#1f77b4\",\"#9467bd\",\"#bcbd22\",\"#1f77b4\",\"#9467bd\",\"#1f77b4\",\"#d62728\",\"#8c564b\",\"#9467bd\",\"#1f77b4\",\"#1f77b4\",\"#1f77b4\",\"#e377c2\",\"#8c564b\",\"#1f77b4\",\"#9467bd\",\"#ff7f0e\",\"#1f77b4\",\"#9467bd\",\"#1f77b4\",\"#ff7f0e\",\"#ff7f0e\",\"#2ca02c\",\"#ff7f0e\",\"#1f77b4\",\"#1f77b4\",\"#ff7f0e\",\"#e377c2\",\"#9467bd\",\"#ff7f0e\",\"#9467bd\",\"#1f77b4\",\"#8c564b\",\"#e377c2\",\"#8c564b\",\"#9467bd\",\"#ff7f0e\",\"#1f77b4\",\"#ff7f0e\",\"#9467bd\",\"#2ca02c\",\"#8c564b\",\"#ff7f0e\",\"#ff7f0e\",\"#1f77b4\",\"#7f7f7f\",\"#ff7f0e\",\"#ff7f0e\",\"#2ca02c\",\"#ff7f0e\",\"#8c564b\",\"#7f7f7f\",\"#7f7f7f\",\"#8c564b\",\"#e377c2\",\"#1f77b4\",\"#1f77b4\",\"#1f77b4\",\"#1f77b4\",\"#1f77b4\",\"#ff7f0e\",\"#1f77b4\",\"#1f77b4\",\"#9467bd\",\"#ff7f0e\",\"#ff7f0e\",\"#1f77b4\",\"#e377c2\",\"#ff7f0e\",\"#9467bd\",\"#ff7f0e\",\"#d62728\",\"#9467bd\",\"#1f77b4\",\"#e377c2\",\"#ff7f0e\",\"#1f77b4\",\"#8c564b\",\"#2ca02c\",\"#1f77b4\",\"#ff7f0e\",\"#1f77b4\",\"#1f77b4\",\"#2ca02c\",\"#8c564b\",\"#8c564b\",\"#2ca02c\",\"#9467bd\",\"#1f77b4\",\"#ff7f0e\",\"#ff7f0e\",\"#ff7f0e\",\"#7f7f7f\",\"#d62728\",\"#1f77b4\",\"#9467bd\",\"#e377c2\",\"#8c564b\",\"#9467bd\",\"#7f7f7f\",\"#9467bd\",\"#1f77b4\",\"#8c564b\",\"#1f77b4\",\"#1f77b4\",\"#1f77b4\",\"#1f77b4\",\"#d62728\",\"#ff7f0e\",\"#8c564b\",\"#2ca02c\",\"#e377c2\",\"#d62728\",\"#8c564b\",\"#8c564b\",\"#2ca02c\",\"#8c564b\",\"#8c564b\",\"#1f77b4\",\"#2ca02c\",\"#2ca02c\",\"#2ca02c\",\"#2ca02c\",\"#7f7f7f\",\"#8c564b\",\"#2ca02c\",\"#8c564b\",\"#2ca02c\",\"#2ca02c\",\"#9467bd\",\"#2ca02c\",\"#1f77b4\",\"#9467bd\",\"#1f77b4\",\"#e377c2\",\"#2ca02c\",\"#ff7f0e\",\"#1f77b4\",\"#1f77b4\",\"#1f77b4\",\"#1f77b4\",\"#ff7f0e\",\"#8c564b\",\"#8c564b\",\"#8c564b\",\"#2ca02c\",\"#1f77b4\",\"#1f77b4\",\"#ff7f0e\",\"#1f77b4\",\"#ff7f0e\",\"#e377c2\",\"#1f77b4\",\"#ff7f0e\",\"#9467bd\",\"#8c564b\",\"#7f7f7f\",\"#7f7f7f\",\"#e377c2\",\"#8c564b\",\"#8c564b\",\"#9467bd\",\"#e377c2\",\"#e377c2\",\"#2ca02c\",\"#8c564b\",\"#9467bd\",\"#1f77b4\",\"#9467bd\",\"#e377c2\",\"#1f77b4\",\"#7f7f7f\",\"#1f77b4\",\"#9467bd\",\"#1f77b4\",\"#1f77b4\",\"#d62728\",\"#ff7f0e\",\"#1f77b4\",\"#ff7f0e\",\"#e377c2\",\"#1f77b4\",\"#9467bd\",\"#1f77b4\",\"#8c564b\",\"#9467bd\",\"#2ca02c\",\"#ff7f0e\",\"#1f77b4\",\"#1f77b4\",\"#ff7f0e\",\"#ff7f0e\",\"#ff7f0e\",\"#1f77b4\",\"#ff7f0e\",\"#8c564b\",\"#9467bd\",\"#9467bd\",\"#8c564b\",\"#ff7f0e\",\"#ff7f0e\",\"#1f77b4\",\"#1f77b4\",\"#1f77b4\",\"#1f77b4\",\"#7f7f7f\",\"#ff7f0e\",\"#9467bd\",\"#1f77b4\",\"#1f77b4\",\"#d62728\",\"#8c564b\",\"#1f77b4\",\"#8c564b\",\"#8c564b\",\"#1f77b4\",\"#9467bd\",\"#1f77b4\",\"#e377c2\",\"#1f77b4\",\"#1f77b4\",\"#1f77b4\",\"#1f77b4\",\"#1f77b4\",\"#1f77b4\",\"#1f77b4\",\"#ff7f0e\",\"#1f77b4\",\"#2ca02c\",\"#ff7f0e\",\"#ff7f0e\",\"#7f7f7f\",\"#1f77b4\",\"#1f77b4\",\"#e377c2\",\"#bcbd22\",\"#bcbd22\",\"#e377c2\",\"#9467bd\",\"#2ca02c\",\"#1f77b4\",\"#8c564b\",\"#8c564b\",\"#1f77b4\",\"#1f77b4\",\"#2ca02c\",\"#2ca02c\",\"#e377c2\",\"#d62728\",\"#ff7f0e\",\"#d62728\",\"#8c564b\",\"#d62728\",\"#ff7f0e\",\"#9467bd\",\"#7f7f7f\",\"#ff7f0e\",\"#8c564b\",\"#8c564b\",\"#ff7f0e\",\"#1f77b4\",\"#7f7f7f\",\"#1f77b4\",\"#1f77b4\",\"#9467bd\",\"#1f77b4\",\"#d62728\",\"#8c564b\",\"#1f77b4\",\"#1f77b4\",\"#1f77b4\",\"#e377c2\",\"#1f77b4\",\"#1f77b4\",\"#1f77b4\",\"#8c564b\",\"#ff7f0e\",\"#ff7f0e\",\"#d62728\",\"#2ca02c\",\"#1f77b4\",\"#1f77b4\",\"#1f77b4\",\"#ff7f0e\",\"#e377c2\",\"#1f77b4\",\"#d62728\",\"#1f77b4\",\"#1f77b4\",\"#ff7f0e\",\"#2ca02c\",\"#e377c2\",\"#ff7f0e\",\"#7f7f7f\",\"#8c564b\",\"#ff7f0e\",\"#ff7f0e\",\"#1f77b4\",\"#ff7f0e\",\"#e377c2\",\"#8c564b\",\"#8c564b\",\"#1f77b4\",\"#bcbd22\",\"#2ca02c\",\"#1f77b4\",\"#ff7f0e\",\"#8c564b\",\"#1f77b4\",\"#1f77b4\",\"#e377c2\",\"#9467bd\",\"#9467bd\",\"#8c564b\",\"#1f77b4\",\"#9467bd\",\"#ff7f0e\",\"#1f77b4\",\"#1f77b4\",\"#ff7f0e\",\"#ff7f0e\",\"#ff7f0e\",\"#ff7f0e\",\"#8c564b\",\"#1f77b4\",\"#1f77b4\",\"#7f7f7f\",\"#1f77b4\",\"#e377c2\",\"#1f77b4\",\"#7f7f7f\",\"#ff7f0e\",\"#ff7f0e\",\"#1f77b4\",\"#1f77b4\",\"#8c564b\",\"#1f77b4\",\"#e377c2\",\"#e377c2\",\"#1f77b4\",\"#1f77b4\",\"#7f7f7f\",\"#1f77b4\",\"#e377c2\",\"#ff7f0e\",\"#1f77b4\",\"#ff7f0e\",\"#9467bd\",\"#e377c2\",\"#d62728\",\"#1f77b4\",\"#1f77b4\",\"#1f77b4\",\"#1f77b4\",\"#1f77b4\",\"#1f77b4\",\"#1f77b4\",\"#e377c2\",\"#1f77b4\",\"#ff7f0e\",\"#8c564b\",\"#2ca02c\",\"#bcbd22\",\"#1f77b4\",\"#1f77b4\",\"#d62728\",\"#1f77b4\",\"#ff7f0e\",\"#2ca02c\",\"#1f77b4\",\"#8c564b\",\"#2ca02c\",\"#bcbd22\",\"#1f77b4\",\"#1f77b4\",\"#1f77b4\",\"#1f77b4\",\"#2ca02c\",\"#1f77b4\",\"#2ca02c\",\"#2ca02c\",\"#e377c2\",\"#1f77b4\",\"#2ca02c\",\"#e377c2\",\"#1f77b4\",\"#2ca02c\",\"#1f77b4\",\"#e377c2\",\"#1f77b4\",\"#1f77b4\",\"#1f77b4\",\"#8c564b\",\"#2ca02c\",\"#2ca02c\",\"#2ca02c\",\"#1f77b4\",\"#1f77b4\",\"#ff7f0e\",\"#1f77b4\",\"#1f77b4\",\"#1f77b4\",\"#8c564b\",\"#1f77b4\",\"#2ca02c\",\"#1f77b4\",\"#1f77b4\",\"#8c564b\",\"#e377c2\",\"#ff7f0e\",\"#1f77b4\",\"#8c564b\",\"#ff7f0e\",\"#1f77b4\",\"#8c564b\",\"#d62728\",\"#ff7f0e\",\"#ff7f0e\",\"#e377c2\",\"#2ca02c\",\"#1f77b4\",\"#1f77b4\",\"#1f77b4\",\"#2ca02c\",\"#7f7f7f\",\"#ff7f0e\",\"#ff7f0e\",\"#1f77b4\",\"#1f77b4\",\"#1f77b4\",\"#d62728\",\"#1f77b4\",\"#1f77b4\",\"#e377c2\",\"#ff7f0e\",\"#ff7f0e\",\"#ff7f0e\",\"#1f77b4\",\"#ff7f0e\",\"#d62728\",\"#8c564b\",\"#e377c2\",\"#ff7f0e\",\"#2ca02c\",\"#1f77b4\",\"#1f77b4\",\"#ff7f0e\",\"#ff7f0e\",\"#1f77b4\",\"#1f77b4\",\"#8c564b\",\"#ff7f0e\",\"#1f77b4\",\"#2ca02c\",\"#1f77b4\",\"#2ca02c\",\"#ff7f0e\",\"#e377c2\",\"#8c564b\",\"#1f77b4\",\"#1f77b4\",\"#1f77b4\",\"#ff7f0e\",\"#d62728\",\"#ff7f0e\",\"#9467bd\",\"#ff7f0e\",\"#e377c2\",\"#9467bd\",\"#ff7f0e\",\"#7f7f7f\",\"#8c564b\",\"#ff7f0e\",\"#7f7f7f\",\"#ff7f0e\",\"#7f7f7f\",\"#ff7f0e\",\"#ff7f0e\",\"#ff7f0e\",\"#ff7f0e\",\"#9467bd\",\"#8c564b\",\"#ff7f0e\",\"#e377c2\",\"#1f77b4\",\"#1f77b4\",\"#1f77b4\",\"#1f77b4\",\"#1f77b4\",\"#1f77b4\",\"#8c564b\",\"#d62728\",\"#e377c2\",\"#1f77b4\",\"#9467bd\",\"#e377c2\",\"#e377c2\",\"#e377c2\",\"#8c564b\",\"#8c564b\",\"#1f77b4\",\"#9467bd\",\"#7f7f7f\",\"#1f77b4\",\"#9467bd\",\"#1f77b4\",\"#ff7f0e\",\"#e377c2\",\"#e377c2\",\"#e377c2\",\"#e377c2\",\"#9467bd\",\"#7f7f7f\",\"#8c564b\",\"#ff7f0e\",\"#7f7f7f\",\"#9467bd\",\"#d62728\",\"#1f77b4\",\"#ff7f0e\",\"#ff7f0e\",\"#ff7f0e\",\"#1f77b4\",\"#bcbd22\",\"#1f77b4\",\"#7f7f7f\",\"#1f77b4\",\"#2ca02c\",\"#1f77b4\",\"#9467bd\",\"#ff7f0e\",\"#1f77b4\",\"#ff7f0e\",\"#9467bd\",\"#8c564b\",\"#9467bd\",\"#7f7f7f\",\"#1f77b4\",\"#ff7f0e\",\"#ff7f0e\",\"#e377c2\",\"#7f7f7f\",\"#8c564b\",\"#8c564b\",\"#1f77b4\",\"#1f77b4\",\"#ff7f0e\",\"#e377c2\",\"#bcbd22\",\"#9467bd\",\"#1f77b4\",\"#1f77b4\",\"#ff7f0e\",\"#7f7f7f\",\"#d62728\",\"#1f77b4\",\"#1f77b4\",\"#9467bd\",\"#e377c2\",\"#7f7f7f\",\"#8c564b\",\"#1f77b4\",\"#e377c2\",\"#bcbd22\",\"#7f7f7f\",\"#e377c2\",\"#e377c2\",\"#ff7f0e\",\"#ff7f0e\",\"#8c564b\",\"#8c564b\",\"#1f77b4\",\"#ff7f0e\",\"#1f77b4\",\"#ff7f0e\",\"#1f77b4\",\"#ff7f0e\",\"#9467bd\",\"#ff7f0e\",\"#1f77b4\",\"#1f77b4\",\"#1f77b4\",\"#1f77b4\",\"#1f77b4\",\"#7f7f7f\",\"#d62728\"],\"line_color\":[\"#2ca02c\",\"#ff7f0e\",\"#1f77b4\",\"#ff7f0e\",\"#1f77b4\",\"#1f77b4\",\"#1f77b4\",\"#1f77b4\",\"#8c564b\",\"#1f77b4\",\"#2ca02c\",\"#1f77b4\",\"#1f77b4\",\"#8c564b\",\"#9467bd\",\"#2ca02c\",\"#e377c2\",\"#8c564b\",\"#8c564b\",\"#2ca02c\",\"#8c564b\",\"#1f77b4\",\"#1f77b4\",\"#2ca02c\",\"#1f77b4\",\"#ff7f0e\",\"#2ca02c\",\"#1f77b4\",\"#ff7f0e\",\"#1f77b4\",\"#2ca02c\",\"#8c564b\",\"#ff7f0e\",\"#d62728\",\"#ff7f0e\",\"#1f77b4\",\"#1f77b4\",\"#e377c2\",\"#1f77b4\",\"#1f77b4\",\"#1f77b4\",\"#9467bd\",\"#ff7f0e\",\"#ff7f0e\",\"#8c564b\",\"#d62728\",\"#8c564b\",\"#1f77b4\",\"#d62728\",\"#9467bd\",\"#1f77b4\",\"#1f77b4\",\"#8c564b\",\"#2ca02c\",\"#2ca02c\",\"#bcbd22\",\"#1f77b4\",\"#2ca02c\",\"#ff7f0e\",\"#d62728\",\"#9467bd\",\"#1f77b4\",\"#1f77b4\",\"#1f77b4\",\"#e377c2\",\"#1f77b4\",\"#1f77b4\",\"#1f77b4\",\"#d62728\",\"#8c564b\",\"#e377c2\",\"#7f7f7f\",\"#e377c2\",\"#8c564b\",\"#1f77b4\",\"#8c564b\",\"#ff7f0e\",\"#9467bd\",\"#ff7f0e\",\"#1f77b4\",\"#d62728\",\"#8c564b\",\"#9467bd\",\"#e377c2\",\"#e377c2\",\"#8c564b\",\"#ff7f0e\",\"#d62728\",\"#e377c2\",\"#e377c2\",\"#ff7f0e\",\"#ff7f0e\",\"#d62728\",\"#2ca02c\",\"#8c564b\",\"#d62728\",\"#ff7f0e\",\"#ff7f0e\",\"#d62728\",\"#2ca02c\",\"#1f77b4\",\"#ff7f0e\",\"#ff7f0e\",\"#ff7f0e\",\"#e377c2\",\"#1f77b4\",\"#7f7f7f\",\"#ff7f0e\",\"#e377c2\",\"#1f77b4\",\"#1f77b4\",\"#9467bd\",\"#8c564b\",\"#7f7f7f\",\"#d62728\",\"#8c564b\",\"#d62728\",\"#2ca02c\",\"#2ca02c\",\"#8c564b\",\"#8c564b\",\"#e377c2\",\"#9467bd\",\"#8c564b\",\"#9467bd\",\"#e377c2\",\"#2ca02c\",\"#8c564b\",\"#9467bd\",\"#2ca02c\",\"#9467bd\",\"#8c564b\",\"#ff7f0e\",\"#2ca02c\",\"#d62728\",\"#2ca02c\",\"#e377c2\",\"#2ca02c\",\"#9467bd\",\"#2ca02c\",\"#7f7f7f\",\"#ff7f0e\",\"#1f77b4\",\"#8c564b\",\"#ff7f0e\",\"#ff7f0e\",\"#9467bd\",\"#1f77b4\",\"#ff7f0e\",\"#ff7f0e\",\"#8c564b\",\"#ff7f0e\",\"#ff7f0e\",\"#2ca02c\",\"#ff7f0e\",\"#1f77b4\",\"#8c564b\",\"#ff7f0e\",\"#e377c2\",\"#ff7f0e\",\"#8c564b\",\"#9467bd\",\"#8c564b\",\"#9467bd\",\"#e377c2\",\"#ff7f0e\",\"#1f77b4\",\"#ff7f0e\",\"#ff7f0e\",\"#1f77b4\",\"#1f77b4\",\"#9467bd\",\"#1f77b4\",\"#8c564b\",\"#ff7f0e\",\"#1f77b4\",\"#2ca02c\",\"#1f77b4\",\"#9467bd\",\"#e377c2\",\"#2ca02c\",\"#1f77b4\",\"#8c564b\",\"#1f77b4\",\"#1f77b4\",\"#1f77b4\",\"#9467bd\",\"#d62728\",\"#8c564b\",\"#8c564b\",\"#8c564b\",\"#9467bd\",\"#8c564b\",\"#9467bd\",\"#8c564b\",\"#d62728\",\"#1f77b4\",\"#8c564b\",\"#1f77b4\",\"#2ca02c\",\"#1f77b4\",\"#ff7f0e\",\"#e377c2\",\"#e377c2\",\"#8c564b\",\"#8c564b\",\"#e377c2\",\"#ff7f0e\",\"#e377c2\",\"#2ca02c\",\"#e377c2\",\"#d62728\",\"#ff7f0e\",\"#ff7f0e\",\"#1f77b4\",\"#ff7f0e\",\"#d62728\",\"#ff7f0e\",\"#ff7f0e\",\"#e377c2\",\"#8c564b\",\"#8c564b\",\"#1f77b4\",\"#d62728\",\"#9467bd\",\"#2ca02c\",\"#ff7f0e\",\"#8c564b\",\"#ff7f0e\",\"#1f77b4\",\"#ff7f0e\",\"#8c564b\",\"#1f77b4\",\"#d62728\",\"#1f77b4\",\"#8c564b\",\"#7f7f7f\",\"#e377c2\",\"#1f77b4\",\"#1f77b4\",\"#9467bd\",\"#d62728\",\"#9467bd\",\"#1f77b4\",\"#8c564b\",\"#1f77b4\",\"#d62728\",\"#1f77b4\",\"#d62728\",\"#7f7f7f\",\"#ff7f0e\",\"#9467bd\",\"#1f77b4\",\"#1f77b4\",\"#1f77b4\",\"#1f77b4\",\"#1f77b4\",\"#1f77b4\",\"#1f77b4\",\"#e377c2\",\"#9467bd\",\"#d62728\",\"#8c564b\",\"#8c564b\",\"#1f77b4\",\"#1f77b4\",\"#2ca02c\",\"#9467bd\",\"#9467bd\",\"#ff7f0e\",\"#2ca02c\",\"#1f77b4\",\"#1f77b4\",\"#ff7f0e\",\"#7f7f7f\",\"#7f7f7f\",\"#8c564b\",\"#1f77b4\",\"#ff7f0e\",\"#d62728\",\"#8c564b\",\"#2ca02c\",\"#1f77b4\",\"#ff7f0e\",\"#2ca02c\",\"#8c564b\",\"#ff7f0e\",\"#d62728\",\"#2ca02c\",\"#d62728\",\"#1f77b4\",\"#1f77b4\",\"#9467bd\",\"#8c564b\",\"#d62728\",\"#1f77b4\",\"#1f77b4\",\"#1f77b4\",\"#2ca02c\",\"#1f77b4\",\"#9467bd\",\"#1f77b4\",\"#bcbd22\",\"#ff7f0e\",\"#2ca02c\",\"#e377c2\",\"#d62728\",\"#d62728\",\"#d62728\",\"#e377c2\",\"#1f77b4\",\"#e377c2\",\"#9467bd\",\"#e377c2\",\"#7f7f7f\",\"#ff7f0e\",\"#ff7f0e\",\"#9467bd\",\"#1f77b4\",\"#ff7f0e\",\"#ff7f0e\",\"#ff7f0e\",\"#8c564b\",\"#ff7f0e\",\"#1f77b4\",\"#7f7f7f\",\"#ff7f0e\",\"#8c564b\",\"#1f77b4\",\"#ff7f0e\",\"#1f77b4\",\"#ff7f0e\",\"#e377c2\",\"#ff7f0e\",\"#2ca02c\",\"#d62728\",\"#ff7f0e\",\"#ff7f0e\",\"#d62728\",\"#1f77b4\",\"#2ca02c\",\"#9467bd\",\"#ff7f0e\",\"#ff7f0e\",\"#1f77b4\",\"#1f77b4\",\"#8c564b\",\"#1f77b4\",\"#8c564b\",\"#ff7f0e\",\"#1f77b4\",\"#1f77b4\",\"#1f77b4\",\"#8c564b\",\"#1f77b4\",\"#ff7f0e\",\"#e377c2\",\"#1f77b4\",\"#8c564b\",\"#8c564b\",\"#1f77b4\",\"#9467bd\",\"#e377c2\",\"#e377c2\",\"#2ca02c\",\"#e377c2\",\"#d62728\",\"#9467bd\",\"#9467bd\",\"#1f77b4\",\"#1f77b4\",\"#9467bd\",\"#1f77b4\",\"#1f77b4\",\"#8c564b\",\"#9467bd\",\"#1f77b4\",\"#9467bd\",\"#d62728\",\"#9467bd\",\"#e377c2\",\"#1f77b4\",\"#1f77b4\",\"#d62728\",\"#2ca02c\",\"#d62728\",\"#1f77b4\",\"#ff7f0e\",\"#8c564b\",\"#e377c2\",\"#ff7f0e\",\"#ff7f0e\",\"#9467bd\",\"#ff7f0e\",\"#1f77b4\",\"#8c564b\",\"#8c564b\",\"#d62728\",\"#1f77b4\",\"#d62728\",\"#1f77b4\",\"#1f77b4\",\"#2ca02c\",\"#e377c2\",\"#8c564b\",\"#2ca02c\",\"#ff7f0e\",\"#ff7f0e\",\"#ff7f0e\",\"#1f77b4\",\"#1f77b4\",\"#1f77b4\",\"#2ca02c\",\"#1f77b4\",\"#1f77b4\",\"#1f77b4\",\"#1f77b4\",\"#8c564b\",\"#7f7f7f\",\"#8c564b\",\"#8c564b\",\"#e377c2\",\"#e377c2\",\"#9467bd\",\"#e377c2\",\"#1f77b4\",\"#1f77b4\",\"#1f77b4\",\"#1f77b4\",\"#1f77b4\",\"#8c564b\",\"#ff7f0e\",\"#1f77b4\",\"#ff7f0e\",\"#2ca02c\",\"#ff7f0e\",\"#d62728\",\"#9467bd\",\"#8c564b\",\"#2ca02c\",\"#8c564b\",\"#8c564b\",\"#8c564b\",\"#e377c2\",\"#2ca02c\",\"#e377c2\",\"#2ca02c\",\"#2ca02c\",\"#2ca02c\",\"#d62728\",\"#d62728\",\"#9467bd\",\"#9467bd\",\"#1f77b4\",\"#9467bd\",\"#8c564b\",\"#2ca02c\",\"#1f77b4\",\"#ff7f0e\",\"#8c564b\",\"#ff7f0e\",\"#8c564b\",\"#ff7f0e\",\"#9467bd\",\"#1f77b4\",\"#e377c2\",\"#1f77b4\",\"#d62728\",\"#ff7f0e\",\"#d62728\",\"#8c564b\",\"#8c564b\",\"#ff7f0e\",\"#9467bd\",\"#2ca02c\",\"#1f77b4\",\"#ff7f0e\",\"#ff7f0e\",\"#ff7f0e\",\"#1f77b4\",\"#1f77b4\",\"#ff7f0e\",\"#1f77b4\",\"#1f77b4\",\"#2ca02c\",\"#1f77b4\",\"#1f77b4\",\"#2ca02c\",\"#1f77b4\",\"#1f77b4\",\"#1f77b4\",\"#ff7f0e\",\"#1f77b4\",\"#d62728\",\"#2ca02c\",\"#1f77b4\",\"#1f77b4\",\"#d62728\",\"#ff7f0e\",\"#9467bd\",\"#8c564b\",\"#1f77b4\",\"#1f77b4\",\"#1f77b4\",\"#1f77b4\",\"#2ca02c\",\"#1f77b4\",\"#ff7f0e\",\"#2ca02c\",\"#1f77b4\",\"#ff7f0e\",\"#8c564b\",\"#d62728\",\"#2ca02c\",\"#ff7f0e\",\"#ff7f0e\",\"#9467bd\",\"#ff7f0e\",\"#8c564b\",\"#ff7f0e\",\"#ff7f0e\",\"#1f77b4\",\"#2ca02c\",\"#9467bd\",\"#d62728\",\"#1f77b4\",\"#ff7f0e\",\"#ff7f0e\",\"#1f77b4\",\"#e377c2\",\"#1f77b4\",\"#1f77b4\",\"#1f77b4\",\"#8c564b\",\"#1f77b4\",\"#2ca02c\",\"#d62728\",\"#8c564b\",\"#ff7f0e\",\"#1f77b4\",\"#9467bd\",\"#ff7f0e\",\"#2ca02c\",\"#8c564b\",\"#8c564b\",\"#1f77b4\",\"#9467bd\",\"#1f77b4\",\"#8c564b\",\"#ff7f0e\",\"#ff7f0e\",\"#ff7f0e\",\"#9467bd\",\"#ff7f0e\",\"#ff7f0e\",\"#9467bd\",\"#7f7f7f\",\"#1f77b4\",\"#1f77b4\",\"#1f77b4\",\"#e377c2\",\"#ff7f0e\",\"#ff7f0e\",\"#1f77b4\",\"#ff7f0e\",\"#8c564b\",\"#ff7f0e\",\"#1f77b4\",\"#7f7f7f\",\"#ff7f0e\",\"#1f77b4\",\"#e377c2\",\"#8c564b\",\"#9467bd\",\"#1f77b4\",\"#8c564b\",\"#1f77b4\",\"#2ca02c\",\"#e377c2\",\"#7f7f7f\",\"#ff7f0e\",\"#8c564b\",\"#9467bd\",\"#bcbd22\",\"#7f7f7f\",\"#1f77b4\",\"#9467bd\",\"#1f77b4\",\"#8c564b\",\"#1f77b4\",\"#1f77b4\",\"#8c564b\",\"#ff7f0e\",\"#1f77b4\",\"#e377c2\",\"#ff7f0e\",\"#ff7f0e\",\"#8c564b\",\"#1f77b4\",\"#1f77b4\",\"#9467bd\",\"#8c564b\",\"#7f7f7f\",\"#1f77b4\",\"#1f77b4\",\"#1f77b4\",\"#8c564b\",\"#1f77b4\",\"#2ca02c\",\"#2ca02c\",\"#1f77b4\",\"#d62728\",\"#2ca02c\",\"#e377c2\",\"#ff7f0e\",\"#1f77b4\",\"#9467bd\",\"#ff7f0e\",\"#ff7f0e\",\"#e377c2\",\"#1f77b4\",\"#1f77b4\",\"#ff7f0e\",\"#d62728\",\"#ff7f0e\",\"#ff7f0e\",\"#1f77b4\",\"#1f77b4\",\"#ff7f0e\",\"#ff7f0e\",\"#ff7f0e\",\"#ff7f0e\",\"#ff7f0e\",\"#9467bd\",\"#1f77b4\",\"#d62728\",\"#1f77b4\",\"#e377c2\",\"#ff7f0e\",\"#d62728\",\"#1f77b4\",\"#ff7f0e\",\"#1f77b4\",\"#1f77b4\",\"#2ca02c\",\"#1f77b4\",\"#2ca02c\",\"#8c564b\",\"#9467bd\",\"#1f77b4\",\"#1f77b4\",\"#1f77b4\",\"#e377c2\",\"#ff7f0e\",\"#ff7f0e\",\"#d62728\",\"#1f77b4\",\"#1f77b4\",\"#ff7f0e\",\"#ff7f0e\",\"#8c564b\",\"#1f77b4\",\"#1f77b4\",\"#ff7f0e\",\"#ff7f0e\",\"#8c564b\",\"#1f77b4\",\"#d62728\",\"#1f77b4\",\"#8c564b\",\"#2ca02c\",\"#1f77b4\",\"#2ca02c\",\"#8c564b\",\"#1f77b4\",\"#8c564b\",\"#9467bd\",\"#1f77b4\",\"#2ca02c\",\"#1f77b4\",\"#1f77b4\",\"#9467bd\",\"#8c564b\",\"#2ca02c\",\"#e377c2\",\"#8c564b\",\"#1f77b4\",\"#1f77b4\",\"#8c564b\",\"#8c564b\",\"#1f77b4\",\"#2ca02c\",\"#9467bd\",\"#8c564b\",\"#1f77b4\",\"#1f77b4\",\"#2ca02c\",\"#8c564b\",\"#1f77b4\",\"#2ca02c\",\"#1f77b4\",\"#8c564b\",\"#9467bd\",\"#2ca02c\",\"#1f77b4\",\"#8c564b\",\"#1f77b4\",\"#e377c2\",\"#d62728\",\"#e377c2\",\"#7f7f7f\",\"#d62728\",\"#1f77b4\",\"#1f77b4\",\"#1f77b4\",\"#8c564b\",\"#ff7f0e\",\"#1f77b4\",\"#e377c2\",\"#ff7f0e\",\"#1f77b4\",\"#9467bd\",\"#1f77b4\",\"#e377c2\",\"#1f77b4\",\"#e377c2\",\"#ff7f0e\",\"#1f77b4\",\"#1f77b4\",\"#2ca02c\",\"#1f77b4\",\"#d62728\",\"#1f77b4\",\"#9467bd\",\"#1f77b4\",\"#2ca02c\",\"#ff7f0e\",\"#9467bd\",\"#e377c2\",\"#bcbd22\",\"#2ca02c\",\"#1f77b4\",\"#1f77b4\",\"#ff7f0e\",\"#ff7f0e\",\"#9467bd\",\"#ff7f0e\",\"#ff7f0e\",\"#1f77b4\",\"#ff7f0e\",\"#ff7f0e\",\"#7f7f7f\",\"#7f7f7f\",\"#7f7f7f\",\"#e377c2\",\"#9467bd\",\"#ff7f0e\",\"#ff7f0e\",\"#e377c2\",\"#1f77b4\",\"#1f77b4\",\"#1f77b4\",\"#1f77b4\",\"#8c564b\",\"#ff7f0e\",\"#8c564b\",\"#ff7f0e\",\"#9467bd\",\"#ff7f0e\",\"#7f7f7f\",\"#1f77b4\",\"#ff7f0e\",\"#1f77b4\",\"#ff7f0e\",\"#8c564b\",\"#1f77b4\",\"#ff7f0e\",\"#2ca02c\",\"#d62728\",\"#1f77b4\",\"#1f77b4\",\"#1f77b4\",\"#8c564b\",\"#d62728\",\"#ff7f0e\",\"#2ca02c\",\"#9467bd\",\"#2ca02c\",\"#1f77b4\",\"#1f77b4\",\"#ff7f0e\",\"#1f77b4\",\"#d62728\",\"#2ca02c\",\"#e377c2\",\"#e377c2\",\"#7f7f7f\",\"#e377c2\",\"#1f77b4\",\"#ff7f0e\",\"#ff7f0e\",\"#2ca02c\",\"#9467bd\",\"#2ca02c\",\"#2ca02c\",\"#2ca02c\",\"#8c564b\",\"#9467bd\",\"#9467bd\",\"#ff7f0e\",\"#ff7f0e\",\"#ff7f0e\",\"#ff7f0e\",\"#8c564b\",\"#ff7f0e\",\"#ff7f0e\",\"#ff7f0e\",\"#8c564b\",\"#e377c2\",\"#e377c2\",\"#ff7f0e\",\"#2ca02c\",\"#e377c2\",\"#8c564b\",\"#e377c2\",\"#e377c2\",\"#8c564b\",\"#9467bd\",\"#7f7f7f\",\"#8c564b\",\"#ff7f0e\",\"#8c564b\",\"#ff7f0e\",\"#d62728\",\"#8c564b\",\"#8c564b\",\"#ff7f0e\",\"#1f77b4\",\"#ff7f0e\",\"#1f77b4\",\"#1f77b4\",\"#1f77b4\",\"#1f77b4\",\"#1f77b4\",\"#e377c2\",\"#1f77b4\",\"#d62728\",\"#8c564b\",\"#2ca02c\",\"#1f77b4\",\"#8c564b\",\"#1f77b4\",\"#8c564b\",\"#1f77b4\",\"#ff7f0e\",\"#8c564b\",\"#ff7f0e\",\"#8c564b\",\"#1f77b4\",\"#1f77b4\",\"#ff7f0e\",\"#1f77b4\",\"#2ca02c\",\"#8c564b\",\"#8c564b\",\"#9467bd\",\"#1f77b4\",\"#8c564b\",\"#9467bd\",\"#1f77b4\",\"#1f77b4\",\"#8c564b\",\"#1f77b4\",\"#9467bd\",\"#2ca02c\",\"#e377c2\",\"#e377c2\",\"#ff7f0e\",\"#1f77b4\",\"#8c564b\",\"#8c564b\",\"#1f77b4\",\"#8c564b\",\"#1f77b4\",\"#1f77b4\",\"#e377c2\",\"#1f77b4\",\"#1f77b4\",\"#1f77b4\",\"#1f77b4\",\"#8c564b\",\"#8c564b\",\"#1f77b4\",\"#1f77b4\",\"#1f77b4\",\"#9467bd\",\"#e377c2\",\"#1f77b4\",\"#1f77b4\",\"#7f7f7f\",\"#1f77b4\",\"#ff7f0e\",\"#8c564b\",\"#9467bd\",\"#9467bd\",\"#7f7f7f\",\"#8c564b\",\"#d62728\",\"#1f77b4\",\"#8c564b\",\"#ff7f0e\",\"#8c564b\",\"#8c564b\",\"#9467bd\",\"#ff7f0e\",\"#e377c2\",\"#1f77b4\",\"#9467bd\",\"#9467bd\",\"#1f77b4\",\"#e377c2\",\"#2ca02c\",\"#ff7f0e\",\"#1f77b4\",\"#8c564b\",\"#8c564b\",\"#1f77b4\",\"#1f77b4\",\"#ff7f0e\",\"#8c564b\",\"#9467bd\",\"#1f77b4\",\"#e377c2\",\"#1f77b4\",\"#ff7f0e\",\"#d62728\",\"#ff7f0e\",\"#7f7f7f\",\"#8c564b\",\"#1f77b4\",\"#8c564b\",\"#8c564b\",\"#8c564b\",\"#1f77b4\",\"#2ca02c\",\"#2ca02c\",\"#2ca02c\",\"#1f77b4\",\"#1f77b4\",\"#9467bd\",\"#9467bd\",\"#e377c2\",\"#1f77b4\",\"#e377c2\",\"#8c564b\",\"#ff7f0e\",\"#ff7f0e\",\"#ff7f0e\",\"#8c564b\",\"#ff7f0e\",\"#ff7f0e\",\"#8c564b\",\"#1f77b4\",\"#1f77b4\",\"#1f77b4\",\"#bcbd22\",\"#bcbd22\",\"#bcbd22\",\"#bcbd22\",\"#d62728\",\"#8c564b\",\"#8c564b\",\"#9467bd\",\"#9467bd\",\"#8c564b\",\"#1f77b4\",\"#1f77b4\",\"#8c564b\",\"#9467bd\",\"#e377c2\",\"#8c564b\",\"#8c564b\",\"#e377c2\",\"#d62728\",\"#1f77b4\",\"#9467bd\",\"#9467bd\",\"#8c564b\",\"#e377c2\",\"#ff7f0e\",\"#1f77b4\",\"#1f77b4\",\"#9467bd\",\"#1f77b4\",\"#1f77b4\",\"#ff7f0e\",\"#ff7f0e\",\"#1f77b4\",\"#1f77b4\",\"#1f77b4\",\"#1f77b4\",\"#1f77b4\",\"#2ca02c\",\"#1f77b4\",\"#2ca02c\",\"#8c564b\",\"#ff7f0e\",\"#1f77b4\",\"#1f77b4\",\"#1f77b4\",\"#1f77b4\",\"#8c564b\",\"#1f77b4\",\"#8c564b\",\"#d62728\",\"#d62728\",\"#1f77b4\",\"#ff7f0e\",\"#8c564b\",\"#ff7f0e\",\"#2ca02c\",\"#8c564b\",\"#ff7f0e\",\"#8c564b\",\"#ff7f0e\",\"#7f7f7f\",\"#1f77b4\",\"#1f77b4\",\"#1f77b4\",\"#ff7f0e\",\"#8c564b\",\"#1f77b4\",\"#ff7f0e\",\"#1f77b4\",\"#9467bd\",\"#8c564b\",\"#ff7f0e\",\"#1f77b4\",\"#d62728\",\"#ff7f0e\",\"#1f77b4\",\"#1f77b4\",\"#9467bd\",\"#ff7f0e\",\"#1f77b4\",\"#7f7f7f\",\"#ff7f0e\",\"#9467bd\",\"#8c564b\",\"#2ca02c\",\"#1f77b4\",\"#8c564b\",\"#2ca02c\",\"#1f77b4\",\"#e377c2\",\"#ff7f0e\",\"#1f77b4\",\"#8c564b\",\"#2ca02c\",\"#1f77b4\",\"#d62728\",\"#ff7f0e\",\"#9467bd\",\"#ff7f0e\",\"#8c564b\",\"#8c564b\",\"#2ca02c\",\"#e377c2\",\"#1f77b4\",\"#1f77b4\",\"#1f77b4\",\"#1f77b4\",\"#1f77b4\",\"#1f77b4\",\"#1f77b4\",\"#8c564b\",\"#1f77b4\",\"#8c564b\",\"#1f77b4\",\"#1f77b4\",\"#8c564b\",\"#ff7f0e\",\"#ff7f0e\",\"#ff7f0e\",\"#ff7f0e\",\"#ff7f0e\",\"#9467bd\",\"#1f77b4\",\"#d62728\",\"#1f77b4\",\"#1f77b4\",\"#ff7f0e\",\"#2ca02c\",\"#2ca02c\",\"#8c564b\",\"#8c564b\",\"#1f77b4\",\"#2ca02c\",\"#e377c2\",\"#1f77b4\",\"#1f77b4\",\"#ff7f0e\",\"#d62728\",\"#e377c2\",\"#1f77b4\",\"#7f7f7f\",\"#ff7f0e\",\"#e377c2\",\"#2ca02c\",\"#ff7f0e\",\"#1f77b4\",\"#8c564b\",\"#8c564b\",\"#8c564b\",\"#9467bd\",\"#8c564b\",\"#8c564b\",\"#8c564b\",\"#1f77b4\",\"#8c564b\",\"#1f77b4\",\"#9467bd\",\"#1f77b4\",\"#1f77b4\",\"#1f77b4\",\"#ff7f0e\",\"#1f77b4\",\"#2ca02c\",\"#ff7f0e\",\"#ff7f0e\",\"#2ca02c\",\"#e377c2\",\"#d62728\",\"#2ca02c\",\"#1f77b4\",\"#1f77b4\",\"#ff7f0e\",\"#1f77b4\",\"#ff7f0e\",\"#1f77b4\",\"#ff7f0e\",\"#2ca02c\",\"#2ca02c\",\"#ff7f0e\",\"#2ca02c\",\"#2ca02c\",\"#1f77b4\",\"#9467bd\",\"#7f7f7f\",\"#8c564b\",\"#8c564b\",\"#17becf\",\"#1f77b4\",\"#7f7f7f\",\"#1f77b4\",\"#8c564b\",\"#9467bd\",\"#d62728\",\"#1f77b4\",\"#d62728\",\"#1f77b4\",\"#ff7f0e\",\"#2ca02c\",\"#8c564b\",\"#d62728\",\"#2ca02c\",\"#2ca02c\",\"#2ca02c\",\"#9467bd\",\"#8c564b\",\"#8c564b\",\"#8c564b\",\"#9467bd\",\"#d62728\",\"#9467bd\",\"#7f7f7f\",\"#7f7f7f\",\"#7f7f7f\",\"#d62728\",\"#7f7f7f\",\"#8c564b\",\"#9467bd\",\"#ff7f0e\",\"#1f77b4\",\"#1f77b4\",\"#8c564b\",\"#ff7f0e\",\"#1f77b4\",\"#1f77b4\",\"#ff7f0e\",\"#ff7f0e\",\"#1f77b4\",\"#ff7f0e\",\"#e377c2\",\"#7f7f7f\",\"#ff7f0e\",\"#e377c2\",\"#8c564b\",\"#8c564b\",\"#8c564b\",\"#9467bd\",\"#e377c2\",\"#2ca02c\",\"#8c564b\",\"#8c564b\",\"#ff7f0e\",\"#ff7f0e\",\"#e377c2\",\"#9467bd\",\"#d62728\",\"#e377c2\",\"#9467bd\",\"#ff7f0e\",\"#1f77b4\",\"#ff7f0e\",\"#e377c2\",\"#1f77b4\",\"#ff7f0e\",\"#ff7f0e\",\"#ff7f0e\",\"#8c564b\",\"#1f77b4\",\"#ff7f0e\",\"#8c564b\",\"#e377c2\",\"#8c564b\",\"#ff7f0e\",\"#d62728\",\"#8c564b\",\"#ff7f0e\",\"#1f77b4\",\"#e377c2\",\"#8c564b\",\"#ff7f0e\",\"#d62728\",\"#2ca02c\",\"#ff7f0e\",\"#e377c2\",\"#ff7f0e\",\"#1f77b4\",\"#8c564b\",\"#2ca02c\",\"#1f77b4\",\"#1f77b4\",\"#7f7f7f\",\"#1f77b4\",\"#1f77b4\",\"#9467bd\",\"#8c564b\",\"#ff7f0e\",\"#1f77b4\",\"#ff7f0e\",\"#bcbd22\",\"#d62728\",\"#ff7f0e\",\"#7f7f7f\",\"#1f77b4\",\"#8c564b\",\"#e377c2\",\"#1f77b4\",\"#8c564b\",\"#8c564b\",\"#8c564b\",\"#8c564b\",\"#ff7f0e\",\"#1f77b4\",\"#8c564b\",\"#ff7f0e\",\"#2ca02c\",\"#8c564b\",\"#ff7f0e\",\"#9467bd\",\"#1f77b4\",\"#e377c2\",\"#ff7f0e\",\"#2ca02c\",\"#1f77b4\",\"#d62728\",\"#1f77b4\",\"#8c564b\",\"#8c564b\",\"#2ca02c\",\"#1f77b4\",\"#e377c2\",\"#9467bd\",\"#8c564b\",\"#2ca02c\",\"#2ca02c\",\"#1f77b4\",\"#7f7f7f\",\"#ff7f0e\",\"#1f77b4\",\"#ff7f0e\",\"#ff7f0e\",\"#1f77b4\",\"#1f77b4\",\"#7f7f7f\",\"#1f77b4\",\"#1f77b4\",\"#1f77b4\",\"#1f77b4\",\"#7f7f7f\",\"#1f77b4\",\"#ff7f0e\",\"#7f7f7f\",\"#1f77b4\",\"#e377c2\",\"#9467bd\",\"#8c564b\",\"#e377c2\",\"#1f77b4\",\"#8c564b\",\"#2ca02c\",\"#1f77b4\",\"#d62728\",\"#1f77b4\",\"#9467bd\",\"#e377c2\",\"#2ca02c\",\"#1f77b4\",\"#8c564b\",\"#ff7f0e\",\"#ff7f0e\",\"#2ca02c\",\"#9467bd\",\"#bcbd22\",\"#1f77b4\",\"#ff7f0e\",\"#2ca02c\",\"#ff7f0e\",\"#1f77b4\",\"#2ca02c\",\"#ff7f0e\",\"#ff7f0e\",\"#2ca02c\",\"#e377c2\",\"#d62728\",\"#1f77b4\",\"#8c564b\",\"#8c564b\",\"#e377c2\",\"#ff7f0e\",\"#ff7f0e\",\"#ff7f0e\",\"#d62728\",\"#d62728\",\"#ff7f0e\",\"#2ca02c\",\"#9467bd\",\"#8c564b\",\"#1f77b4\",\"#ff7f0e\",\"#2ca02c\",\"#8c564b\",\"#2ca02c\",\"#2ca02c\",\"#d62728\",\"#2ca02c\",\"#2ca02c\",\"#2ca02c\",\"#d62728\",\"#2ca02c\",\"#1f77b4\",\"#d62728\",\"#8c564b\",\"#1f77b4\",\"#1f77b4\",\"#8c564b\",\"#1f77b4\",\"#1f77b4\",\"#8c564b\",\"#1f77b4\",\"#1f77b4\",\"#ff7f0e\",\"#ff7f0e\",\"#ff7f0e\",\"#ff7f0e\",\"#ff7f0e\",\"#ff7f0e\",\"#d62728\",\"#8c564b\",\"#1f77b4\",\"#ff7f0e\",\"#8c564b\",\"#ff7f0e\",\"#ff7f0e\",\"#ff7f0e\",\"#7f7f7f\",\"#8c564b\",\"#e377c2\",\"#1f77b4\",\"#2ca02c\",\"#1f77b4\",\"#2ca02c\",\"#ff7f0e\",\"#1f77b4\",\"#ff7f0e\",\"#ff7f0e\",\"#ff7f0e\",\"#ff7f0e\",\"#1f77b4\",\"#8c564b\",\"#2ca02c\",\"#1f77b4\",\"#8c564b\",\"#1f77b4\",\"#1f77b4\",\"#1f77b4\",\"#e377c2\",\"#e377c2\",\"#8c564b\",\"#1f77b4\",\"#8c564b\",\"#2ca02c\",\"#8c564b\",\"#2ca02c\",\"#8c564b\",\"#2ca02c\",\"#2ca02c\",\"#9467bd\",\"#d62728\",\"#1f77b4\",\"#8c564b\",\"#1f77b4\",\"#1f77b4\",\"#1f77b4\",\"#1f77b4\",\"#8c564b\",\"#2ca02c\",\"#d62728\",\"#9467bd\",\"#1f77b4\",\"#d62728\",\"#1f77b4\",\"#ff7f0e\",\"#e377c2\",\"#ff7f0e\",\"#e377c2\",\"#8c564b\",\"#8c564b\",\"#e377c2\",\"#ff7f0e\",\"#1f77b4\",\"#9467bd\",\"#e377c2\",\"#1f77b4\",\"#1f77b4\",\"#1f77b4\",\"#d62728\",\"#1f77b4\",\"#d62728\",\"#1f77b4\",\"#1f77b4\",\"#1f77b4\",\"#1f77b4\",\"#1f77b4\",\"#1f77b4\",\"#1f77b4\",\"#1f77b4\",\"#9467bd\",\"#8c564b\",\"#2ca02c\",\"#2ca02c\",\"#2ca02c\",\"#2ca02c\",\"#1f77b4\",\"#2ca02c\",\"#1f77b4\",\"#2ca02c\",\"#1f77b4\",\"#8c564b\",\"#1f77b4\",\"#1f77b4\",\"#8c564b\",\"#1f77b4\",\"#8c564b\",\"#8c564b\",\"#2ca02c\",\"#ff7f0e\",\"#1f77b4\",\"#9467bd\",\"#1f77b4\",\"#1f77b4\",\"#7f7f7f\",\"#ff7f0e\",\"#1f77b4\",\"#7f7f7f\",\"#1f77b4\",\"#8c564b\",\"#ff7f0e\",\"#ff7f0e\",\"#e377c2\",\"#1f77b4\",\"#ff7f0e\",\"#ff7f0e\",\"#1f77b4\",\"#bcbd22\",\"#2ca02c\",\"#1f77b4\",\"#1f77b4\",\"#2ca02c\",\"#2ca02c\",\"#ff7f0e\",\"#2ca02c\",\"#ff7f0e\",\"#1f77b4\",\"#1f77b4\",\"#2ca02c\",\"#2ca02c\",\"#8c564b\",\"#9467bd\",\"#d62728\",\"#d62728\",\"#2ca02c\",\"#2ca02c\",\"#1f77b4\",\"#2ca02c\",\"#8c564b\",\"#7f7f7f\",\"#ff7f0e\",\"#2ca02c\",\"#ff7f0e\",\"#ff7f0e\",\"#ff7f0e\",\"#ff7f0e\",\"#ff7f0e\",\"#ff7f0e\",\"#8c564b\",\"#ff7f0e\",\"#2ca02c\",\"#ff7f0e\",\"#2ca02c\",\"#ff7f0e\",\"#9467bd\",\"#2ca02c\",\"#1f77b4\",\"#2ca02c\",\"#8c564b\",\"#8c564b\",\"#2ca02c\",\"#ff7f0e\",\"#ff7f0e\",\"#ff7f0e\",\"#d62728\",\"#2ca02c\",\"#2ca02c\",\"#9467bd\",\"#1f77b4\",\"#1f77b4\",\"#1f77b4\",\"#1f77b4\",\"#1f77b4\",\"#1f77b4\",\"#1f77b4\",\"#1f77b4\",\"#1f77b4\",\"#1f77b4\",\"#e377c2\",\"#8c564b\",\"#8c564b\",\"#1f77b4\",\"#8c564b\",\"#8c564b\",\"#1f77b4\",\"#1f77b4\",\"#9467bd\",\"#1f77b4\",\"#d62728\",\"#ff7f0e\",\"#1f77b4\",\"#ff7f0e\",\"#1f77b4\",\"#8c564b\",\"#ff7f0e\",\"#9467bd\",\"#8c564b\",\"#ff7f0e\",\"#1f77b4\",\"#1f77b4\",\"#1f77b4\",\"#7f7f7f\",\"#1f77b4\",\"#1f77b4\",\"#1f77b4\",\"#1f77b4\",\"#e377c2\",\"#1f77b4\",\"#9467bd\",\"#8c564b\",\"#e377c2\",\"#8c564b\",\"#1f77b4\",\"#9467bd\",\"#e377c2\",\"#8c564b\",\"#1f77b4\",\"#8c564b\",\"#ff7f0e\",\"#e377c2\",\"#ff7f0e\",\"#ff7f0e\",\"#ff7f0e\",\"#e377c2\",\"#1f77b4\",\"#1f77b4\",\"#d62728\",\"#1f77b4\",\"#ff7f0e\",\"#ff7f0e\",\"#9467bd\",\"#1f77b4\",\"#ff7f0e\",\"#e377c2\",\"#e377c2\",\"#d62728\",\"#2ca02c\",\"#8c564b\",\"#8c564b\",\"#8c564b\",\"#ff7f0e\",\"#ff7f0e\",\"#8c564b\",\"#e377c2\",\"#e377c2\",\"#d62728\",\"#8c564b\",\"#e377c2\",\"#e377c2\",\"#1f77b4\",\"#9467bd\",\"#9467bd\",\"#1f77b4\",\"#1f77b4\",\"#1f77b4\",\"#e377c2\",\"#7f7f7f\",\"#8c564b\",\"#1f77b4\",\"#9467bd\",\"#1f77b4\",\"#7f7f7f\",\"#d62728\",\"#1f77b4\",\"#bcbd22\",\"#bcbd22\",\"#bcbd22\",\"#1f77b4\",\"#d62728\",\"#e377c2\",\"#8c564b\",\"#8c564b\",\"#e377c2\",\"#8c564b\",\"#d62728\",\"#e377c2\",\"#1f77b4\",\"#1f77b4\",\"#1f77b4\",\"#2ca02c\",\"#8c564b\",\"#1f77b4\",\"#8c564b\",\"#8c564b\",\"#1f77b4\",\"#8c564b\",\"#8c564b\",\"#1f77b4\",\"#d62728\",\"#8c564b\",\"#8c564b\",\"#1f77b4\",\"#1f77b4\",\"#d62728\",\"#1f77b4\",\"#8c564b\",\"#9467bd\",\"#8c564b\",\"#d62728\",\"#8c564b\",\"#8c564b\",\"#2ca02c\",\"#1f77b4\",\"#d62728\",\"#1f77b4\",\"#8c564b\",\"#8c564b\",\"#9467bd\",\"#8c564b\",\"#d62728\",\"#8c564b\",\"#d62728\",\"#8c564b\",\"#1f77b4\",\"#1f77b4\",\"#1f77b4\",\"#1f77b4\",\"#1f77b4\",\"#bcbd22\",\"#8c564b\",\"#8c564b\",\"#1f77b4\",\"#9467bd\",\"#e377c2\",\"#9467bd\",\"#9467bd\",\"#d62728\",\"#1f77b4\",\"#8c564b\",\"#8c564b\",\"#d62728\",\"#8c564b\",\"#8c564b\",\"#8c564b\",\"#1f77b4\",\"#8c564b\",\"#d62728\",\"#9467bd\",\"#2ca02c\",\"#9467bd\",\"#1f77b4\",\"#8c564b\",\"#9467bd\",\"#8c564b\",\"#8c564b\",\"#8c564b\",\"#1f77b4\",\"#8c564b\",\"#8c564b\",\"#ff7f0e\",\"#d62728\",\"#1f77b4\",\"#1f77b4\",\"#8c564b\",\"#1f77b4\",\"#1f77b4\",\"#8c564b\",\"#1f77b4\",\"#1f77b4\",\"#9467bd\",\"#1f77b4\",\"#8c564b\",\"#d62728\",\"#1f77b4\",\"#1f77b4\",\"#1f77b4\",\"#1f77b4\",\"#9467bd\",\"#d62728\",\"#8c564b\",\"#8c564b\",\"#1f77b4\",\"#1f77b4\",\"#d62728\",\"#9467bd\",\"#1f77b4\",\"#8c564b\",\"#9467bd\",\"#9467bd\",\"#9467bd\",\"#1f77b4\",\"#8c564b\",\"#1f77b4\",\"#1f77b4\",\"#8c564b\",\"#1f77b4\",\"#1f77b4\",\"#1f77b4\",\"#9467bd\",\"#d62728\",\"#1f77b4\",\"#9467bd\",\"#8c564b\",\"#1f77b4\",\"#8c564b\",\"#9467bd\",\"#8c564b\",\"#d62728\",\"#9467bd\",\"#1f77b4\",\"#8c564b\",\"#2ca02c\",\"#8c564b\",\"#d62728\",\"#8c564b\",\"#d62728\",\"#9467bd\",\"#d62728\",\"#9467bd\",\"#8c564b\",\"#1f77b4\",\"#d62728\",\"#d62728\",\"#8c564b\",\"#9467bd\",\"#1f77b4\",\"#1f77b4\",\"#1f77b4\",\"#1f77b4\",\"#8c564b\",\"#1f77b4\",\"#1f77b4\",\"#1f77b4\",\"#8c564b\",\"#1f77b4\",\"#d62728\",\"#8c564b\",\"#d62728\",\"#d62728\",\"#d62728\",\"#2ca02c\",\"#1f77b4\",\"#8c564b\",\"#1f77b4\",\"#d62728\",\"#1f77b4\",\"#1f77b4\",\"#8c564b\",\"#1f77b4\",\"#1f77b4\",\"#8c564b\",\"#2ca02c\",\"#8c564b\",\"#d62728\",\"#8c564b\",\"#8c564b\",\"#9467bd\",\"#d62728\",\"#2ca02c\",\"#1f77b4\",\"#8c564b\",\"#9467bd\",\"#8c564b\",\"#8c564b\",\"#8c564b\",\"#d62728\",\"#d62728\",\"#9467bd\",\"#9467bd\",\"#8c564b\",\"#8c564b\",\"#2ca02c\",\"#8c564b\",\"#1f77b4\",\"#9467bd\",\"#ff7f0e\",\"#2ca02c\",\"#1f77b4\",\"#1f77b4\",\"#7f7f7f\",\"#e377c2\",\"#9467bd\",\"#ff7f0e\",\"#1f77b4\",\"#8c564b\",\"#e377c2\",\"#ff7f0e\",\"#1f77b4\",\"#1f77b4\",\"#1f77b4\",\"#1f77b4\",\"#8c564b\",\"#1f77b4\",\"#e377c2\",\"#8c564b\",\"#8c564b\",\"#8c564b\",\"#9467bd\",\"#ff7f0e\",\"#8c564b\",\"#2ca02c\",\"#1f77b4\",\"#ff7f0e\",\"#8c564b\",\"#ff7f0e\",\"#2ca02c\",\"#2ca02c\",\"#2ca02c\",\"#8c564b\",\"#d62728\",\"#9467bd\",\"#8c564b\",\"#1f77b4\",\"#ff7f0e\",\"#8c564b\",\"#8c564b\",\"#ff7f0e\",\"#1f77b4\",\"#1f77b4\",\"#1f77b4\",\"#2ca02c\",\"#ff7f0e\",\"#1f77b4\",\"#9467bd\",\"#d62728\",\"#d62728\",\"#8c564b\",\"#9467bd\",\"#1f77b4\",\"#ff7f0e\",\"#e377c2\",\"#ff7f0e\",\"#1f77b4\",\"#1f77b4\",\"#e377c2\",\"#7f7f7f\",\"#9467bd\",\"#7f7f7f\",\"#2ca02c\",\"#9467bd\",\"#1f77b4\",\"#9467bd\",\"#e377c2\",\"#1f77b4\",\"#8c564b\",\"#1f77b4\",\"#8c564b\",\"#ff7f0e\",\"#9467bd\",\"#1f77b4\",\"#1f77b4\",\"#8c564b\",\"#e377c2\",\"#ff7f0e\",\"#1f77b4\",\"#ff7f0e\",\"#2ca02c\",\"#9467bd\",\"#2ca02c\",\"#1f77b4\",\"#e377c2\",\"#7f7f7f\",\"#bcbd22\",\"#ff7f0e\",\"#ff7f0e\",\"#8c564b\",\"#1f77b4\",\"#ff7f0e\",\"#ff7f0e\",\"#1f77b4\",\"#1f77b4\",\"#1f77b4\",\"#8c564b\",\"#1f77b4\",\"#2ca02c\",\"#1f77b4\",\"#e377c2\",\"#e377c2\",\"#8c564b\",\"#1f77b4\",\"#8c564b\",\"#2ca02c\",\"#9467bd\",\"#2ca02c\",\"#2ca02c\",\"#d62728\",\"#9467bd\",\"#e377c2\",\"#8c564b\",\"#1f77b4\",\"#e377c2\",\"#8c564b\",\"#8c564b\",\"#e377c2\",\"#1f77b4\",\"#2ca02c\",\"#e377c2\",\"#1f77b4\",\"#e377c2\",\"#1f77b4\",\"#9467bd\",\"#e377c2\",\"#8c564b\",\"#8c564b\",\"#e377c2\",\"#1f77b4\",\"#7f7f7f\",\"#e377c2\",\"#1f77b4\",\"#9467bd\",\"#8c564b\",\"#1f77b4\",\"#8c564b\",\"#1f77b4\",\"#1f77b4\",\"#1f77b4\",\"#1f77b4\",\"#1f77b4\",\"#1f77b4\",\"#8c564b\",\"#d62728\",\"#d62728\",\"#1f77b4\",\"#8c564b\",\"#9467bd\",\"#1f77b4\",\"#1f77b4\",\"#1f77b4\",\"#8c564b\",\"#e377c2\",\"#8c564b\",\"#7f7f7f\",\"#1f77b4\",\"#1f77b4\",\"#e377c2\",\"#ff7f0e\",\"#ff7f0e\",\"#9467bd\",\"#1f77b4\",\"#1f77b4\",\"#1f77b4\",\"#1f77b4\",\"#ff7f0e\",\"#9467bd\",\"#1f77b4\",\"#9467bd\",\"#ff7f0e\",\"#ff7f0e\",\"#e377c2\",\"#8c564b\",\"#bcbd22\",\"#ff7f0e\",\"#8c564b\",\"#1f77b4\",\"#8c564b\",\"#8c564b\",\"#1f77b4\",\"#8c564b\",\"#2ca02c\",\"#1f77b4\",\"#1f77b4\",\"#1f77b4\",\"#1f77b4\",\"#1f77b4\",\"#8c564b\",\"#2ca02c\",\"#1f77b4\",\"#1f77b4\",\"#2ca02c\",\"#1f77b4\",\"#1f77b4\",\"#2ca02c\",\"#e377c2\",\"#1f77b4\",\"#1f77b4\",\"#7f7f7f\",\"#2ca02c\",\"#e377c2\",\"#1f77b4\",\"#2ca02c\",\"#8c564b\",\"#2ca02c\",\"#e377c2\",\"#1f77b4\",\"#9467bd\",\"#1f77b4\",\"#1f77b4\",\"#2ca02c\",\"#8c564b\",\"#2ca02c\",\"#1f77b4\",\"#8c564b\",\"#1f77b4\",\"#8c564b\",\"#8c564b\",\"#ff7f0e\",\"#d62728\",\"#1f77b4\",\"#1f77b4\",\"#1f77b4\",\"#1f77b4\",\"#1f77b4\",\"#1f77b4\",\"#1f77b4\",\"#1f77b4\",\"#8c564b\",\"#1f77b4\",\"#1f77b4\",\"#e377c2\",\"#1f77b4\",\"#1f77b4\",\"#1f77b4\",\"#1f77b4\",\"#1f77b4\",\"#7f7f7f\",\"#1f77b4\",\"#1f77b4\",\"#1f77b4\",\"#1f77b4\",\"#e377c2\",\"#2ca02c\",\"#8c564b\",\"#1f77b4\",\"#1f77b4\",\"#1f77b4\",\"#8c564b\",\"#1f77b4\",\"#1f77b4\",\"#d62728\",\"#d62728\",\"#1f77b4\",\"#9467bd\",\"#1f77b4\",\"#8c564b\",\"#2ca02c\",\"#1f77b4\",\"#8c564b\",\"#1f77b4\",\"#1f77b4\",\"#2ca02c\",\"#ff7f0e\",\"#ff7f0e\",\"#ff7f0e\",\"#ff7f0e\",\"#e377c2\",\"#d62728\",\"#d62728\",\"#1f77b4\",\"#1f77b4\",\"#1f77b4\",\"#d62728\",\"#1f77b4\",\"#e377c2\",\"#9467bd\",\"#1f77b4\",\"#9467bd\",\"#1f77b4\",\"#2ca02c\",\"#2ca02c\",\"#8c564b\",\"#9467bd\",\"#8c564b\",\"#ff7f0e\",\"#1f77b4\",\"#1f77b4\",\"#1f77b4\",\"#ff7f0e\",\"#1f77b4\",\"#1f77b4\",\"#1f77b4\",\"#1f77b4\",\"#1f77b4\",\"#d62728\",\"#1f77b4\",\"#1f77b4\",\"#1f77b4\",\"#1f77b4\",\"#1f77b4\",\"#9467bd\",\"#1f77b4\",\"#9467bd\",\"#1f77b4\",\"#1f77b4\",\"#9467bd\",\"#1f77b4\",\"#1f77b4\",\"#9467bd\",\"#8c564b\",\"#2ca02c\",\"#1f77b4\",\"#1f77b4\",\"#7f7f7f\",\"#1f77b4\",\"#1f77b4\",\"#1f77b4\",\"#1f77b4\",\"#1f77b4\",\"#2ca02c\",\"#1f77b4\",\"#1f77b4\",\"#1f77b4\",\"#9467bd\",\"#bcbd22\",\"#1f77b4\",\"#9467bd\",\"#1f77b4\",\"#d62728\",\"#8c564b\",\"#9467bd\",\"#1f77b4\",\"#1f77b4\",\"#1f77b4\",\"#e377c2\",\"#8c564b\",\"#1f77b4\",\"#9467bd\",\"#ff7f0e\",\"#1f77b4\",\"#9467bd\",\"#1f77b4\",\"#ff7f0e\",\"#ff7f0e\",\"#2ca02c\",\"#ff7f0e\",\"#1f77b4\",\"#1f77b4\",\"#ff7f0e\",\"#e377c2\",\"#9467bd\",\"#ff7f0e\",\"#9467bd\",\"#1f77b4\",\"#8c564b\",\"#e377c2\",\"#8c564b\",\"#9467bd\",\"#ff7f0e\",\"#1f77b4\",\"#ff7f0e\",\"#9467bd\",\"#2ca02c\",\"#8c564b\",\"#ff7f0e\",\"#ff7f0e\",\"#1f77b4\",\"#7f7f7f\",\"#ff7f0e\",\"#ff7f0e\",\"#2ca02c\",\"#ff7f0e\",\"#8c564b\",\"#7f7f7f\",\"#7f7f7f\",\"#8c564b\",\"#e377c2\",\"#1f77b4\",\"#1f77b4\",\"#1f77b4\",\"#1f77b4\",\"#1f77b4\",\"#ff7f0e\",\"#1f77b4\",\"#1f77b4\",\"#9467bd\",\"#ff7f0e\",\"#ff7f0e\",\"#1f77b4\",\"#e377c2\",\"#ff7f0e\",\"#9467bd\",\"#ff7f0e\",\"#d62728\",\"#9467bd\",\"#1f77b4\",\"#e377c2\",\"#ff7f0e\",\"#1f77b4\",\"#8c564b\",\"#2ca02c\",\"#1f77b4\",\"#ff7f0e\",\"#1f77b4\",\"#1f77b4\",\"#2ca02c\",\"#8c564b\",\"#8c564b\",\"#2ca02c\",\"#9467bd\",\"#1f77b4\",\"#ff7f0e\",\"#ff7f0e\",\"#ff7f0e\",\"#7f7f7f\",\"#d62728\",\"#1f77b4\",\"#9467bd\",\"#e377c2\",\"#8c564b\",\"#9467bd\",\"#7f7f7f\",\"#9467bd\",\"#1f77b4\",\"#8c564b\",\"#1f77b4\",\"#1f77b4\",\"#1f77b4\",\"#1f77b4\",\"#d62728\",\"#ff7f0e\",\"#8c564b\",\"#2ca02c\",\"#e377c2\",\"#d62728\",\"#8c564b\",\"#8c564b\",\"#2ca02c\",\"#8c564b\",\"#8c564b\",\"#1f77b4\",\"#2ca02c\",\"#2ca02c\",\"#2ca02c\",\"#2ca02c\",\"#7f7f7f\",\"#8c564b\",\"#2ca02c\",\"#8c564b\",\"#2ca02c\",\"#2ca02c\",\"#9467bd\",\"#2ca02c\",\"#1f77b4\",\"#9467bd\",\"#1f77b4\",\"#e377c2\",\"#2ca02c\",\"#ff7f0e\",\"#1f77b4\",\"#1f77b4\",\"#1f77b4\",\"#1f77b4\",\"#ff7f0e\",\"#8c564b\",\"#8c564b\",\"#8c564b\",\"#2ca02c\",\"#1f77b4\",\"#1f77b4\",\"#ff7f0e\",\"#1f77b4\",\"#ff7f0e\",\"#e377c2\",\"#1f77b4\",\"#ff7f0e\",\"#9467bd\",\"#8c564b\",\"#7f7f7f\",\"#7f7f7f\",\"#e377c2\",\"#8c564b\",\"#8c564b\",\"#9467bd\",\"#e377c2\",\"#e377c2\",\"#2ca02c\",\"#8c564b\",\"#9467bd\",\"#1f77b4\",\"#9467bd\",\"#e377c2\",\"#1f77b4\",\"#7f7f7f\",\"#1f77b4\",\"#9467bd\",\"#1f77b4\",\"#1f77b4\",\"#d62728\",\"#ff7f0e\",\"#1f77b4\",\"#ff7f0e\",\"#e377c2\",\"#1f77b4\",\"#9467bd\",\"#1f77b4\",\"#8c564b\",\"#9467bd\",\"#2ca02c\",\"#ff7f0e\",\"#1f77b4\",\"#1f77b4\",\"#ff7f0e\",\"#ff7f0e\",\"#ff7f0e\",\"#1f77b4\",\"#ff7f0e\",\"#8c564b\",\"#9467bd\",\"#9467bd\",\"#8c564b\",\"#ff7f0e\",\"#ff7f0e\",\"#1f77b4\",\"#1f77b4\",\"#1f77b4\",\"#1f77b4\",\"#7f7f7f\",\"#ff7f0e\",\"#9467bd\",\"#1f77b4\",\"#1f77b4\",\"#d62728\",\"#8c564b\",\"#1f77b4\",\"#8c564b\",\"#8c564b\",\"#1f77b4\",\"#9467bd\",\"#1f77b4\",\"#e377c2\",\"#1f77b4\",\"#1f77b4\",\"#1f77b4\",\"#1f77b4\",\"#1f77b4\",\"#1f77b4\",\"#1f77b4\",\"#ff7f0e\",\"#1f77b4\",\"#2ca02c\",\"#ff7f0e\",\"#ff7f0e\",\"#7f7f7f\",\"#1f77b4\",\"#1f77b4\",\"#e377c2\",\"#bcbd22\",\"#bcbd22\",\"#e377c2\",\"#9467bd\",\"#2ca02c\",\"#1f77b4\",\"#8c564b\",\"#8c564b\",\"#1f77b4\",\"#1f77b4\",\"#2ca02c\",\"#2ca02c\",\"#e377c2\",\"#d62728\",\"#ff7f0e\",\"#d62728\",\"#8c564b\",\"#d62728\",\"#ff7f0e\",\"#9467bd\",\"#7f7f7f\",\"#ff7f0e\",\"#8c564b\",\"#8c564b\",\"#ff7f0e\",\"#1f77b4\",\"#7f7f7f\",\"#1f77b4\",\"#1f77b4\",\"#9467bd\",\"#1f77b4\",\"#d62728\",\"#8c564b\",\"#1f77b4\",\"#1f77b4\",\"#1f77b4\",\"#e377c2\",\"#1f77b4\",\"#1f77b4\",\"#1f77b4\",\"#8c564b\",\"#ff7f0e\",\"#ff7f0e\",\"#d62728\",\"#2ca02c\",\"#1f77b4\",\"#1f77b4\",\"#1f77b4\",\"#ff7f0e\",\"#e377c2\",\"#1f77b4\",\"#d62728\",\"#1f77b4\",\"#1f77b4\",\"#ff7f0e\",\"#2ca02c\",\"#e377c2\",\"#ff7f0e\",\"#7f7f7f\",\"#8c564b\",\"#ff7f0e\",\"#ff7f0e\",\"#1f77b4\",\"#ff7f0e\",\"#e377c2\",\"#8c564b\",\"#8c564b\",\"#1f77b4\",\"#bcbd22\",\"#2ca02c\",\"#1f77b4\",\"#ff7f0e\",\"#8c564b\",\"#1f77b4\",\"#1f77b4\",\"#e377c2\",\"#9467bd\",\"#9467bd\",\"#8c564b\",\"#1f77b4\",\"#9467bd\",\"#ff7f0e\",\"#1f77b4\",\"#1f77b4\",\"#ff7f0e\",\"#ff7f0e\",\"#ff7f0e\",\"#ff7f0e\",\"#8c564b\",\"#1f77b4\",\"#1f77b4\",\"#7f7f7f\",\"#1f77b4\",\"#e377c2\",\"#1f77b4\",\"#7f7f7f\",\"#ff7f0e\",\"#ff7f0e\",\"#1f77b4\",\"#1f77b4\",\"#8c564b\",\"#1f77b4\",\"#e377c2\",\"#e377c2\",\"#1f77b4\",\"#1f77b4\",\"#7f7f7f\",\"#1f77b4\",\"#e377c2\",\"#ff7f0e\",\"#1f77b4\",\"#ff7f0e\",\"#9467bd\",\"#e377c2\",\"#d62728\",\"#1f77b4\",\"#1f77b4\",\"#1f77b4\",\"#1f77b4\",\"#1f77b4\",\"#1f77b4\",\"#1f77b4\",\"#e377c2\",\"#1f77b4\",\"#ff7f0e\",\"#8c564b\",\"#2ca02c\",\"#bcbd22\",\"#1f77b4\",\"#1f77b4\",\"#d62728\",\"#1f77b4\",\"#ff7f0e\",\"#2ca02c\",\"#1f77b4\",\"#8c564b\",\"#2ca02c\",\"#bcbd22\",\"#1f77b4\",\"#1f77b4\",\"#1f77b4\",\"#1f77b4\",\"#2ca02c\",\"#1f77b4\",\"#2ca02c\",\"#2ca02c\",\"#e377c2\",\"#1f77b4\",\"#2ca02c\",\"#e377c2\",\"#1f77b4\",\"#2ca02c\",\"#1f77b4\",\"#e377c2\",\"#1f77b4\",\"#1f77b4\",\"#1f77b4\",\"#8c564b\",\"#2ca02c\",\"#2ca02c\",\"#2ca02c\",\"#1f77b4\",\"#1f77b4\",\"#ff7f0e\",\"#1f77b4\",\"#1f77b4\",\"#1f77b4\",\"#8c564b\",\"#1f77b4\",\"#2ca02c\",\"#1f77b4\",\"#1f77b4\",\"#8c564b\",\"#e377c2\",\"#ff7f0e\",\"#1f77b4\",\"#8c564b\",\"#ff7f0e\",\"#1f77b4\",\"#8c564b\",\"#d62728\",\"#ff7f0e\",\"#ff7f0e\",\"#e377c2\",\"#2ca02c\",\"#1f77b4\",\"#1f77b4\",\"#1f77b4\",\"#2ca02c\",\"#7f7f7f\",\"#ff7f0e\",\"#ff7f0e\",\"#1f77b4\",\"#1f77b4\",\"#1f77b4\",\"#d62728\",\"#1f77b4\",\"#1f77b4\",\"#e377c2\",\"#ff7f0e\",\"#ff7f0e\",\"#ff7f0e\",\"#1f77b4\",\"#ff7f0e\",\"#d62728\",\"#8c564b\",\"#e377c2\",\"#ff7f0e\",\"#2ca02c\",\"#1f77b4\",\"#1f77b4\",\"#ff7f0e\",\"#ff7f0e\",\"#1f77b4\",\"#1f77b4\",\"#8c564b\",\"#ff7f0e\",\"#1f77b4\",\"#2ca02c\",\"#1f77b4\",\"#2ca02c\",\"#ff7f0e\",\"#e377c2\",\"#8c564b\",\"#1f77b4\",\"#1f77b4\",\"#1f77b4\",\"#ff7f0e\",\"#d62728\",\"#ff7f0e\",\"#9467bd\",\"#ff7f0e\",\"#e377c2\",\"#9467bd\",\"#ff7f0e\",\"#7f7f7f\",\"#8c564b\",\"#ff7f0e\",\"#7f7f7f\",\"#ff7f0e\",\"#7f7f7f\",\"#ff7f0e\",\"#ff7f0e\",\"#ff7f0e\",\"#ff7f0e\",\"#9467bd\",\"#8c564b\",\"#ff7f0e\",\"#e377c2\",\"#1f77b4\",\"#1f77b4\",\"#1f77b4\",\"#1f77b4\",\"#1f77b4\",\"#1f77b4\",\"#8c564b\",\"#d62728\",\"#e377c2\",\"#1f77b4\",\"#9467bd\",\"#e377c2\",\"#e377c2\",\"#e377c2\",\"#8c564b\",\"#8c564b\",\"#1f77b4\",\"#9467bd\",\"#7f7f7f\",\"#1f77b4\",\"#9467bd\",\"#1f77b4\",\"#ff7f0e\",\"#e377c2\",\"#e377c2\",\"#e377c2\",\"#e377c2\",\"#9467bd\",\"#7f7f7f\",\"#8c564b\",\"#ff7f0e\",\"#7f7f7f\",\"#9467bd\",\"#d62728\",\"#1f77b4\",\"#ff7f0e\",\"#ff7f0e\",\"#ff7f0e\",\"#1f77b4\",\"#bcbd22\",\"#1f77b4\",\"#7f7f7f\",\"#1f77b4\",\"#2ca02c\",\"#1f77b4\",\"#9467bd\",\"#ff7f0e\",\"#1f77b4\",\"#ff7f0e\",\"#9467bd\",\"#8c564b\",\"#9467bd\",\"#7f7f7f\",\"#1f77b4\",\"#ff7f0e\",\"#ff7f0e\",\"#e377c2\",\"#7f7f7f\",\"#8c564b\",\"#8c564b\",\"#1f77b4\",\"#1f77b4\",\"#ff7f0e\",\"#e377c2\",\"#bcbd22\",\"#9467bd\",\"#1f77b4\",\"#1f77b4\",\"#ff7f0e\",\"#7f7f7f\",\"#d62728\",\"#1f77b4\",\"#1f77b4\",\"#9467bd\",\"#e377c2\",\"#7f7f7f\",\"#8c564b\",\"#1f77b4\",\"#e377c2\",\"#bcbd22\",\"#7f7f7f\",\"#e377c2\",\"#e377c2\",\"#ff7f0e\",\"#ff7f0e\",\"#8c564b\",\"#8c564b\",\"#1f77b4\",\"#ff7f0e\",\"#1f77b4\",\"#ff7f0e\",\"#1f77b4\",\"#ff7f0e\",\"#9467bd\",\"#ff7f0e\",\"#1f77b4\",\"#1f77b4\",\"#1f77b4\",\"#1f77b4\",\"#1f77b4\",\"#7f7f7f\",\"#d62728\"],\"x\":{\"__ndarray__\":\"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\",\"dtype\":\"float32\",\"order\":\"little\",\"shape\":[2755]},\"y\":{\"__ndarray__\":\"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\",\"dtype\":\"float32\",\"order\":\"little\",\"shape\":[2755]}},\"selected\":{\"id\":\"1436\"},\"selection_policy\":{\"id\":\"1435\"}},\"id\":\"1392\",\"type\":\"ColumnDataSource\"},{\"attributes\":{},\"id\":\"1364\",\"type\":\"DataRange1d\"},{\"attributes\":{},\"id\":\"1362\",\"type\":\"DataRange1d\"},{\"attributes\":{},\"id\":\"1382\",\"type\":\"ResetTool\"},{\"attributes\":{\"axis\":{\"id\":\"1374\"},\"dimension\":1,\"ticker\":null},\"id\":\"1377\",\"type\":\"Grid\"},{\"attributes\":{},\"id\":\"1375\",\"type\":\"BasicTicker\"},{\"attributes\":{},\"id\":\"1430\",\"type\":\"AllLabels\"},{\"attributes\":{},\"id\":\"1435\",\"type\":\"UnionRenderers\"},{\"attributes\":{},\"id\":\"1366\",\"type\":\"LinearScale\"},{\"attributes\":{\"overlay\":{\"id\":\"1384\"}},\"id\":\"1380\",\"type\":\"BoxZoomTool\"},{\"attributes\":{\"fill_alpha\":{\"value\":0.1},\"fill_color\":{\"field\":\"fill_color\"},\"line_alpha\":{\"value\":0.1},\"line_color\":{\"field\":\"line_color\"},\"x\":{\"field\":\"x\"},\"y\":{\"field\":\"y\"}},\"id\":\"1394\",\"type\":\"Scatter\"},{\"attributes\":{},\"id\":\"1371\",\"type\":\"BasicTicker\"},{\"attributes\":{},\"id\":\"1436\",\"type\":\"Selection\"},{\"attributes\":{\"bottom_units\":\"screen\",\"fill_alpha\":0.5,\"fill_color\":\"lightgrey\",\"left_units\":\"screen\",\"level\":\"overlay\",\"line_alpha\":1.0,\"line_color\":\"black\",\"line_dash\":[4,4],\"line_width\":2,\"right_units\":\"screen\",\"syncable\":false,\"top_units\":\"screen\"},\"id\":\"1384\",\"type\":\"BoxAnnotation\"},{\"attributes\":{\"source\":{\"id\":\"1392\"}},\"id\":\"1396\",\"type\":\"CDSView\"},{\"attributes\":{},\"id\":\"1381\",\"type\":\"SaveTool\"},{\"attributes\":{\"formatter\":{\"id\":\"1428\"},\"major_label_policy\":{\"id\":\"1430\"},\"ticker\":{\"id\":\"1371\"}},\"id\":\"1370\",\"type\":\"LinearAxis\"},{\"attributes\":{\"fill_color\":{\"field\":\"fill_color\"},\"line_color\":{\"field\":\"line_color\"},\"x\":{\"field\":\"x\"},\"y\":{\"field\":\"y\"}},\"id\":\"1393\",\"type\":\"Scatter\"},{\"attributes\":{\"axis\":{\"id\":\"1370\"},\"ticker\":null},\"id\":\"1373\",\"type\":\"Grid\"},{\"attributes\":{\"text\":\"t-SNE Clustering of 10 LDA Topics\"},\"id\":\"1360\",\"type\":\"Title\"},{\"attributes\":{},\"id\":\"1433\",\"type\":\"AllLabels\"},{\"attributes\":{\"active_multi\":null,\"tools\":[{\"id\":\"1378\"},{\"id\":\"1379\"},{\"id\":\"1380\"},{\"id\":\"1381\"},{\"id\":\"1382\"},{\"id\":\"1383\"}]},\"id\":\"1385\",\"type\":\"Toolbar\"}],\"root_ids\":[\"1359\"]},\"title\":\"Bokeh Application\",\"version\":\"2.3.3\"}};\n",
              "  var render_items = [{\"docid\":\"5a94d4c9-5ff8-4186-aeaa-f2aa953babdb\",\"root_ids\":[\"1359\"],\"roots\":{\"1359\":\"63fe24ef-0475-45f2-b401-137c88af7454\"}}];\n",
              "  root.Bokeh.embed.embed_items_notebook(docs_json, render_items);\n",
              "\n",
              "  }\n",
              "  if (root.Bokeh !== undefined) {\n",
              "    embed_document(root);\n",
              "  } else {\n",
              "    var attempts = 0;\n",
              "    var timer = setInterval(function(root) {\n",
              "      if (root.Bokeh !== undefined) {\n",
              "        clearInterval(timer);\n",
              "        embed_document(root);\n",
              "      } else {\n",
              "        attempts++;\n",
              "        if (attempts > 100) {\n",
              "          clearInterval(timer);\n",
              "          console.log(\"Bokeh: ERROR: Unable to run BokehJS code because BokehJS library is missing\");\n",
              "        }\n",
              "      }\n",
              "    }, 10, root)\n",
              "  }\n",
              "})(window);"
            ],
            "application/vnd.bokehjs_exec.v0+json": ""
          },
          "metadata": {
            "application/vnd.bokehjs_exec.v0+json": {
              "id": "1359"
            }
          }
        }
      ]
    },
    {
      "cell_type": "markdown",
      "source": [
        "# **Word Clouds of Top 10 Keywords in Each Topic**"
      ],
      "metadata": {
        "id": "x73W4RdGOrqx"
      }
    },
    {
      "cell_type": "code",
      "source": [
        "# 1. Wordcloud of Top N words in each topic\n",
        "from matplotlib import pyplot as plt\n",
        "from wordcloud import WordCloud, STOPWORDS\n",
        "import matplotlib.colors as mcolors\n",
        "\n",
        "cols = [color for name, color in mcolors.TABLEAU_COLORS.items()]  # more colors: 'mcolors.XKCD_COLORS'\n",
        "\n",
        "cloud = WordCloud(stopwords=stop_words,\n",
        "                  background_color='white',\n",
        "                  width=2500,\n",
        "                  height=1800,\n",
        "                  max_words=10,\n",
        "                  colormap='tab10',\n",
        "                  color_func=lambda *args, **kwargs: cols[i],\n",
        "                  prefer_horizontal=1.0)\n",
        "\n",
        "topics = lda_model.show_topics(formatted=False)\n",
        "\n",
        "fig, axes = plt.subplots(5, 2, figsize=(10,10), sharex=True, sharey=True)\n",
        "\n",
        "for i, ax in enumerate(axes.flatten()):\n",
        "    fig.add_subplot(ax)\n",
        "    topic_words = dict(topics[i][1])\n",
        "    cloud.generate_from_frequencies(topic_words, max_font_size=300)\n",
        "    plt.gca().imshow(cloud)\n",
        "    plt.gca().set_title('Topic ' + str(i), fontdict=dict(size=16))\n",
        "    plt.gca().axis('off')\n",
        "\n",
        "\n",
        "plt.subplots_adjust(wspace=0, hspace=0)\n",
        "plt.axis('off')\n",
        "plt.margins(x=0, y=0)\n",
        "plt.tight_layout()\n",
        "plt.show()"
      ],
      "metadata": {
        "colab": {
          "base_uri": "https://localhost:8080/",
          "height": 729
        },
        "id": "1j-0fokgFWyx",
        "outputId": "10d97284-4068-4856-c9a6-18b775cc4ada"
      },
      "execution_count": null,
      "outputs": [
        {
          "output_type": "display_data",
          "data": {
            "text/plain": [
              "<Figure size 720x720 with 10 Axes>"
            ],
            "image/png": "[encoded data removed]"
          },
          "metadata": {
            "needs_background": "light"
          }
        }
      ]
    },
    {
      "cell_type": "markdown",
      "source": [
        "# Finding the dominant topic in each sentence.\n",
        "One of the practical application of topic modeling is to determine what topic a given document is about.\n",
        "\n",
        "To find that, we find the topic number that has the highest percentage contribution in that document."
      ],
      "metadata": {
        "id": "gBBtHY3dMDdc"
      }
    },
    {
      "cell_type": "code",
      "source": [
        "def format_topics_sentences(ldamodel=lda_model, corpus=corpus, texts=data):\n",
        "    # Init output\n",
        "    sent_topics_df = pd.DataFrame()\n",
        "\n",
        "    # Get main topic in each document\n",
        "    for i, row in enumerate(ldamodel[corpus]):\n",
        "        row = sorted(row, key=lambda x: (x[1]), reverse=True)\n",
        "        # Get the Dominant topic, Perc Contribution and Keywords for each document\n",
        "        for j, (topic_num, prop_topic) in enumerate(row):\n",
        "            if j == 0:  # => dominant topic\n",
        "                wp = ldamodel.show_topic(topic_num)\n",
        "                topic_keywords = \", \".join([word for word, prop in wp])\n",
        "                sent_topics_df = sent_topics_df.append(pd.Series([int(topic_num), round(prop_topic,4), topic_keywords]), ignore_index=True)\n",
        "            else:\n",
        "                break\n",
        "    sent_topics_df.columns = ['Dominant_Topic', 'Perc_Contribution', 'Topic_Keywords']\n",
        "\n",
        "    # Add original text to the end of the output\n",
        "    contents = pd.Series(texts)\n",
        "    sent_topics_df = pd.concat([sent_topics_df, contents], axis=1)\n",
        "    return(sent_topics_df)"
      ],
      "metadata": {
        "id": "PpBbMS-Nb5QR"
      },
      "execution_count": null,
      "outputs": []
    },
    {
      "cell_type": "code",
      "source": [
        "df_topic_sents_keywords = format_topics_sentences(ldamodel=optimal_model, corpus=corpus, texts=papers['Abstract_processed'])\n"
      ],
      "metadata": {
        "id": "GMVaZVvdbiMA"
      },
      "execution_count": null,
      "outputs": []
    },
    {
      "cell_type": "code",
      "source": [
        "# Format\n",
        "df_dominant_topic = df_topic_sents_keywords.reset_index()\n",
        "df_dominant_topic.columns = ['Document_No', 'Dominant_Topic', 'Topic_Perc_Contrib', 'Keywords', 'Text']\n",
        "\n",
        "# Show\n",
        "df_dominant_topic.head(30)"
      ],
      "metadata": {
        "colab": {
          "base_uri": "https://localhost:8080/",
          "height": 989
        },
        "id": "2wuxRL0Rkn1R",
        "outputId": "1dd0bd7e-bb80-4040-c518-8c0910a507b9"
      },
      "execution_count": null,
      "outputs": [
        {
          "output_type": "execute_result",
          "data": {
            "text/plain": [
              "    Document_No  Dominant_Topic  Topic_Perc_Contrib  \\\n",
              "0             0             3.0              0.9701   \n",
              "1             1             2.0              0.8091   \n",
              "2             2             0.0              0.7339   \n",
              "3             3             2.0              0.4577   \n",
              "4             4             2.0              0.4158   \n",
              "5             5             2.0              0.4795   \n",
              "6             6             7.0              0.7146   \n",
              "7             7             0.0              0.8642   \n",
              "8             8             0.0              0.3611   \n",
              "9             9             0.0              0.6715   \n",
              "10           10             0.0              0.9926   \n",
              "11           11             0.0              0.7409   \n",
              "12           12             0.0              0.9808   \n",
              "13           13             8.0              0.5200   \n",
              "14           14             6.0              0.4612   \n",
              "15           15             8.0              0.5002   \n",
              "16           16             0.0              0.8711   \n",
              "17           17             7.0              0.5827   \n",
              "18           18             9.0              0.4156   \n",
              "19           19             3.0              0.6792   \n",
              "20           20             2.0              0.8785   \n",
              "21           21             7.0              0.7992   \n",
              "22           22             8.0              0.5266   \n",
              "23           23             7.0              0.5140   \n",
              "24           24             3.0              0.9249   \n",
              "25           25             1.0              0.3889   \n",
              "26           26             2.0              0.9819   \n",
              "27           27             2.0              0.4419   \n",
              "28           28             2.0              0.6890   \n",
              "29           29             0.0              0.5373   \n",
              "\n",
              "                                             Keywords  \\\n",
              "0   study, use, high, patient, model, datum, chang...   \n",
              "1   study, use, risk, group, high, patient, factor...   \n",
              "2   patient, study, use, identify, result, test, a...   \n",
              "3   study, use, risk, group, high, patient, factor...   \n",
              "4   study, use, risk, group, high, patient, factor...   \n",
              "5   study, use, risk, group, high, patient, factor...   \n",
              "6   patient, level, effect, use, increase, show, r...   \n",
              "7   patient, study, use, identify, result, test, a...   \n",
              "8   patient, study, use, identify, result, test, a...   \n",
              "9   patient, study, use, identify, result, test, a...   \n",
              "10  patient, study, use, identify, result, test, a...   \n",
              "11  patient, study, use, identify, result, test, a...   \n",
              "12  patient, study, use, identify, result, test, a...   \n",
              "13  health, study, use, intervention, care, includ...   \n",
              "14  use, cell, protein, study, tumor, result, vacc...   \n",
              "15  health, study, use, intervention, care, includ...   \n",
              "16  patient, study, use, identify, result, test, a...   \n",
              "17  patient, level, effect, use, increase, show, r...   \n",
              "18  group, patient, high, use, study, effect, low,...   \n",
              "19  study, use, high, patient, model, datum, chang...   \n",
              "20  study, use, risk, group, high, patient, factor...   \n",
              "21  patient, level, effect, use, increase, show, r...   \n",
              "22  health, study, use, intervention, care, includ...   \n",
              "23  patient, level, effect, use, increase, show, r...   \n",
              "24  study, use, high, patient, model, datum, chang...   \n",
              "25  patient, study, use, include, year, age, group...   \n",
              "26  study, use, risk, group, high, patient, factor...   \n",
              "27  study, use, risk, group, high, patient, factor...   \n",
              "28  study, use, risk, group, high, patient, factor...   \n",
              "29  patient, study, use, identify, result, test, a...   \n",
              "\n",
              "                                                 Text  \n",
              "0   coordination variability (cv) is commonly anal...  \n",
              "1   clinical scenario: dynamic knee valgus (dkv) i...  \n",
              "2   various methodologies have been reported to as...  \n",
              "3   as outcomes for acute ischemic stroke (ais) va...  \n",
              "4   because hearing loss in children can result in...  \n",
              "5   despite growing numbers in the usa immigrant p...  \n",
              "6   historically the treatment of lupus nephritis ...  \n",
              "7   progressive chronic kidney disease (ckd) in in...  \n",
              "8   immunoglobulin a nephropathy (igan) is the mos...  \n",
              "9   in kidney transplantation precision medicine h...  \n",
              "10  the prevalence of end-stage kidney disease (es...  \n",
              "11  fabry disease (fd) is a rare x-linked lysosoma...  \n",
              "12  there is increasing understanding of the genet...  \n",
              "13  we aimed to determine whether it was feasible ...  \n",
              "14  merkel cell carcinoma (mcc) is a highly aggres...  \n",
              "15  big data have shown their great potential valu...  \n",
              "16  the aim: the paper was aimed at the study of t...  \n",
              "17  the aim: is to investigate the impact of compr...  \n",
              "18  the aim: to investigate changes in motor activ...  \n",
              "19  the aim: to examine the features of experience...  \n",
              "20  the aim: is to investigate the effect of doxor...  \n",
              "21  the aim: to study the effect of different type...  \n",
              "22  the aim: the sense of our research was to exam...  \n",
              "23  the aim: the purpose of research is to improve...  \n",
              "24  the aim: of our research work was to study the...  \n",
              "25  the aim: the research was to evaluate the effe...  \n",
              "26  the aim: of our study was to establish how the...  \n",
              "27  the aim: analysis of electrocardiographic para...  \n",
              "28  the aim: to find out whether or not the presen...  \n",
              "29  the aim: to establish the frequency structure ...  "
            ],
            "text/html": [
              "\n",
              "  <div id=\"df-828e5d24-5019-4178-81df-5c4c27f4ba6a\">\n",
              "    <div class=\"colab-df-container\">\n",
              "      <div>\n",
              "<style scoped>\n",
              "    .dataframe tbody tr th:only-of-type {\n",
              "        vertical-align: middle;\n",
              "    }\n",
              "\n",
              "    .dataframe tbody tr th {\n",
              "        vertical-align: top;\n",
              "    }\n",
              "\n",
              "    .dataframe thead th {\n",
              "        text-align: right;\n",
              "    }\n",
              "</style>\n",
              "<table border=\"1\" class=\"dataframe\">\n",
              "  <thead>\n",
              "    <tr style=\"text-align: right;\">\n",
              "      <th></th>\n",
              "      <th>Document_No</th>\n",
              "      <th>Dominant_Topic</th>\n",
              "      <th>Topic_Perc_Contrib</th>\n",
              "      <th>Keywords</th>\n",
              "      <th>Text</th>\n",
              "    </tr>\n",
              "  </thead>\n",
              "  <tbody>\n",
              "    <tr>\n",
              "      <th>0</th>\n",
              "      <td>0</td>\n",
              "      <td>3.0</td>\n",
              "      <td>0.9701</td>\n",
              "      <td>study, use, high, patient, model, datum, chang...</td>\n",
              "      <td>coordination variability (cv) is commonly anal...</td>\n",
              "    </tr>\n",
              "    <tr>\n",
              "      <th>1</th>\n",
              "      <td>1</td>\n",
              "      <td>2.0</td>\n",
              "      <td>0.8091</td>\n",
              "      <td>study, use, risk, group, high, patient, factor...</td>\n",
              "      <td>clinical scenario: dynamic knee valgus (dkv) i...</td>\n",
              "    </tr>\n",
              "    <tr>\n",
              "      <th>2</th>\n",
              "      <td>2</td>\n",
              "      <td>0.0</td>\n",
              "      <td>0.7339</td>\n",
              "      <td>patient, study, use, identify, result, test, a...</td>\n",
              "      <td>various methodologies have been reported to as...</td>\n",
              "    </tr>\n",
              "    <tr>\n",
              "      <th>3</th>\n",
              "      <td>3</td>\n",
              "      <td>2.0</td>\n",
              "      <td>0.4577</td>\n",
              "      <td>study, use, risk, group, high, patient, factor...</td>\n",
              "      <td>as outcomes for acute ischemic stroke (ais) va...</td>\n",
              "    </tr>\n",
              "    <tr>\n",
              "      <th>4</th>\n",
              "      <td>4</td>\n",
              "      <td>2.0</td>\n",
              "      <td>0.4158</td>\n",
              "      <td>study, use, risk, group, high, patient, factor...</td>\n",
              "      <td>because hearing loss in children can result in...</td>\n",
              "    </tr>\n",
              "    <tr>\n",
              "      <th>5</th>\n",
              "      <td>5</td>\n",
              "      <td>2.0</td>\n",
              "      <td>0.4795</td>\n",
              "      <td>study, use, risk, group, high, patient, factor...</td>\n",
              "      <td>despite growing numbers in the usa immigrant p...</td>\n",
              "    </tr>\n",
              "    <tr>\n",
              "      <th>6</th>\n",
              "      <td>6</td>\n",
              "      <td>7.0</td>\n",
              "      <td>0.7146</td>\n",
              "      <td>patient, level, effect, use, increase, show, r...</td>\n",
              "      <td>historically the treatment of lupus nephritis ...</td>\n",
              "    </tr>\n",
              "    <tr>\n",
              "      <th>7</th>\n",
              "      <td>7</td>\n",
              "      <td>0.0</td>\n",
              "      <td>0.8642</td>\n",
              "      <td>patient, study, use, identify, result, test, a...</td>\n",
              "      <td>progressive chronic kidney disease (ckd) in in...</td>\n",
              "    </tr>\n",
              "    <tr>\n",
              "      <th>8</th>\n",
              "      <td>8</td>\n",
              "      <td>0.0</td>\n",
              "      <td>0.3611</td>\n",
              "      <td>patient, study, use, identify, result, test, a...</td>\n",
              "      <td>immunoglobulin a nephropathy (igan) is the mos...</td>\n",
              "    </tr>\n",
              "    <tr>\n",
              "      <th>9</th>\n",
              "      <td>9</td>\n",
              "      <td>0.0</td>\n",
              "      <td>0.6715</td>\n",
              "      <td>patient, study, use, identify, result, test, a...</td>\n",
              "      <td>in kidney transplantation precision medicine h...</td>\n",
              "    </tr>\n",
              "    <tr>\n",
              "      <th>10</th>\n",
              "      <td>10</td>\n",
              "      <td>0.0</td>\n",
              "      <td>0.9926</td>\n",
              "      <td>patient, study, use, identify, result, test, a...</td>\n",
              "      <td>the prevalence of end-stage kidney disease (es...</td>\n",
              "    </tr>\n",
              "    <tr>\n",
              "      <th>11</th>\n",
              "      <td>11</td>\n",
              "      <td>0.0</td>\n",
              "      <td>0.7409</td>\n",
              "      <td>patient, study, use, identify, result, test, a...</td>\n",
              "      <td>fabry disease (fd) is a rare x-linked lysosoma...</td>\n",
              "    </tr>\n",
              "    <tr>\n",
              "      <th>12</th>\n",
              "      <td>12</td>\n",
              "      <td>0.0</td>\n",
              "      <td>0.9808</td>\n",
              "      <td>patient, study, use, identify, result, test, a...</td>\n",
              "      <td>there is increasing understanding of the genet...</td>\n",
              "    </tr>\n",
              "    <tr>\n",
              "      <th>13</th>\n",
              "      <td>13</td>\n",
              "      <td>8.0</td>\n",
              "      <td>0.5200</td>\n",
              "      <td>health, study, use, intervention, care, includ...</td>\n",
              "      <td>we aimed to determine whether it was feasible ...</td>\n",
              "    </tr>\n",
              "    <tr>\n",
              "      <th>14</th>\n",
              "      <td>14</td>\n",
              "      <td>6.0</td>\n",
              "      <td>0.4612</td>\n",
              "      <td>use, cell, protein, study, tumor, result, vacc...</td>\n",
              "      <td>merkel cell carcinoma (mcc) is a highly aggres...</td>\n",
              "    </tr>\n",
              "    <tr>\n",
              "      <th>15</th>\n",
              "      <td>15</td>\n",
              "      <td>8.0</td>\n",
              "      <td>0.5002</td>\n",
              "      <td>health, study, use, intervention, care, includ...</td>\n",
              "      <td>big data have shown their great potential valu...</td>\n",
              "    </tr>\n",
              "    <tr>\n",
              "      <th>16</th>\n",
              "      <td>16</td>\n",
              "      <td>0.0</td>\n",
              "      <td>0.8711</td>\n",
              "      <td>patient, study, use, identify, result, test, a...</td>\n",
              "      <td>the aim: the paper was aimed at the study of t...</td>\n",
              "    </tr>\n",
              "    <tr>\n",
              "      <th>17</th>\n",
              "      <td>17</td>\n",
              "      <td>7.0</td>\n",
              "      <td>0.5827</td>\n",
              "      <td>patient, level, effect, use, increase, show, r...</td>\n",
              "      <td>the aim: is to investigate the impact of compr...</td>\n",
              "    </tr>\n",
              "    <tr>\n",
              "      <th>18</th>\n",
              "      <td>18</td>\n",
              "      <td>9.0</td>\n",
              "      <td>0.4156</td>\n",
              "      <td>group, patient, high, use, study, effect, low,...</td>\n",
              "      <td>the aim: to investigate changes in motor activ...</td>\n",
              "    </tr>\n",
              "    <tr>\n",
              "      <th>19</th>\n",
              "      <td>19</td>\n",
              "      <td>3.0</td>\n",
              "      <td>0.6792</td>\n",
              "      <td>study, use, high, patient, model, datum, chang...</td>\n",
              "      <td>the aim: to examine the features of experience...</td>\n",
              "    </tr>\n",
              "    <tr>\n",
              "      <th>20</th>\n",
              "      <td>20</td>\n",
              "      <td>2.0</td>\n",
              "      <td>0.8785</td>\n",
              "      <td>study, use, risk, group, high, patient, factor...</td>\n",
              "      <td>the aim: is to investigate the effect of doxor...</td>\n",
              "    </tr>\n",
              "    <tr>\n",
              "      <th>21</th>\n",
              "      <td>21</td>\n",
              "      <td>7.0</td>\n",
              "      <td>0.7992</td>\n",
              "      <td>patient, level, effect, use, increase, show, r...</td>\n",
              "      <td>the aim: to study the effect of different type...</td>\n",
              "    </tr>\n",
              "    <tr>\n",
              "      <th>22</th>\n",
              "      <td>22</td>\n",
              "      <td>8.0</td>\n",
              "      <td>0.5266</td>\n",
              "      <td>health, study, use, intervention, care, includ...</td>\n",
              "      <td>the aim: the sense of our research was to exam...</td>\n",
              "    </tr>\n",
              "    <tr>\n",
              "      <th>23</th>\n",
              "      <td>23</td>\n",
              "      <td>7.0</td>\n",
              "      <td>0.5140</td>\n",
              "      <td>patient, level, effect, use, increase, show, r...</td>\n",
              "      <td>the aim: the purpose of research is to improve...</td>\n",
              "    </tr>\n",
              "    <tr>\n",
              "      <th>24</th>\n",
              "      <td>24</td>\n",
              "      <td>3.0</td>\n",
              "      <td>0.9249</td>\n",
              "      <td>study, use, high, patient, model, datum, chang...</td>\n",
              "      <td>the aim: of our research work was to study the...</td>\n",
              "    </tr>\n",
              "    <tr>\n",
              "      <th>25</th>\n",
              "      <td>25</td>\n",
              "      <td>1.0</td>\n",
              "      <td>0.3889</td>\n",
              "      <td>patient, study, use, include, year, age, group...</td>\n",
              "      <td>the aim: the research was to evaluate the effe...</td>\n",
              "    </tr>\n",
              "    <tr>\n",
              "      <th>26</th>\n",
              "      <td>26</td>\n",
              "      <td>2.0</td>\n",
              "      <td>0.9819</td>\n",
              "      <td>study, use, risk, group, high, patient, factor...</td>\n",
              "      <td>the aim: of our study was to establish how the...</td>\n",
              "    </tr>\n",
              "    <tr>\n",
              "      <th>27</th>\n",
              "      <td>27</td>\n",
              "      <td>2.0</td>\n",
              "      <td>0.4419</td>\n",
              "      <td>study, use, risk, group, high, patient, factor...</td>\n",
              "      <td>the aim: analysis of electrocardiographic para...</td>\n",
              "    </tr>\n",
              "    <tr>\n",
              "      <th>28</th>\n",
              "      <td>28</td>\n",
              "      <td>2.0</td>\n",
              "      <td>0.6890</td>\n",
              "      <td>study, use, risk, group, high, patient, factor...</td>\n",
              "      <td>the aim: to find out whether or not the presen...</td>\n",
              "    </tr>\n",
              "    <tr>\n",
              "      <th>29</th>\n",
              "      <td>29</td>\n",
              "      <td>0.0</td>\n",
              "      <td>0.5373</td>\n",
              "      <td>patient, study, use, identify, result, test, a...</td>\n",
              "      <td>the aim: to establish the frequency structure ...</td>\n",
              "    </tr>\n",
              "  </tbody>\n",
              "</table>\n",
              "</div>\n",
              "      <button class=\"colab-df-convert\" onclick=\"convertToInteractive('df-828e5d24-5019-4178-81df-5c4c27f4ba6a')\"\n",
              "              title=\"Convert this dataframe to an interactive table.\"\n",
              "              style=\"display:none;\">\n",
              "        \n",
              "  <svg xmlns=\"http://www.w3.org/2000/svg\" height=\"24px\"viewBox=\"0 0 24 24\"\n",
              "       width=\"24px\">\n",
              "    <path d=\"M0 0h24v24H0V0z\" fill=\"none\"/>\n",
              "    <path d=\"M18.56 5.44l.94 2.06.94-2.06 2.06-.94-2.06-.94-.94-2.06-.94 2.06-2.06.94zm-11 1L8.5 8.5l.94-2.06 2.06-.94-2.06-.94L8.5 2.5l-.94 2.06-2.06.94zm10 10l.94 2.06.94-2.06 2.06-.94-2.06-.94-.94-2.06-.94 2.06-2.06.94z\"/><path d=\"M17.41 7.96l-1.37-1.37c-.4-.4-.92-.59-1.43-.59-.52 0-1.04.2-1.43.59L10.3 9.45l-7.72 7.72c-.78.78-.78 2.05 0 2.83L4 21.41c.39.39.9.59 1.41.59.51 0 1.02-.2 1.41-.59l7.78-7.78 2.81-2.81c.8-.78.8-2.07 0-2.86zM5.41 20L4 18.59l7.72-7.72 1.47 1.35L5.41 20z\"/>\n",
              "  </svg>\n",
              "      </button>\n",
              "      \n",
              "  <style>\n",
              "    .colab-df-container {\n",
              "      display:flex;\n",
              "      flex-wrap:wrap;\n",
              "      gap: 12px;\n",
              "    }\n",
              "\n",
              "    .colab-df-convert {\n",
              "      background-color: #E8F0FE;\n",
              "      border: none;\n",
              "      border-radius: 50%;\n",
              "      cursor: pointer;\n",
              "      display: none;\n",
              "      fill: #1967D2;\n",
              "      height: 32px;\n",
              "      padding: 0 0 0 0;\n",
              "      width: 32px;\n",
              "    }\n",
              "\n",
              "    .colab-df-convert:hover {\n",
              "      background-color: #E2EBFA;\n",
              "      box-shadow: 0px 1px 2px rgba(60, 64, 67, 0.3), 0px 1px 3px 1px rgba(60, 64, 67, 0.15);\n",
              "      fill: #174EA6;\n",
              "    }\n",
              "\n",
              "    [theme=dark] .colab-df-convert {\n",
              "      background-color: #3B4455;\n",
              "      fill: #D2E3FC;\n",
              "    }\n",
              "\n",
              "    [theme=dark] .colab-df-convert:hover {\n",
              "      background-color: #434B5C;\n",
              "      box-shadow: 0px 1px 3px 1px rgba(0, 0, 0, 0.15);\n",
              "      filter: drop-shadow(0px 1px 2px rgba(0, 0, 0, 0.3));\n",
              "      fill: #FFFFFF;\n",
              "    }\n",
              "  </style>\n",
              "\n",
              "      <script>\n",
              "        const buttonEl =\n",
              "          document.querySelector('#df-828e5d24-5019-4178-81df-5c4c27f4ba6a button.colab-df-convert');\n",
              "        buttonEl.style.display =\n",
              "          google.colab.kernel.accessAllowed ? 'block' : 'none';\n",
              "\n",
              "        async function convertToInteractive(key) {\n",
              "          const element = document.querySelector('#df-828e5d24-5019-4178-81df-5c4c27f4ba6a');\n",
              "          const dataTable =\n",
              "            await google.colab.kernel.invokeFunction('convertToInteractive',\n",
              "                                                     [key], {});\n",
              "          if (!dataTable) return;\n",
              "\n",
              "          const docLinkHtml = 'Like what you see? Visit the ' +\n",
              "            '<a target=\"_blank\" href=https://colab.research.google.com/notebooks/data_table.ipynb>data table notebook</a>'\n",
              "            + ' to learn more about interactive tables.';\n",
              "          element.innerHTML = '';\n",
              "          dataTable['output_type'] = 'display_data';\n",
              "          await google.colab.output.renderOutput(dataTable, element);\n",
              "          const docLink = document.createElement('div');\n",
              "          docLink.innerHTML = docLinkHtml;\n",
              "          element.appendChild(docLink);\n",
              "        }\n",
              "      </script>\n",
              "    </div>\n",
              "  </div>\n",
              "  "
            ]
          },
          "metadata": {},
          "execution_count": 107
        }
      ]
    },
    {
      "cell_type": "markdown",
      "source": [
        "# Find the most representative document for each topic.\n",
        "Sometimes just the topic keywords may not be enough to make sense of what a topic is about. So, to help with understanding the topic, you can find the documents a given topic has contributed to the most and infer the topic by reading that document."
      ],
      "metadata": {
        "id": "MrMqecyBMeKf"
      }
    },
    {
      "cell_type": "code",
      "source": [
        "\n",
        "# Group top 5 sentences under each topic\n",
        "sent_topics_sorteddf_mallet = pd.DataFrame()\n",
        "\n",
        "sent_topics_outdf_grpd = df_topic_sents_keywords.groupby('Dominant_Topic')\n",
        "\n",
        "for i, grp in sent_topics_outdf_grpd:\n",
        "    sent_topics_sorteddf_mallet = pd.concat([sent_topics_sorteddf_mallet, \n",
        "                                             grp.sort_values(['Perc_Contribution'], ascending=[0]).head(1)], \n",
        "                                            axis=0)\n",
        "\n",
        "# Reset Index    \n",
        "sent_topics_sorteddf_mallet.reset_index(drop=True, inplace=True)\n",
        "\n",
        "# Format\n",
        "sent_topics_sorteddf_mallet.columns = ['Topic_Num', \"Topic_Perc_Contrib\", \"Keywords\", \"Text\"]\n",
        "\n",
        "# Show\n",
        "sent_topics_sorteddf_mallet.head(10)"
      ],
      "metadata": {
        "colab": {
          "base_uri": "https://localhost:8080/",
          "height": 363
        },
        "id": "myZ88Tg1mb1y",
        "outputId": "10325114-04fc-4559-e19a-a5aea0c4869e"
      },
      "execution_count": null,
      "outputs": [
        {
          "output_type": "execute_result",
          "data": {
            "text/plain": [
              "   Topic_Num  Topic_Perc_Contrib  \\\n",
              "0        0.0              0.9940   \n",
              "1        1.0              0.9947   \n",
              "2        2.0              0.9959   \n",
              "3        3.0              0.9951   \n",
              "4        4.0              0.9937   \n",
              "5        5.0              0.9940   \n",
              "6        6.0              0.9931   \n",
              "7        7.0              0.9941   \n",
              "8        8.0              0.9947   \n",
              "9        9.0              0.9929   \n",
              "\n",
              "                                            Keywords  \\\n",
              "0  patient, study, use, identify, result, test, a...   \n",
              "1  patient, study, use, include, year, age, group...   \n",
              "2  study, use, risk, group, high, patient, factor...   \n",
              "3  study, use, high, patient, model, datum, chang...   \n",
              "4  use, study, base, model, method, cell, show, e...   \n",
              "5  protein, cell, study, treatment, show, high, u...   \n",
              "6  use, cell, protein, study, tumor, result, vacc...   \n",
              "7  patient, level, effect, use, increase, show, r...   \n",
              "8  health, study, use, intervention, care, includ...   \n",
              "9  group, patient, high, use, study, effect, low,...   \n",
              "\n",
              "                                                Text  \n",
              "0  background patients with adult congenital hear...  \n",
              "1  this study aimed to explore the clinical effic...  \n",
              "2  treatment inertia is a recognised barrier to b...  \n",
              "3  high-elevation grasslands worldwide provide es...  \n",
              "4  brain-machine interfaces (bmis) help the disab...  \n",
              "5  this study focuses on the processes occurring ...  \n",
              "6  most cancers become more dangerous by the outg...  \n",
              "7  owing to its aggressive biological behavior th...  \n",
              "8  to inform implementation and future research t...  \n",
              "9  to evaluate the efficacy of intravaginal elect...  "
            ],
            "text/html": [
              "\n",
              "  <div id=\"df-6fe44d28-2103-4a8d-ae70-8751f6b48cdd\">\n",
              "    <div class=\"colab-df-container\">\n",
              "      <div>\n",
              "<style scoped>\n",
              "    .dataframe tbody tr th:only-of-type {\n",
              "        vertical-align: middle;\n",
              "    }\n",
              "\n",
              "    .dataframe tbody tr th {\n",
              "        vertical-align: top;\n",
              "    }\n",
              "\n",
              "    .dataframe thead th {\n",
              "        text-align: right;\n",
              "    }\n",
              "</style>\n",
              "<table border=\"1\" class=\"dataframe\">\n",
              "  <thead>\n",
              "    <tr style=\"text-align: right;\">\n",
              "      <th></th>\n",
              "      <th>Topic_Num</th>\n",
              "      <th>Topic_Perc_Contrib</th>\n",
              "      <th>Keywords</th>\n",
              "      <th>Text</th>\n",
              "    </tr>\n",
              "  </thead>\n",
              "  <tbody>\n",
              "    <tr>\n",
              "      <th>0</th>\n",
              "      <td>0.0</td>\n",
              "      <td>0.9940</td>\n",
              "      <td>patient, study, use, identify, result, test, a...</td>\n",
              "      <td>background patients with adult congenital hear...</td>\n",
              "    </tr>\n",
              "    <tr>\n",
              "      <th>1</th>\n",
              "      <td>1.0</td>\n",
              "      <td>0.9947</td>\n",
              "      <td>patient, study, use, include, year, age, group...</td>\n",
              "      <td>this study aimed to explore the clinical effic...</td>\n",
              "    </tr>\n",
              "    <tr>\n",
              "      <th>2</th>\n",
              "      <td>2.0</td>\n",
              "      <td>0.9959</td>\n",
              "      <td>study, use, risk, group, high, patient, factor...</td>\n",
              "      <td>treatment inertia is a recognised barrier to b...</td>\n",
              "    </tr>\n",
              "    <tr>\n",
              "      <th>3</th>\n",
              "      <td>3.0</td>\n",
              "      <td>0.9951</td>\n",
              "      <td>study, use, high, patient, model, datum, chang...</td>\n",
              "      <td>high-elevation grasslands worldwide provide es...</td>\n",
              "    </tr>\n",
              "    <tr>\n",
              "      <th>4</th>\n",
              "      <td>4.0</td>\n",
              "      <td>0.9937</td>\n",
              "      <td>use, study, base, model, method, cell, show, e...</td>\n",
              "      <td>brain-machine interfaces (bmis) help the disab...</td>\n",
              "    </tr>\n",
              "    <tr>\n",
              "      <th>5</th>\n",
              "      <td>5.0</td>\n",
              "      <td>0.9940</td>\n",
              "      <td>protein, cell, study, treatment, show, high, u...</td>\n",
              "      <td>this study focuses on the processes occurring ...</td>\n",
              "    </tr>\n",
              "    <tr>\n",
              "      <th>6</th>\n",
              "      <td>6.0</td>\n",
              "      <td>0.9931</td>\n",
              "      <td>use, cell, protein, study, tumor, result, vacc...</td>\n",
              "      <td>most cancers become more dangerous by the outg...</td>\n",
              "    </tr>\n",
              "    <tr>\n",
              "      <th>7</th>\n",
              "      <td>7.0</td>\n",
              "      <td>0.9941</td>\n",
              "      <td>patient, level, effect, use, increase, show, r...</td>\n",
              "      <td>owing to its aggressive biological behavior th...</td>\n",
              "    </tr>\n",
              "    <tr>\n",
              "      <th>8</th>\n",
              "      <td>8.0</td>\n",
              "      <td>0.9947</td>\n",
              "      <td>health, study, use, intervention, care, includ...</td>\n",
              "      <td>to inform implementation and future research t...</td>\n",
              "    </tr>\n",
              "    <tr>\n",
              "      <th>9</th>\n",
              "      <td>9.0</td>\n",
              "      <td>0.9929</td>\n",
              "      <td>group, patient, high, use, study, effect, low,...</td>\n",
              "      <td>to evaluate the efficacy of intravaginal elect...</td>\n",
              "    </tr>\n",
              "  </tbody>\n",
              "</table>\n",
              "</div>\n",
              "      <button class=\"colab-df-convert\" onclick=\"convertToInteractive('df-6fe44d28-2103-4a8d-ae70-8751f6b48cdd')\"\n",
              "              title=\"Convert this dataframe to an interactive table.\"\n",
              "              style=\"display:none;\">\n",
              "        \n",
              "  <svg xmlns=\"http://www.w3.org/2000/svg\" height=\"24px\"viewBox=\"0 0 24 24\"\n",
              "       width=\"24px\">\n",
              "    <path d=\"M0 0h24v24H0V0z\" fill=\"none\"/>\n",
              "    <path d=\"M18.56 5.44l.94 2.06.94-2.06 2.06-.94-2.06-.94-.94-2.06-.94 2.06-2.06.94zm-11 1L8.5 8.5l.94-2.06 2.06-.94-2.06-.94L8.5 2.5l-.94 2.06-2.06.94zm10 10l.94 2.06.94-2.06 2.06-.94-2.06-.94-.94-2.06-.94 2.06-2.06.94z\"/><path d=\"M17.41 7.96l-1.37-1.37c-.4-.4-.92-.59-1.43-.59-.52 0-1.04.2-1.43.59L10.3 9.45l-7.72 7.72c-.78.78-.78 2.05 0 2.83L4 21.41c.39.39.9.59 1.41.59.51 0 1.02-.2 1.41-.59l7.78-7.78 2.81-2.81c.8-.78.8-2.07 0-2.86zM5.41 20L4 18.59l7.72-7.72 1.47 1.35L5.41 20z\"/>\n",
              "  </svg>\n",
              "      </button>\n",
              "      \n",
              "  <style>\n",
              "    .colab-df-container {\n",
              "      display:flex;\n",
              "      flex-wrap:wrap;\n",
              "      gap: 12px;\n",
              "    }\n",
              "\n",
              "    .colab-df-convert {\n",
              "      background-color: #E8F0FE;\n",
              "      border: none;\n",
              "      border-radius: 50%;\n",
              "      cursor: pointer;\n",
              "      display: none;\n",
              "      fill: #1967D2;\n",
              "      height: 32px;\n",
              "      padding: 0 0 0 0;\n",
              "      width: 32px;\n",
              "    }\n",
              "\n",
              "    .colab-df-convert:hover {\n",
              "      background-color: #E2EBFA;\n",
              "      box-shadow: 0px 1px 2px rgba(60, 64, 67, 0.3), 0px 1px 3px 1px rgba(60, 64, 67, 0.15);\n",
              "      fill: #174EA6;\n",
              "    }\n",
              "\n",
              "    [theme=dark] .colab-df-convert {\n",
              "      background-color: #3B4455;\n",
              "      fill: #D2E3FC;\n",
              "    }\n",
              "\n",
              "    [theme=dark] .colab-df-convert:hover {\n",
              "      background-color: #434B5C;\n",
              "      box-shadow: 0px 1px 3px 1px rgba(0, 0, 0, 0.15);\n",
              "      filter: drop-shadow(0px 1px 2px rgba(0, 0, 0, 0.3));\n",
              "      fill: #FFFFFF;\n",
              "    }\n",
              "  </style>\n",
              "\n",
              "      <script>\n",
              "        const buttonEl =\n",
              "          document.querySelector('#df-6fe44d28-2103-4a8d-ae70-8751f6b48cdd button.colab-df-convert');\n",
              "        buttonEl.style.display =\n",
              "          google.colab.kernel.accessAllowed ? 'block' : 'none';\n",
              "\n",
              "        async function convertToInteractive(key) {\n",
              "          const element = document.querySelector('#df-6fe44d28-2103-4a8d-ae70-8751f6b48cdd');\n",
              "          const dataTable =\n",
              "            await google.colab.kernel.invokeFunction('convertToInteractive',\n",
              "                                                     [key], {});\n",
              "          if (!dataTable) return;\n",
              "\n",
              "          const docLinkHtml = 'Like what you see? Visit the ' +\n",
              "            '<a target=\"_blank\" href=https://colab.research.google.com/notebooks/data_table.ipynb>data table notebook</a>'\n",
              "            + ' to learn more about interactive tables.';\n",
              "          element.innerHTML = '';\n",
              "          dataTable['output_type'] = 'display_data';\n",
              "          await google.colab.output.renderOutput(dataTable, element);\n",
              "          const docLink = document.createElement('div');\n",
              "          docLink.innerHTML = docLinkHtml;\n",
              "          element.appendChild(docLink);\n",
              "        }\n",
              "      </script>\n",
              "    </div>\n",
              "  </div>\n",
              "  "
            ]
          },
          "metadata": {},
          "execution_count": 93
        }
      ]
    },
    {
      "cell_type": "code",
      "source": [
        ""
      ],
      "metadata": {
        "id": "ETMvYhe1DhLW"
      },
      "execution_count": null,
      "outputs": []
    }
  ]
}